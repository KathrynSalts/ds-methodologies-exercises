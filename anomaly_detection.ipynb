{
 "cells": [
  {
   "cell_type": "markdown",
   "metadata": {},
   "source": [
    "# Anomaly Detection"
   ]
  },
  {
   "cell_type": "code",
   "execution_count": 1,
   "metadata": {},
   "outputs": [],
   "source": [
    "from __future__ import division\n",
    "import itertools\n",
    "import warnings\n",
    "warnings.filterwarnings(\"ignore\")\n",
    "import matplotlib.pyplot as plt\n",
    "import matplotlib.dates as mdates\n",
    "import numpy as np\n",
    "import pandas as pd\n",
    "import math\n",
    "from sklearn import metrics\n",
    "from random import randint\n",
    "from matplotlib import style\n",
    "import seaborn as sns\n",
    "%matplotlib inline"
   ]
  },
  {
   "cell_type": "code",
   "execution_count": 2,
   "metadata": {},
   "outputs": [],
   "source": [
    "def evaluate(actual, predictions, output=True):\n",
    "    mse = metrics.mean_squared_error(actual, predictions)\n",
    "    rmse = math.sqrt(mse)\n",
    "\n",
    "    if output:\n",
    "        print('MSE:  {}'.format(mse))\n",
    "        print('RMSE: {}'.format(rmse))\n",
    "    else:\n",
    "        return mse, rmse    \n",
    "\n",
    "def plot_and_eval(predictions, actual, metric_fmt='{:.2f}', linewidth=4):\n",
    "    if type(predictions) is not list:\n",
    "        predictions = [predictions]\n",
    "\n",
    "    plt.figure(figsize=(16, 8))\n",
    "    plt.plot(train,label='Train')\n",
    "    plt.plot(test, label='Test')\n",
    "\n",
    "    for yhat in predictions:\n",
    "        mse, rmse = evaluate(actual, yhat, output=False)        \n",
    "        label = f'{yhat.name}'\n",
    "        if len(predictions) > 1:\n",
    "            label = f'{label} -- MSE: {metric_fmt} RMSE: {metric_fmt}'.format(mse, rmse)\n",
    "        plt.plot(yhat, label=label, linewidth=linewidth)\n",
    "\n",
    "    if len(predictions) == 1:\n",
    "        label = f'{label} -- MSE: {metric_fmt} RMSE: {metric_fmt}'.format(mse, rmse)\n",
    "        plt.title(label)\n",
    "\n",
    "    plt.legend(loc='best')\n",
    "    plt.show()    "
   ]
  },
  {
   "cell_type": "markdown",
   "metadata": {},
   "source": [
    "# Discrete data + probability"
   ]
  },
  {
   "cell_type": "code",
   "execution_count": 3,
   "metadata": {},
   "outputs": [],
   "source": [
    "colnames=['ip', 'timestamp', 'request_method', 'status', 'size',\n",
    "          'destination', 'request_agent']\n",
    "df_orig = pd.read_csv('http://python.zach.lol/access.log',          \n",
    "                 engine='python',\n",
    "                 header=None,\n",
    "                 index_col=False,\n",
    "                 names=colnames,\n",
    "                 sep=r'\\s(?=(?:[^\"]*\"[^\"]*\")*[^\"]*$)(?![^\\[]*\\])',\n",
    "                 na_values='\"-\"',\n",
    "                 usecols=[0, 3, 4, 5, 6, 7, 8]\n",
    ")\n",
    "\n",
    "new = pd.DataFrame([[\"95.31.18.119\", \"[21/Apr/2019:10:02:41+0000]\", \n",
    "                     \"GET /api/v1/items/HTTP/1.1\", 200, 1153005, np.nan, \n",
    "                     \"python-requests/2.21.0\"],\n",
    "                    [\"95.31.16.121\", \"[17/Apr/2019:19:36:41+0000]\", \n",
    "                     \"GET /api/v1/sales?page=79/HTTP/1.1\", 301, 1005, np.nan, \n",
    "                     \"python-requests/2.21.0\"],\n",
    "                    [\"97.105.15.120\", \"[18/Apr/2019:19:42:41+0000]\", \n",
    "                     \"GET /api/v1/sales?page=79/HTTP/1.1\", 301, 2560, np.nan, \n",
    "                     \"python-requests/2.21.0\"],\n",
    "                    [\"97.105.19.58\", \"[19/Apr/2019:19:42:41+0000]\", \n",
    "                     \"GET /api/v1/sales?page=79/HTTP/1.1\", 200, 2056327, np.nan, \n",
    "                     \"python-requests/2.21.0\"]], columns=colnames)\n",
    "\n",
    "df = df_orig.append(new)"
   ]
  },
  {
   "cell_type": "code",
   "execution_count": 4,
   "metadata": {},
   "outputs": [
    {
     "data": {
      "text/html": [
       "<div>\n",
       "<style scoped>\n",
       "    .dataframe tbody tr th:only-of-type {\n",
       "        vertical-align: middle;\n",
       "    }\n",
       "\n",
       "    .dataframe tbody tr th {\n",
       "        vertical-align: top;\n",
       "    }\n",
       "\n",
       "    .dataframe thead th {\n",
       "        text-align: right;\n",
       "    }\n",
       "</style>\n",
       "<table border=\"1\" class=\"dataframe\">\n",
       "  <thead>\n",
       "    <tr style=\"text-align: right;\">\n",
       "      <th></th>\n",
       "      <th>ip</th>\n",
       "      <th>timestamp</th>\n",
       "      <th>request_method</th>\n",
       "      <th>status</th>\n",
       "      <th>size</th>\n",
       "      <th>destination</th>\n",
       "      <th>request_agent</th>\n",
       "    </tr>\n",
       "  </thead>\n",
       "  <tbody>\n",
       "    <tr>\n",
       "      <th>0</th>\n",
       "      <td>97.105.19.58</td>\n",
       "      <td>[16/Apr/2019:19:34:42 +0000]</td>\n",
       "      <td>\"GET /api/v1/sales?page=81 HTTP/1.1\"</td>\n",
       "      <td>200</td>\n",
       "      <td>512495</td>\n",
       "      <td>NaN</td>\n",
       "      <td>\"python-requests/2.21.0\"</td>\n",
       "    </tr>\n",
       "    <tr>\n",
       "      <th>1</th>\n",
       "      <td>97.105.19.58</td>\n",
       "      <td>[16/Apr/2019:19:34:42 +0000]</td>\n",
       "      <td>\"GET /api/v1/items HTTP/1.1\"</td>\n",
       "      <td>200</td>\n",
       "      <td>3561</td>\n",
       "      <td>NaN</td>\n",
       "      <td>\"python-requests/2.21.0\"</td>\n",
       "    </tr>\n",
       "    <tr>\n",
       "      <th>2</th>\n",
       "      <td>97.105.19.58</td>\n",
       "      <td>[16/Apr/2019:19:34:44 +0000]</td>\n",
       "      <td>\"GET /api/v1/sales?page=82 HTTP/1.1\"</td>\n",
       "      <td>200</td>\n",
       "      <td>510103</td>\n",
       "      <td>NaN</td>\n",
       "      <td>\"python-requests/2.21.0\"</td>\n",
       "    </tr>\n",
       "    <tr>\n",
       "      <th>3</th>\n",
       "      <td>97.105.19.58</td>\n",
       "      <td>[16/Apr/2019:19:34:46 +0000]</td>\n",
       "      <td>\"GET /api/v1/sales?page=83 HTTP/1.1\"</td>\n",
       "      <td>200</td>\n",
       "      <td>510003</td>\n",
       "      <td>NaN</td>\n",
       "      <td>\"python-requests/2.21.0\"</td>\n",
       "    </tr>\n",
       "    <tr>\n",
       "      <th>4</th>\n",
       "      <td>97.105.19.58</td>\n",
       "      <td>[16/Apr/2019:19:34:48 +0000]</td>\n",
       "      <td>\"GET /api/v1/sales?page=84 HTTP/1.1\"</td>\n",
       "      <td>200</td>\n",
       "      <td>511963</td>\n",
       "      <td>NaN</td>\n",
       "      <td>\"python-requests/2.21.0\"</td>\n",
       "    </tr>\n",
       "  </tbody>\n",
       "</table>\n",
       "</div>"
      ],
      "text/plain": [
       "             ip                     timestamp  \\\n",
       "0  97.105.19.58  [16/Apr/2019:19:34:42 +0000]   \n",
       "1  97.105.19.58  [16/Apr/2019:19:34:42 +0000]   \n",
       "2  97.105.19.58  [16/Apr/2019:19:34:44 +0000]   \n",
       "3  97.105.19.58  [16/Apr/2019:19:34:46 +0000]   \n",
       "4  97.105.19.58  [16/Apr/2019:19:34:48 +0000]   \n",
       "\n",
       "                         request_method  status    size destination  \\\n",
       "0  \"GET /api/v1/sales?page=81 HTTP/1.1\"     200  512495         NaN   \n",
       "1          \"GET /api/v1/items HTTP/1.1\"     200    3561         NaN   \n",
       "2  \"GET /api/v1/sales?page=82 HTTP/1.1\"     200  510103         NaN   \n",
       "3  \"GET /api/v1/sales?page=83 HTTP/1.1\"     200  510003         NaN   \n",
       "4  \"GET /api/v1/sales?page=84 HTTP/1.1\"     200  511963         NaN   \n",
       "\n",
       "              request_agent  \n",
       "0  \"python-requests/2.21.0\"  \n",
       "1  \"python-requests/2.21.0\"  \n",
       "2  \"python-requests/2.21.0\"  \n",
       "3  \"python-requests/2.21.0\"  \n",
       "4  \"python-requests/2.21.0\"  "
      ]
     },
     "execution_count": 4,
     "metadata": {},
     "output_type": "execute_result"
    }
   ],
   "source": [
    "df.head()"
   ]
  },
  {
   "cell_type": "code",
   "execution_count": 5,
   "metadata": {},
   "outputs": [],
   "source": [
    "df.timestamp = df.timestamp.str.replace(r'(\\[|\\])', '', regex=True)"
   ]
  },
  {
   "cell_type": "code",
   "execution_count": 6,
   "metadata": {},
   "outputs": [
    {
     "data": {
      "text/plain": [
       "0    16/Apr/2019:19:34:42 +0000\n",
       "1    16/Apr/2019:19:34:42 +0000\n",
       "2    16/Apr/2019:19:34:44 +0000\n",
       "3    16/Apr/2019:19:34:46 +0000\n",
       "4    16/Apr/2019:19:34:48 +0000\n",
       "Name: timestamp, dtype: object"
      ]
     },
     "execution_count": 6,
     "metadata": {},
     "output_type": "execute_result"
    }
   ],
   "source": [
    "#brackets removed from timestamp\n",
    "df.timestamp.head()"
   ]
  },
  {
   "cell_type": "code",
   "execution_count": 7,
   "metadata": {},
   "outputs": [],
   "source": [
    "df.timestamp= pd.to_datetime(df.timestamp.str.replace(':', ' ', 1)) "
   ]
  },
  {
   "cell_type": "code",
   "execution_count": 8,
   "metadata": {},
   "outputs": [
    {
     "data": {
      "text/plain": [
       "0   2019-04-16 19:34:42\n",
       "1   2019-04-16 19:34:42\n",
       "2   2019-04-16 19:34:44\n",
       "3   2019-04-16 19:34:46\n",
       "4   2019-04-16 19:34:48\n",
       "Name: timestamp, dtype: datetime64[ns]"
      ]
     },
     "execution_count": 8,
     "metadata": {},
     "output_type": "execute_result"
    }
   ],
   "source": [
    "#removed first instance of ':' on each line and made datetime\n",
    "df.timestamp.head()"
   ]
  },
  {
   "cell_type": "code",
   "execution_count": 9,
   "metadata": {},
   "outputs": [],
   "source": [
    "#set timestamp as index\n",
    "df = df.set_index('timestamp')"
   ]
  },
  {
   "cell_type": "code",
   "execution_count": 10,
   "metadata": {},
   "outputs": [
    {
     "data": {
      "text/html": [
       "<div>\n",
       "<style scoped>\n",
       "    .dataframe tbody tr th:only-of-type {\n",
       "        vertical-align: middle;\n",
       "    }\n",
       "\n",
       "    .dataframe tbody tr th {\n",
       "        vertical-align: top;\n",
       "    }\n",
       "\n",
       "    .dataframe thead th {\n",
       "        text-align: right;\n",
       "    }\n",
       "</style>\n",
       "<table border=\"1\" class=\"dataframe\">\n",
       "  <thead>\n",
       "    <tr style=\"text-align: right;\">\n",
       "      <th></th>\n",
       "      <th>ip</th>\n",
       "      <th>request_method</th>\n",
       "      <th>status</th>\n",
       "      <th>size</th>\n",
       "      <th>destination</th>\n",
       "      <th>request_agent</th>\n",
       "    </tr>\n",
       "    <tr>\n",
       "      <th>timestamp</th>\n",
       "      <th></th>\n",
       "      <th></th>\n",
       "      <th></th>\n",
       "      <th></th>\n",
       "      <th></th>\n",
       "      <th></th>\n",
       "    </tr>\n",
       "  </thead>\n",
       "  <tbody>\n",
       "    <tr>\n",
       "      <th>2019-04-16 19:34:42</th>\n",
       "      <td>97.105.19.58</td>\n",
       "      <td>\"GET /api/v1/sales?page=81 HTTP/1.1\"</td>\n",
       "      <td>200</td>\n",
       "      <td>512495</td>\n",
       "      <td>NaN</td>\n",
       "      <td>\"python-requests/2.21.0\"</td>\n",
       "    </tr>\n",
       "    <tr>\n",
       "      <th>2019-04-16 19:34:42</th>\n",
       "      <td>97.105.19.58</td>\n",
       "      <td>\"GET /api/v1/items HTTP/1.1\"</td>\n",
       "      <td>200</td>\n",
       "      <td>3561</td>\n",
       "      <td>NaN</td>\n",
       "      <td>\"python-requests/2.21.0\"</td>\n",
       "    </tr>\n",
       "    <tr>\n",
       "      <th>2019-04-16 19:34:44</th>\n",
       "      <td>97.105.19.58</td>\n",
       "      <td>\"GET /api/v1/sales?page=82 HTTP/1.1\"</td>\n",
       "      <td>200</td>\n",
       "      <td>510103</td>\n",
       "      <td>NaN</td>\n",
       "      <td>\"python-requests/2.21.0\"</td>\n",
       "    </tr>\n",
       "    <tr>\n",
       "      <th>2019-04-16 19:34:46</th>\n",
       "      <td>97.105.19.58</td>\n",
       "      <td>\"GET /api/v1/sales?page=83 HTTP/1.1\"</td>\n",
       "      <td>200</td>\n",
       "      <td>510003</td>\n",
       "      <td>NaN</td>\n",
       "      <td>\"python-requests/2.21.0\"</td>\n",
       "    </tr>\n",
       "    <tr>\n",
       "      <th>2019-04-16 19:34:48</th>\n",
       "      <td>97.105.19.58</td>\n",
       "      <td>\"GET /api/v1/sales?page=84 HTTP/1.1\"</td>\n",
       "      <td>200</td>\n",
       "      <td>511963</td>\n",
       "      <td>NaN</td>\n",
       "      <td>\"python-requests/2.21.0\"</td>\n",
       "    </tr>\n",
       "  </tbody>\n",
       "</table>\n",
       "</div>"
      ],
      "text/plain": [
       "                               ip                        request_method  \\\n",
       "timestamp                                                                 \n",
       "2019-04-16 19:34:42  97.105.19.58  \"GET /api/v1/sales?page=81 HTTP/1.1\"   \n",
       "2019-04-16 19:34:42  97.105.19.58          \"GET /api/v1/items HTTP/1.1\"   \n",
       "2019-04-16 19:34:44  97.105.19.58  \"GET /api/v1/sales?page=82 HTTP/1.1\"   \n",
       "2019-04-16 19:34:46  97.105.19.58  \"GET /api/v1/sales?page=83 HTTP/1.1\"   \n",
       "2019-04-16 19:34:48  97.105.19.58  \"GET /api/v1/sales?page=84 HTTP/1.1\"   \n",
       "\n",
       "                     status    size destination             request_agent  \n",
       "timestamp                                                                  \n",
       "2019-04-16 19:34:42     200  512495         NaN  \"python-requests/2.21.0\"  \n",
       "2019-04-16 19:34:42     200    3561         NaN  \"python-requests/2.21.0\"  \n",
       "2019-04-16 19:34:44     200  510103         NaN  \"python-requests/2.21.0\"  \n",
       "2019-04-16 19:34:46     200  510003         NaN  \"python-requests/2.21.0\"  \n",
       "2019-04-16 19:34:48     200  511963         NaN  \"python-requests/2.21.0\"  "
      ]
     },
     "execution_count": 10,
     "metadata": {},
     "output_type": "execute_result"
    }
   ],
   "source": [
    "df.head()"
   ]
  },
  {
   "cell_type": "code",
   "execution_count": 11,
   "metadata": {},
   "outputs": [],
   "source": [
    "#clean up columns\n",
    "for col in ['request_method', 'request_agent', 'destination']:\n",
    "    df[col] = df[col].str.replace('\"', '')"
   ]
  },
  {
   "cell_type": "code",
   "execution_count": 12,
   "metadata": {},
   "outputs": [
    {
     "data": {
      "text/plain": [
       "array([nan, 'https://python.zach.lol/api/V1/HiZach!',\n",
       "       'https://python.zach.lol/api/v1/stores?page=0',\n",
       "       'https://python.zach.lol/api/v1/stores?page=1',\n",
       "       'https://python.zach.lol/api/v1/stores?page=2',\n",
       "       'https://python.zach.lol/api/v1/stores?page=999',\n",
       "       'https://python.zach.lol/api/v1/items?page=0',\n",
       "       'http://localhost:8889/notebooks/timeseries_acquisition.ipynb',\n",
       "       'https://python.zach.lol/api/v1//api/v1/items?page=2',\n",
       "       'https://python.zach.lol/api/v1//api/v1/items',\n",
       "       'https://python.zach.lol/api/v1//api/v1/items/next_page',\n",
       "       'https://python.zach.lol/api/v1/helloclass!',\n",
       "       'https://python.zach.lol/api/v1/I_DIDNT_DO_IT!!!!',\n",
       "       'http://localhost:8888/notebooks/acquire.ipynb',\n",
       "       'https://python.zach.lol/api/v1/sales?page=3',\n",
       "       'https://ds.codeup.com/8.3_Acquire/', 'https://python.zach.lol/',\n",
       "       'https://python.zach.lol/api/v1/items',\n",
       "       'https://python.zach.lol/api/v1/'], dtype=object)"
      ]
     },
     "execution_count": 12,
     "metadata": {},
     "output_type": "execute_result"
    }
   ],
   "source": [
    "df.destination.unique()"
   ]
  },
  {
   "cell_type": "code",
   "execution_count": 13,
   "metadata": {},
   "outputs": [],
   "source": [
    "df['destination'] = df.destination.str.replace(r'\\?page=[0-9]+', '', regex=True)"
   ]
  },
  {
   "cell_type": "code",
   "execution_count": 14,
   "metadata": {},
   "outputs": [
    {
     "data": {
      "text/plain": [
       "array([nan, 'https://python.zach.lol/api/V1/HiZach!',\n",
       "       'https://python.zach.lol/api/v1/stores',\n",
       "       'https://python.zach.lol/api/v1/items',\n",
       "       'http://localhost:8889/notebooks/timeseries_acquisition.ipynb',\n",
       "       'https://python.zach.lol/api/v1//api/v1/items',\n",
       "       'https://python.zach.lol/api/v1//api/v1/items/next_page',\n",
       "       'https://python.zach.lol/api/v1/helloclass!',\n",
       "       'https://python.zach.lol/api/v1/I_DIDNT_DO_IT!!!!',\n",
       "       'http://localhost:8888/notebooks/acquire.ipynb',\n",
       "       'https://python.zach.lol/api/v1/sales',\n",
       "       'https://ds.codeup.com/8.3_Acquire/', 'https://python.zach.lol/',\n",
       "       'https://python.zach.lol/api/v1/'], dtype=object)"
      ]
     },
     "execution_count": 14,
     "metadata": {},
     "output_type": "execute_result"
    }
   ],
   "source": [
    "df.destination.unique()"
   ]
  },
  {
   "cell_type": "code",
   "execution_count": 15,
   "metadata": {},
   "outputs": [],
   "source": [
    "#converting bytes to mb\n",
    "df['size_mb'] = [n/1024/1024 for n in df['size']]"
   ]
  },
  {
   "cell_type": "code",
   "execution_count": 16,
   "metadata": {},
   "outputs": [
    {
     "data": {
      "text/html": [
       "<div>\n",
       "<style scoped>\n",
       "    .dataframe tbody tr th:only-of-type {\n",
       "        vertical-align: middle;\n",
       "    }\n",
       "\n",
       "    .dataframe tbody tr th {\n",
       "        vertical-align: top;\n",
       "    }\n",
       "\n",
       "    .dataframe thead th {\n",
       "        text-align: right;\n",
       "    }\n",
       "</style>\n",
       "<table border=\"1\" class=\"dataframe\">\n",
       "  <thead>\n",
       "    <tr style=\"text-align: right;\">\n",
       "      <th></th>\n",
       "      <th>ip</th>\n",
       "      <th>request_method</th>\n",
       "      <th>status</th>\n",
       "      <th>size</th>\n",
       "      <th>destination</th>\n",
       "      <th>request_agent</th>\n",
       "      <th>size_mb</th>\n",
       "    </tr>\n",
       "    <tr>\n",
       "      <th>timestamp</th>\n",
       "      <th></th>\n",
       "      <th></th>\n",
       "      <th></th>\n",
       "      <th></th>\n",
       "      <th></th>\n",
       "      <th></th>\n",
       "      <th></th>\n",
       "    </tr>\n",
       "  </thead>\n",
       "  <tbody>\n",
       "    <tr>\n",
       "      <th>2019-04-16 19:34:42</th>\n",
       "      <td>97.105.19.58</td>\n",
       "      <td>GET /api/v1/sales?page=81 HTTP/1.1</td>\n",
       "      <td>200</td>\n",
       "      <td>512495</td>\n",
       "      <td>NaN</td>\n",
       "      <td>python-requests/2.21.0</td>\n",
       "      <td>0.488753</td>\n",
       "    </tr>\n",
       "    <tr>\n",
       "      <th>2019-04-16 19:34:42</th>\n",
       "      <td>97.105.19.58</td>\n",
       "      <td>GET /api/v1/items HTTP/1.1</td>\n",
       "      <td>200</td>\n",
       "      <td>3561</td>\n",
       "      <td>NaN</td>\n",
       "      <td>python-requests/2.21.0</td>\n",
       "      <td>0.003396</td>\n",
       "    </tr>\n",
       "    <tr>\n",
       "      <th>2019-04-16 19:34:44</th>\n",
       "      <td>97.105.19.58</td>\n",
       "      <td>GET /api/v1/sales?page=82 HTTP/1.1</td>\n",
       "      <td>200</td>\n",
       "      <td>510103</td>\n",
       "      <td>NaN</td>\n",
       "      <td>python-requests/2.21.0</td>\n",
       "      <td>0.486472</td>\n",
       "    </tr>\n",
       "    <tr>\n",
       "      <th>2019-04-16 19:34:46</th>\n",
       "      <td>97.105.19.58</td>\n",
       "      <td>GET /api/v1/sales?page=83 HTTP/1.1</td>\n",
       "      <td>200</td>\n",
       "      <td>510003</td>\n",
       "      <td>NaN</td>\n",
       "      <td>python-requests/2.21.0</td>\n",
       "      <td>0.486377</td>\n",
       "    </tr>\n",
       "    <tr>\n",
       "      <th>2019-04-16 19:34:48</th>\n",
       "      <td>97.105.19.58</td>\n",
       "      <td>GET /api/v1/sales?page=84 HTTP/1.1</td>\n",
       "      <td>200</td>\n",
       "      <td>511963</td>\n",
       "      <td>NaN</td>\n",
       "      <td>python-requests/2.21.0</td>\n",
       "      <td>0.488246</td>\n",
       "    </tr>\n",
       "  </tbody>\n",
       "</table>\n",
       "</div>"
      ],
      "text/plain": [
       "                               ip                      request_method  status  \\\n",
       "timestamp                                                                       \n",
       "2019-04-16 19:34:42  97.105.19.58  GET /api/v1/sales?page=81 HTTP/1.1     200   \n",
       "2019-04-16 19:34:42  97.105.19.58          GET /api/v1/items HTTP/1.1     200   \n",
       "2019-04-16 19:34:44  97.105.19.58  GET /api/v1/sales?page=82 HTTP/1.1     200   \n",
       "2019-04-16 19:34:46  97.105.19.58  GET /api/v1/sales?page=83 HTTP/1.1     200   \n",
       "2019-04-16 19:34:48  97.105.19.58  GET /api/v1/sales?page=84 HTTP/1.1     200   \n",
       "\n",
       "                       size destination           request_agent   size_mb  \n",
       "timestamp                                                                  \n",
       "2019-04-16 19:34:42  512495         NaN  python-requests/2.21.0  0.488753  \n",
       "2019-04-16 19:34:42    3561         NaN  python-requests/2.21.0  0.003396  \n",
       "2019-04-16 19:34:44  510103         NaN  python-requests/2.21.0  0.486472  \n",
       "2019-04-16 19:34:46  510003         NaN  python-requests/2.21.0  0.486377  \n",
       "2019-04-16 19:34:48  511963         NaN  python-requests/2.21.0  0.488246  "
      ]
     },
     "execution_count": 16,
     "metadata": {},
     "output_type": "execute_result"
    }
   ],
   "source": [
    "df.head()"
   ]
  },
  {
   "cell_type": "markdown",
   "metadata": {},
   "source": [
    "### Finding anomalies in already existing data"
   ]
  },
  {
   "cell_type": "code",
   "execution_count": 17,
   "metadata": {},
   "outputs": [],
   "source": [
    "dest_df = pd.DataFrame(df.destination.value_counts(dropna=False)).reset_index().\\\n",
    "                rename(index=str, columns={'index': 'destination', 'destination': 'destination_count'})\n",
    "dest_df2 = pd.DataFrame(df.destination.value_counts(dropna=False)/df.destination.count()).reset_index().\\\n",
    "                rename(index=str, columns={'index': 'destination', 'destination': 'destination_proba'})\n",
    "dest_df = dest_df.merge(dest_df2)"
   ]
  },
  {
   "cell_type": "code",
   "execution_count": 18,
   "metadata": {},
   "outputs": [
    {
     "data": {
      "text/html": [
       "<div>\n",
       "<style scoped>\n",
       "    .dataframe tbody tr th:only-of-type {\n",
       "        vertical-align: middle;\n",
       "    }\n",
       "\n",
       "    .dataframe tbody tr th {\n",
       "        vertical-align: top;\n",
       "    }\n",
       "\n",
       "    .dataframe thead th {\n",
       "        text-align: right;\n",
       "    }\n",
       "</style>\n",
       "<table border=\"1\" class=\"dataframe\">\n",
       "  <thead>\n",
       "    <tr style=\"text-align: right;\">\n",
       "      <th></th>\n",
       "      <th>destination</th>\n",
       "      <th>destination_count</th>\n",
       "      <th>destination_proba</th>\n",
       "    </tr>\n",
       "  </thead>\n",
       "  <tbody>\n",
       "    <tr>\n",
       "      <th>0</th>\n",
       "      <td>NaN</td>\n",
       "      <td>13953</td>\n",
       "      <td>558.12</td>\n",
       "    </tr>\n",
       "    <tr>\n",
       "      <th>1</th>\n",
       "      <td>https://python.zach.lol/api/v1/stores</td>\n",
       "      <td>5</td>\n",
       "      <td>0.20</td>\n",
       "    </tr>\n",
       "    <tr>\n",
       "      <th>2</th>\n",
       "      <td>https://python.zach.lol/</td>\n",
       "      <td>4</td>\n",
       "      <td>0.16</td>\n",
       "    </tr>\n",
       "    <tr>\n",
       "      <th>3</th>\n",
       "      <td>https://ds.codeup.com/8.3_Acquire/</td>\n",
       "      <td>3</td>\n",
       "      <td>0.12</td>\n",
       "    </tr>\n",
       "    <tr>\n",
       "      <th>4</th>\n",
       "      <td>https://python.zach.lol/api/v1/</td>\n",
       "      <td>2</td>\n",
       "      <td>0.08</td>\n",
       "    </tr>\n",
       "    <tr>\n",
       "      <th>5</th>\n",
       "      <td>https://python.zach.lol/api/v1//api/v1/items</td>\n",
       "      <td>2</td>\n",
       "      <td>0.08</td>\n",
       "    </tr>\n",
       "    <tr>\n",
       "      <th>6</th>\n",
       "      <td>https://python.zach.lol/api/v1/items</td>\n",
       "      <td>2</td>\n",
       "      <td>0.08</td>\n",
       "    </tr>\n",
       "    <tr>\n",
       "      <th>7</th>\n",
       "      <td>https://python.zach.lol/api/v1/sales</td>\n",
       "      <td>1</td>\n",
       "      <td>0.04</td>\n",
       "    </tr>\n",
       "    <tr>\n",
       "      <th>8</th>\n",
       "      <td>https://python.zach.lol/api/v1/I_DIDNT_DO_IT!!!!</td>\n",
       "      <td>1</td>\n",
       "      <td>0.04</td>\n",
       "    </tr>\n",
       "    <tr>\n",
       "      <th>9</th>\n",
       "      <td>https://python.zach.lol/api/v1/helloclass!</td>\n",
       "      <td>1</td>\n",
       "      <td>0.04</td>\n",
       "    </tr>\n",
       "    <tr>\n",
       "      <th>10</th>\n",
       "      <td>http://localhost:8888/notebooks/acquire.ipynb</td>\n",
       "      <td>1</td>\n",
       "      <td>0.04</td>\n",
       "    </tr>\n",
       "    <tr>\n",
       "      <th>11</th>\n",
       "      <td>https://python.zach.lol/api/v1//api/v1/items/n...</td>\n",
       "      <td>1</td>\n",
       "      <td>0.04</td>\n",
       "    </tr>\n",
       "    <tr>\n",
       "      <th>12</th>\n",
       "      <td>https://python.zach.lol/api/V1/HiZach!</td>\n",
       "      <td>1</td>\n",
       "      <td>0.04</td>\n",
       "    </tr>\n",
       "    <tr>\n",
       "      <th>13</th>\n",
       "      <td>http://localhost:8889/notebooks/timeseries_acq...</td>\n",
       "      <td>1</td>\n",
       "      <td>0.04</td>\n",
       "    </tr>\n",
       "  </tbody>\n",
       "</table>\n",
       "</div>"
      ],
      "text/plain": [
       "                                          destination  destination_count  \\\n",
       "0                                                 NaN              13953   \n",
       "1               https://python.zach.lol/api/v1/stores                  5   \n",
       "2                            https://python.zach.lol/                  4   \n",
       "3                  https://ds.codeup.com/8.3_Acquire/                  3   \n",
       "4                     https://python.zach.lol/api/v1/                  2   \n",
       "5        https://python.zach.lol/api/v1//api/v1/items                  2   \n",
       "6                https://python.zach.lol/api/v1/items                  2   \n",
       "7                https://python.zach.lol/api/v1/sales                  1   \n",
       "8    https://python.zach.lol/api/v1/I_DIDNT_DO_IT!!!!                  1   \n",
       "9          https://python.zach.lol/api/v1/helloclass!                  1   \n",
       "10      http://localhost:8888/notebooks/acquire.ipynb                  1   \n",
       "11  https://python.zach.lol/api/v1//api/v1/items/n...                  1   \n",
       "12             https://python.zach.lol/api/V1/HiZach!                  1   \n",
       "13  http://localhost:8889/notebooks/timeseries_acq...                  1   \n",
       "\n",
       "    destination_proba  \n",
       "0              558.12  \n",
       "1                0.20  \n",
       "2                0.16  \n",
       "3                0.12  \n",
       "4                0.08  \n",
       "5                0.08  \n",
       "6                0.08  \n",
       "7                0.04  \n",
       "8                0.04  \n",
       "9                0.04  \n",
       "10               0.04  \n",
       "11               0.04  \n",
       "12               0.04  \n",
       "13               0.04  "
      ]
     },
     "execution_count": 18,
     "metadata": {},
     "output_type": "execute_result"
    }
   ],
   "source": [
    "dest_df"
   ]
  },
  {
   "cell_type": "code",
   "execution_count": 19,
   "metadata": {},
   "outputs": [],
   "source": [
    "ra_df = pd.DataFrame(df.request_agent.value_counts(dropna=False)).reset_index().\\\n",
    "                rename(index=str, columns={'index': 'request_agent', 'request_agent': 'ra_count'})\n",
    "ra_df2 = pd.DataFrame(df.request_agent.value_counts(dropna=False)/df.request_agent.count()).reset_index().\\\n",
    "                rename(index=str, columns={'index': 'request_agent', 'request_agent': 'ra_proba'})\n",
    "ra_df = ra_df.merge(ra_df2)"
   ]
  },
  {
   "cell_type": "code",
   "execution_count": 20,
   "metadata": {},
   "outputs": [
    {
     "data": {
      "text/html": [
       "<div>\n",
       "<style scoped>\n",
       "    .dataframe tbody tr th:only-of-type {\n",
       "        vertical-align: middle;\n",
       "    }\n",
       "\n",
       "    .dataframe tbody tr th {\n",
       "        vertical-align: top;\n",
       "    }\n",
       "\n",
       "    .dataframe thead th {\n",
       "        text-align: right;\n",
       "    }\n",
       "</style>\n",
       "<table border=\"1\" class=\"dataframe\">\n",
       "  <thead>\n",
       "    <tr style=\"text-align: right;\">\n",
       "      <th></th>\n",
       "      <th>request_agent</th>\n",
       "      <th>ra_count</th>\n",
       "      <th>ra_proba</th>\n",
       "    </tr>\n",
       "  </thead>\n",
       "  <tbody>\n",
       "    <tr>\n",
       "      <th>0</th>\n",
       "      <td>python-requests/2.21.0</td>\n",
       "      <td>12005</td>\n",
       "      <td>0.858850</td>\n",
       "    </tr>\n",
       "    <tr>\n",
       "      <th>1</th>\n",
       "      <td>python-requests/2.20.1</td>\n",
       "      <td>1911</td>\n",
       "      <td>0.136715</td>\n",
       "    </tr>\n",
       "    <tr>\n",
       "      <th>2</th>\n",
       "      <td>Mozilla/5.0 (Macintosh; Intel Mac OS X 10_14_4...</td>\n",
       "      <td>34</td>\n",
       "      <td>0.002432</td>\n",
       "    </tr>\n",
       "    <tr>\n",
       "      <th>3</th>\n",
       "      <td>Mozilla/5.0 (Macintosh; Intel Mac OS X 10.14; ...</td>\n",
       "      <td>8</td>\n",
       "      <td>0.000572</td>\n",
       "    </tr>\n",
       "    <tr>\n",
       "      <th>4</th>\n",
       "      <td>Slackbot-LinkExpanding 1.0 (+https://api.slack...</td>\n",
       "      <td>7</td>\n",
       "      <td>0.000501</td>\n",
       "    </tr>\n",
       "    <tr>\n",
       "      <th>5</th>\n",
       "      <td>Slackbot 1.0 (+https://api.slack.com/robots)</td>\n",
       "      <td>6</td>\n",
       "      <td>0.000429</td>\n",
       "    </tr>\n",
       "    <tr>\n",
       "      <th>6</th>\n",
       "      <td>Mozilla/5.0 (Macintosh; Intel Mac OS X 10_14_3...</td>\n",
       "      <td>4</td>\n",
       "      <td>0.000286</td>\n",
       "    </tr>\n",
       "    <tr>\n",
       "      <th>7</th>\n",
       "      <td>Mozilla/5.0 (Macintosh; Intel Mac OS X 10_14_3...</td>\n",
       "      <td>2</td>\n",
       "      <td>0.000143</td>\n",
       "    </tr>\n",
       "    <tr>\n",
       "      <th>8</th>\n",
       "      <td>Python-urllib/3.7</td>\n",
       "      <td>1</td>\n",
       "      <td>0.000072</td>\n",
       "    </tr>\n",
       "  </tbody>\n",
       "</table>\n",
       "</div>"
      ],
      "text/plain": [
       "                                       request_agent  ra_count  ra_proba\n",
       "0                             python-requests/2.21.0     12005  0.858850\n",
       "1                             python-requests/2.20.1      1911  0.136715\n",
       "2  Mozilla/5.0 (Macintosh; Intel Mac OS X 10_14_4...        34  0.002432\n",
       "3  Mozilla/5.0 (Macintosh; Intel Mac OS X 10.14; ...         8  0.000572\n",
       "4  Slackbot-LinkExpanding 1.0 (+https://api.slack...         7  0.000501\n",
       "5       Slackbot 1.0 (+https://api.slack.com/robots)         6  0.000429\n",
       "6  Mozilla/5.0 (Macintosh; Intel Mac OS X 10_14_3...         4  0.000286\n",
       "7  Mozilla/5.0 (Macintosh; Intel Mac OS X 10_14_3...         2  0.000143\n",
       "8                                  Python-urllib/3.7         1  0.000072"
      ]
     },
     "execution_count": 20,
     "metadata": {},
     "output_type": "execute_result"
    }
   ],
   "source": [
    "ra_df"
   ]
  },
  {
   "cell_type": "code",
   "execution_count": 21,
   "metadata": {},
   "outputs": [
    {
     "data": {
      "text/html": [
       "<div>\n",
       "<style scoped>\n",
       "    .dataframe tbody tr th:only-of-type {\n",
       "        vertical-align: middle;\n",
       "    }\n",
       "\n",
       "    .dataframe tbody tr th {\n",
       "        vertical-align: top;\n",
       "    }\n",
       "\n",
       "    .dataframe thead th {\n",
       "        text-align: right;\n",
       "    }\n",
       "</style>\n",
       "<table border=\"1\" class=\"dataframe\">\n",
       "  <thead>\n",
       "    <tr style=\"text-align: right;\">\n",
       "      <th></th>\n",
       "      <th>request_agent</th>\n",
       "      <th>ra_count</th>\n",
       "      <th>ra_proba</th>\n",
       "    </tr>\n",
       "  </thead>\n",
       "  <tbody>\n",
       "    <tr>\n",
       "      <th>2</th>\n",
       "      <td>Mozilla/5.0 (Macintosh; Intel Mac OS X 10_14_4...</td>\n",
       "      <td>34</td>\n",
       "      <td>0.002432</td>\n",
       "    </tr>\n",
       "    <tr>\n",
       "      <th>3</th>\n",
       "      <td>Mozilla/5.0 (Macintosh; Intel Mac OS X 10.14; ...</td>\n",
       "      <td>8</td>\n",
       "      <td>0.000572</td>\n",
       "    </tr>\n",
       "    <tr>\n",
       "      <th>4</th>\n",
       "      <td>Slackbot-LinkExpanding 1.0 (+https://api.slack...</td>\n",
       "      <td>7</td>\n",
       "      <td>0.000501</td>\n",
       "    </tr>\n",
       "    <tr>\n",
       "      <th>5</th>\n",
       "      <td>Slackbot 1.0 (+https://api.slack.com/robots)</td>\n",
       "      <td>6</td>\n",
       "      <td>0.000429</td>\n",
       "    </tr>\n",
       "    <tr>\n",
       "      <th>6</th>\n",
       "      <td>Mozilla/5.0 (Macintosh; Intel Mac OS X 10_14_3...</td>\n",
       "      <td>4</td>\n",
       "      <td>0.000286</td>\n",
       "    </tr>\n",
       "    <tr>\n",
       "      <th>7</th>\n",
       "      <td>Mozilla/5.0 (Macintosh; Intel Mac OS X 10_14_3...</td>\n",
       "      <td>2</td>\n",
       "      <td>0.000143</td>\n",
       "    </tr>\n",
       "    <tr>\n",
       "      <th>8</th>\n",
       "      <td>Python-urllib/3.7</td>\n",
       "      <td>1</td>\n",
       "      <td>0.000072</td>\n",
       "    </tr>\n",
       "  </tbody>\n",
       "</table>\n",
       "</div>"
      ],
      "text/plain": [
       "                                       request_agent  ra_count  ra_proba\n",
       "2  Mozilla/5.0 (Macintosh; Intel Mac OS X 10_14_4...        34  0.002432\n",
       "3  Mozilla/5.0 (Macintosh; Intel Mac OS X 10.14; ...         8  0.000572\n",
       "4  Slackbot-LinkExpanding 1.0 (+https://api.slack...         7  0.000501\n",
       "5       Slackbot 1.0 (+https://api.slack.com/robots)         6  0.000429\n",
       "6  Mozilla/5.0 (Macintosh; Intel Mac OS X 10_14_3...         4  0.000286\n",
       "7  Mozilla/5.0 (Macintosh; Intel Mac OS X 10_14_3...         2  0.000143\n",
       "8                                  Python-urllib/3.7         1  0.000072"
      ]
     },
     "execution_count": 21,
     "metadata": {},
     "output_type": "execute_result"
    }
   ],
   "source": [
    "# see those where rate < 1% \n",
    "ra_df[ra_df.ra_proba < .01]"
   ]
  },
  {
   "cell_type": "code",
   "execution_count": 22,
   "metadata": {},
   "outputs": [
    {
     "name": "stdout",
     "output_type": "stream",
     "text": [
      "9\n",
      "                                       request_agent  ra_count  ra_proba\n",
      "0                             python-requests/2.21.0     12005  0.858850\n",
      "1                             python-requests/2.20.1      1911  0.136715\n",
      "2  Mozilla/5.0 (Macintosh; Intel Mac OS X 10_14_4...        34  0.002432\n",
      "3  Mozilla/5.0 (Macintosh; Intel Mac OS X 10.14; ...         8  0.000572\n",
      "4  Slackbot-LinkExpanding 1.0 (+https://api.slack...         7  0.000501\n",
      "5       Slackbot 1.0 (+https://api.slack.com/robots)         6  0.000429\n",
      "6  Mozilla/5.0 (Macintosh; Intel Mac OS X 10_14_3...         4  0.000286\n",
      "7  Mozilla/5.0 (Macintosh; Intel Mac OS X 10_14_3...         2  0.000143\n",
      "8                                  Python-urllib/3.7         1  0.000072\n"
     ]
    },
    {
     "data": {
      "image/png": "[encoded data removed]",
      "text/plain": [
       "<Figure size 864x288 with 1 Axes>"
      ]
     },
     "metadata": {
      "needs_background": "light"
     },
     "output_type": "display_data"
    }
   ],
   "source": [
    "print(len(ra_df))\n",
    "\n",
    "print(ra_df.tail(10))\n",
    "\n",
    "plt.figure(figsize=(12, 4))\n",
    "splot = sns.barplot(data=ra_df, x = 'request_agent', y = 'ra_count', ci = None)\n",
    "for p in splot.patches:\n",
    "    splot.annotate(format(p.get_height(), '.0f'), \n",
    "                   (p.get_x() + p.get_width() / 2., p.get_height()), \n",
    "                   ha = 'center', va = 'center', xytext = (0, 10), \n",
    "                   textcoords = 'offset points'\n",
    "                   )\n",
    "    plt.xticks(rotation='vertical')"
   ]
  },
  {
   "cell_type": "markdown",
   "metadata": {},
   "source": [
    "### Detecting anomalies by establishing a baseline and evaluate as new data arrives"
   ]
  },
  {
   "cell_type": "code",
   "execution_count": 23,
   "metadata": {},
   "outputs": [],
   "source": [
    "#baseline\n",
    "train = df['2019-04-16 19:34:42':'2019-04-17 12:55:14'][['ip','request_method','status','size','destination','request_agent','size_mb']]\n",
    "\n"
   ]
  },
  {
   "cell_type": "code",
   "execution_count": 24,
   "metadata": {},
   "outputs": [],
   "source": [
    "#compute probabilities based on train sample\n",
    "ra_df = pd.DataFrame(train.request_agent.value_counts(dropna=False)/train.request_agent.count()).reset_index().\\\n",
    "                rename(index=str, columns={'index': 'request_agent', 'request_agent': 'ra_proba'})"
   ]
  },
  {
   "cell_type": "code",
   "execution_count": 25,
   "metadata": {},
   "outputs": [
    {
     "data": {
      "text/html": [
       "<div>\n",
       "<style scoped>\n",
       "    .dataframe tbody tr th:only-of-type {\n",
       "        vertical-align: middle;\n",
       "    }\n",
       "\n",
       "    .dataframe tbody tr th {\n",
       "        vertical-align: top;\n",
       "    }\n",
       "\n",
       "    .dataframe thead th {\n",
       "        text-align: right;\n",
       "    }\n",
       "</style>\n",
       "<table border=\"1\" class=\"dataframe\">\n",
       "  <thead>\n",
       "    <tr style=\"text-align: right;\">\n",
       "      <th></th>\n",
       "      <th>request_agent</th>\n",
       "      <th>ra_proba</th>\n",
       "    </tr>\n",
       "  </thead>\n",
       "  <tbody>\n",
       "    <tr>\n",
       "      <th>0</th>\n",
       "      <td>python-requests/2.21.0</td>\n",
       "      <td>0.858809</td>\n",
       "    </tr>\n",
       "    <tr>\n",
       "      <th>1</th>\n",
       "      <td>python-requests/2.20.1</td>\n",
       "      <td>0.136754</td>\n",
       "    </tr>\n",
       "    <tr>\n",
       "      <th>2</th>\n",
       "      <td>Mozilla/5.0 (Macintosh; Intel Mac OS X 10_14_4...</td>\n",
       "      <td>0.002433</td>\n",
       "    </tr>\n",
       "    <tr>\n",
       "      <th>3</th>\n",
       "      <td>Mozilla/5.0 (Macintosh; Intel Mac OS X 10.14; ...</td>\n",
       "      <td>0.000572</td>\n",
       "    </tr>\n",
       "    <tr>\n",
       "      <th>4</th>\n",
       "      <td>Slackbot-LinkExpanding 1.0 (+https://api.slack...</td>\n",
       "      <td>0.000501</td>\n",
       "    </tr>\n",
       "    <tr>\n",
       "      <th>5</th>\n",
       "      <td>Slackbot 1.0 (+https://api.slack.com/robots)</td>\n",
       "      <td>0.000429</td>\n",
       "    </tr>\n",
       "    <tr>\n",
       "      <th>6</th>\n",
       "      <td>Mozilla/5.0 (Macintosh; Intel Mac OS X 10_14_3...</td>\n",
       "      <td>0.000286</td>\n",
       "    </tr>\n",
       "    <tr>\n",
       "      <th>7</th>\n",
       "      <td>Mozilla/5.0 (Macintosh; Intel Mac OS X 10_14_3...</td>\n",
       "      <td>0.000143</td>\n",
       "    </tr>\n",
       "    <tr>\n",
       "      <th>8</th>\n",
       "      <td>Python-urllib/3.7</td>\n",
       "      <td>0.000072</td>\n",
       "    </tr>\n",
       "  </tbody>\n",
       "</table>\n",
       "</div>"
      ],
      "text/plain": [
       "                                       request_agent  ra_proba\n",
       "0                             python-requests/2.21.0  0.858809\n",
       "1                             python-requests/2.20.1  0.136754\n",
       "2  Mozilla/5.0 (Macintosh; Intel Mac OS X 10_14_4...  0.002433\n",
       "3  Mozilla/5.0 (Macintosh; Intel Mac OS X 10.14; ...  0.000572\n",
       "4  Slackbot-LinkExpanding 1.0 (+https://api.slack...  0.000501\n",
       "5       Slackbot 1.0 (+https://api.slack.com/robots)  0.000429\n",
       "6  Mozilla/5.0 (Macintosh; Intel Mac OS X 10_14_3...  0.000286\n",
       "7  Mozilla/5.0 (Macintosh; Intel Mac OS X 10_14_3...  0.000143\n",
       "8                                  Python-urllib/3.7  0.000072"
      ]
     },
     "execution_count": 25,
     "metadata": {},
     "output_type": "execute_result"
    }
   ],
   "source": [
    "ra_df"
   ]
  },
  {
   "cell_type": "code",
   "execution_count": 26,
   "metadata": {},
   "outputs": [
    {
     "data": {
      "text/plain": [
       "0.858809    12005\n",
       "0.136754     1911\n",
       "0.002433       34\n",
       "0.000572        8\n",
       "0.000501        7\n",
       "0.000429        6\n",
       "0.000286        4\n",
       "0.000143        2\n",
       "0.000072        1\n",
       "Name: ra_proba, dtype: int64"
      ]
     },
     "execution_count": 26,
     "metadata": {},
     "output_type": "execute_result"
    }
   ],
   "source": [
    "#Merge probabilities with all data (train + new data)\n",
    "#Where the request_agent is new, i.e. not seen in the training dataset, fill the probability with a value of 0.\n",
    "\n",
    "df = df.reset_index().merge(ra_df, on=['request_agent'], how='left').fillna(value=0).set_index('timestamp')\n",
    "df.ra_proba.value_counts()"
   ]
  },
  {
   "cell_type": "markdown",
   "metadata": {},
   "source": [
    "# Time series + EMA"
   ]
  },
  {
   "cell_type": "code",
   "execution_count": 27,
   "metadata": {},
   "outputs": [],
   "source": [
    "#read file in\n",
    "with open('./anonymized-curriculum-access.txt') as f:\n",
    "    contents = f.read()"
   ]
  },
  {
   "cell_type": "code",
   "execution_count": 28,
   "metadata": {},
   "outputs": [],
   "source": [
    "# contents"
   ]
  },
  {
   "cell_type": "code",
   "execution_count": 29,
   "metadata": {},
   "outputs": [],
   "source": [
    "lines = contents.split('\\n')"
   ]
  },
  {
   "cell_type": "code",
   "execution_count": 30,
   "metadata": {},
   "outputs": [],
   "source": [
    "line = lines[2]"
   ]
  },
  {
   "cell_type": "code",
   "execution_count": 31,
   "metadata": {},
   "outputs": [
    {
     "data": {
      "text/plain": [
       "'2018-01-26 09:56:05 java-ii/object-oriented-programming 1 8 97.105.19.61'"
      ]
     },
     "execution_count": 31,
     "metadata": {},
     "output_type": "execute_result"
    }
   ],
   "source": [
    "line"
   ]
  },
  {
   "cell_type": "code",
   "execution_count": 32,
   "metadata": {},
   "outputs": [
    {
     "data": {
      "text/plain": [
       "['2018-01-26',\n",
       " '09:56:05',\n",
       " 'java-ii/object-oriented-programming',\n",
       " '1',\n",
       " '8',\n",
       " '97.105.19.61']"
      ]
     },
     "execution_count": 32,
     "metadata": {},
     "output_type": "execute_result"
    }
   ],
   "source": [
    "line.split(' ')"
   ]
  },
  {
   "cell_type": "code",
   "execution_count": 33,
   "metadata": {},
   "outputs": [],
   "source": [
    "def process_line(lines: str):\n",
    "    parts = line.split(' ')\n",
    "    for i, part in enumerate(parts):\n",
    "        print(i, part)"
   ]
  },
  {
   "cell_type": "code",
   "execution_count": 34,
   "metadata": {},
   "outputs": [
    {
     "name": "stdout",
     "output_type": "stream",
     "text": [
      "0 2018-01-26\n",
      "1 09:56:05\n",
      "2 java-ii/object-oriented-programming\n",
      "3 1\n",
      "4 8\n",
      "5 97.105.19.61\n"
     ]
    }
   ],
   "source": [
    "process_line(lines[0])"
   ]
  },
  {
   "cell_type": "code",
   "execution_count": 35,
   "metadata": {},
   "outputs": [],
   "source": [
    "def process_line(line: str):\n",
    "    parts = line.split(' ')\n",
    "\n",
    "    link = parts[2]\n",
    "    \n",
    "    timestamp = parts[0] + ' ' + parts[1]\n",
    "\n",
    "    student_id = parts[3]\n",
    "\n",
    "    cohort_id= parts[4]\n",
    "    \n",
    "    ip = parts[5]\n",
    "\n",
    "    return dict(ip=ip, timestamp=timestamp,\n",
    "                student_id=student_id,\n",
    "               cohort_id=cohort_id,\n",
    "               link=link)"
   ]
  },
  {
   "cell_type": "code",
   "execution_count": 36,
   "metadata": {},
   "outputs": [
    {
     "data": {
      "text/plain": [
       "{'ip': '97.105.19.61',\n",
       " 'timestamp': '2018-01-26 09:55:03',\n",
       " 'student_id': '1',\n",
       " 'cohort_id': '8',\n",
       " 'link': '/'}"
      ]
     },
     "execution_count": 36,
     "metadata": {},
     "output_type": "execute_result"
    }
   ],
   "source": [
    "process_line(lines[0])"
   ]
  },
  {
   "cell_type": "code",
   "execution_count": 37,
   "metadata": {},
   "outputs": [],
   "source": [
    "lines = lines[:-1]"
   ]
  },
  {
   "cell_type": "code",
   "execution_count": 38,
   "metadata": {},
   "outputs": [
    {
     "data": {
      "text/plain": [
       "'2018-01-26 09:55:03 / 1 8 97.105.19.61'"
      ]
     },
     "execution_count": 38,
     "metadata": {},
     "output_type": "execute_result"
    }
   ],
   "source": [
    "lines[0]"
   ]
  },
  {
   "cell_type": "code",
   "execution_count": 39,
   "metadata": {},
   "outputs": [],
   "source": [
    "processed_lines = []\n",
    "for line in lines:\n",
    "    processed_lines.append(process_line(line))"
   ]
  },
  {
   "cell_type": "code",
   "execution_count": 40,
   "metadata": {},
   "outputs": [
    {
     "data": {
      "text/plain": [
       "{'ip': '97.105.19.61',\n",
       " 'timestamp': '2018-01-26 09:55:03',\n",
       " 'student_id': '1',\n",
       " 'cohort_id': '8',\n",
       " 'link': '/'}"
      ]
     },
     "execution_count": 40,
     "metadata": {},
     "output_type": "execute_result"
    }
   ],
   "source": [
    "processed_lines[0]"
   ]
  },
  {
   "cell_type": "code",
   "execution_count": 64,
   "metadata": {},
   "outputs": [
    {
     "data": {
      "text/html": [
       "<div>\n",
       "<style scoped>\n",
       "    .dataframe tbody tr th:only-of-type {\n",
       "        vertical-align: middle;\n",
       "    }\n",
       "\n",
       "    .dataframe tbody tr th {\n",
       "        vertical-align: top;\n",
       "    }\n",
       "\n",
       "    .dataframe thead th {\n",
       "        text-align: right;\n",
       "    }\n",
       "</style>\n",
       "<table border=\"1\" class=\"dataframe\">\n",
       "  <thead>\n",
       "    <tr style=\"text-align: right;\">\n",
       "      <th></th>\n",
       "      <th>cohort_id</th>\n",
       "      <th>ip</th>\n",
       "      <th>link</th>\n",
       "      <th>student_id</th>\n",
       "      <th>timestamp</th>\n",
       "    </tr>\n",
       "  </thead>\n",
       "  <tbody>\n",
       "    <tr>\n",
       "      <th>0</th>\n",
       "      <td>8</td>\n",
       "      <td>97.105.19.61</td>\n",
       "      <td>/</td>\n",
       "      <td>1</td>\n",
       "      <td>2018-01-26 09:55:03</td>\n",
       "    </tr>\n",
       "    <tr>\n",
       "      <th>1</th>\n",
       "      <td>8</td>\n",
       "      <td>97.105.19.61</td>\n",
       "      <td>java-ii</td>\n",
       "      <td>1</td>\n",
       "      <td>2018-01-26 09:56:02</td>\n",
       "    </tr>\n",
       "    <tr>\n",
       "      <th>2</th>\n",
       "      <td>8</td>\n",
       "      <td>97.105.19.61</td>\n",
       "      <td>java-ii/object-oriented-programming</td>\n",
       "      <td>1</td>\n",
       "      <td>2018-01-26 09:56:05</td>\n",
       "    </tr>\n",
       "    <tr>\n",
       "      <th>3</th>\n",
       "      <td>8</td>\n",
       "      <td>97.105.19.61</td>\n",
       "      <td>slides/object_oriented_programming</td>\n",
       "      <td>1</td>\n",
       "      <td>2018-01-26 09:56:06</td>\n",
       "    </tr>\n",
       "    <tr>\n",
       "      <th>4</th>\n",
       "      <td>22</td>\n",
       "      <td>97.105.19.61</td>\n",
       "      <td>javascript-i/conditionals</td>\n",
       "      <td>2</td>\n",
       "      <td>2018-01-26 09:56:24</td>\n",
       "    </tr>\n",
       "  </tbody>\n",
       "</table>\n",
       "</div>"
      ],
      "text/plain": [
       "  cohort_id            ip                                 link student_id  \\\n",
       "0         8  97.105.19.61                                    /          1   \n",
       "1         8  97.105.19.61                              java-ii          1   \n",
       "2         8  97.105.19.61  java-ii/object-oriented-programming          1   \n",
       "3         8  97.105.19.61   slides/object_oriented_programming          1   \n",
       "4        22  97.105.19.61            javascript-i/conditionals          2   \n",
       "\n",
       "             timestamp  \n",
       "0  2018-01-26 09:55:03  \n",
       "1  2018-01-26 09:56:02  \n",
       "2  2018-01-26 09:56:05  \n",
       "3  2018-01-26 09:56:06  \n",
       "4  2018-01-26 09:56:24  "
      ]
     },
     "execution_count": 64,
     "metadata": {},
     "output_type": "execute_result"
    }
   ],
   "source": [
    "df = pd.DataFrame(processed_lines)\n",
    "df.head()"
   ]
  },
  {
   "cell_type": "code",
   "execution_count": 42,
   "metadata": {},
   "outputs": [],
   "source": [
    "df['timestamp'] = pd.to_datetime(df['timestamp'], utc=True)"
   ]
  },
  {
   "cell_type": "code",
   "execution_count": 43,
   "metadata": {},
   "outputs": [],
   "source": [
    "df.set_index('timestamp', inplace=True)"
   ]
  },
  {
   "cell_type": "code",
   "execution_count": 63,
   "metadata": {},
   "outputs": [
    {
     "data": {
      "text/html": [
       "<div>\n",
       "<style scoped>\n",
       "    .dataframe tbody tr th:only-of-type {\n",
       "        vertical-align: middle;\n",
       "    }\n",
       "\n",
       "    .dataframe tbody tr th {\n",
       "        vertical-align: top;\n",
       "    }\n",
       "\n",
       "    .dataframe thead th {\n",
       "        text-align: right;\n",
       "    }\n",
       "</style>\n",
       "<table border=\"1\" class=\"dataframe\">\n",
       "  <thead>\n",
       "    <tr style=\"text-align: right;\">\n",
       "      <th></th>\n",
       "      <th>cohort_id</th>\n",
       "      <th>ip</th>\n",
       "      <th>link</th>\n",
       "      <th>student_id</th>\n",
       "    </tr>\n",
       "    <tr>\n",
       "      <th>timestamp</th>\n",
       "      <th></th>\n",
       "      <th></th>\n",
       "      <th></th>\n",
       "      <th></th>\n",
       "    </tr>\n",
       "  </thead>\n",
       "  <tbody>\n",
       "    <tr>\n",
       "      <th>2018-01-26 09:55:03+00:00</th>\n",
       "      <td>8</td>\n",
       "      <td>97.105.19.61</td>\n",
       "      <td>/</td>\n",
       "      <td>1</td>\n",
       "    </tr>\n",
       "    <tr>\n",
       "      <th>2018-01-26 09:56:02+00:00</th>\n",
       "      <td>8</td>\n",
       "      <td>97.105.19.61</td>\n",
       "      <td>java-ii</td>\n",
       "      <td>1</td>\n",
       "    </tr>\n",
       "    <tr>\n",
       "      <th>2018-01-26 09:56:05+00:00</th>\n",
       "      <td>8</td>\n",
       "      <td>97.105.19.61</td>\n",
       "      <td>java-ii/object-oriented-programming</td>\n",
       "      <td>1</td>\n",
       "    </tr>\n",
       "    <tr>\n",
       "      <th>2018-01-26 09:56:06+00:00</th>\n",
       "      <td>8</td>\n",
       "      <td>97.105.19.61</td>\n",
       "      <td>slides/object_oriented_programming</td>\n",
       "      <td>1</td>\n",
       "    </tr>\n",
       "    <tr>\n",
       "      <th>2018-01-26 09:56:24+00:00</th>\n",
       "      <td>22</td>\n",
       "      <td>97.105.19.61</td>\n",
       "      <td>javascript-i/conditionals</td>\n",
       "      <td>2</td>\n",
       "    </tr>\n",
       "  </tbody>\n",
       "</table>\n",
       "</div>"
      ],
      "text/plain": [
       "                          cohort_id            ip  \\\n",
       "timestamp                                           \n",
       "2018-01-26 09:55:03+00:00         8  97.105.19.61   \n",
       "2018-01-26 09:56:02+00:00         8  97.105.19.61   \n",
       "2018-01-26 09:56:05+00:00         8  97.105.19.61   \n",
       "2018-01-26 09:56:06+00:00         8  97.105.19.61   \n",
       "2018-01-26 09:56:24+00:00        22  97.105.19.61   \n",
       "\n",
       "                                                          link student_id  \n",
       "timestamp                                                                  \n",
       "2018-01-26 09:55:03+00:00                                    /          1  \n",
       "2018-01-26 09:56:02+00:00                              java-ii          1  \n",
       "2018-01-26 09:56:05+00:00  java-ii/object-oriented-programming          1  \n",
       "2018-01-26 09:56:06+00:00   slides/object_oriented_programming          1  \n",
       "2018-01-26 09:56:24+00:00            javascript-i/conditionals          2  "
      ]
     },
     "execution_count": 63,
     "metadata": {},
     "output_type": "execute_result"
    }
   ],
   "source": [
    "df.head()"
   ]
  },
  {
   "cell_type": "code",
   "execution_count": 45,
   "metadata": {},
   "outputs": [
    {
     "data": {
      "text/plain": [
       "28"
      ]
     },
     "execution_count": 45,
     "metadata": {},
     "output_type": "execute_result"
    }
   ],
   "source": [
    "df.cohort_id.nunique()"
   ]
  },
  {
   "cell_type": "code",
   "execution_count": 46,
   "metadata": {},
   "outputs": [
    {
     "data": {
      "text/plain": [
       "398"
      ]
     },
     "execution_count": 46,
     "metadata": {},
     "output_type": "execute_result"
    }
   ],
   "source": [
    "df.student_id.nunique()"
   ]
  },
  {
   "cell_type": "code",
   "execution_count": 47,
   "metadata": {},
   "outputs": [
    {
     "data": {
      "text/html": [
       "<div>\n",
       "<style scoped>\n",
       "    .dataframe tbody tr th:only-of-type {\n",
       "        vertical-align: middle;\n",
       "    }\n",
       "\n",
       "    .dataframe tbody tr th {\n",
       "        vertical-align: top;\n",
       "    }\n",
       "\n",
       "    .dataframe thead th {\n",
       "        text-align: right;\n",
       "    }\n",
       "</style>\n",
       "<table border=\"1\" class=\"dataframe\">\n",
       "  <thead>\n",
       "    <tr style=\"text-align: right;\">\n",
       "      <th></th>\n",
       "      <th>cohort_id</th>\n",
       "      <th>ip</th>\n",
       "      <th>link</th>\n",
       "      <th>student_id</th>\n",
       "    </tr>\n",
       "  </thead>\n",
       "  <tbody>\n",
       "    <tr>\n",
       "      <th>count</th>\n",
       "      <td>233528</td>\n",
       "      <td>233528</td>\n",
       "      <td>233528</td>\n",
       "      <td>233528</td>\n",
       "    </tr>\n",
       "    <tr>\n",
       "      <th>unique</th>\n",
       "      <td>28</td>\n",
       "      <td>1731</td>\n",
       "      <td>999</td>\n",
       "      <td>398</td>\n",
       "    </tr>\n",
       "    <tr>\n",
       "      <th>top</th>\n",
       "      <td>24</td>\n",
       "      <td>97.105.19.58</td>\n",
       "      <td>/</td>\n",
       "      <td>53</td>\n",
       "    </tr>\n",
       "    <tr>\n",
       "      <th>freq</th>\n",
       "      <td>34485</td>\n",
       "      <td>105645</td>\n",
       "      <td>12041</td>\n",
       "      <td>5839</td>\n",
       "    </tr>\n",
       "  </tbody>\n",
       "</table>\n",
       "</div>"
      ],
      "text/plain": [
       "       cohort_id            ip    link student_id\n",
       "count     233528        233528  233528     233528\n",
       "unique        28          1731     999        398\n",
       "top           24  97.105.19.58       /         53\n",
       "freq       34485        105645   12041       5839"
      ]
     },
     "execution_count": 47,
     "metadata": {},
     "output_type": "execute_result"
    }
   ],
   "source": [
    "df.describe()"
   ]
  },
  {
   "cell_type": "code",
   "execution_count": 48,
   "metadata": {},
   "outputs": [
    {
     "data": {
      "text/html": [
       "<div>\n",
       "<style scoped>\n",
       "    .dataframe tbody tr th:only-of-type {\n",
       "        vertical-align: middle;\n",
       "    }\n",
       "\n",
       "    .dataframe tbody tr th {\n",
       "        vertical-align: top;\n",
       "    }\n",
       "\n",
       "    .dataframe thead th {\n",
       "        text-align: right;\n",
       "    }\n",
       "</style>\n",
       "<table border=\"1\" class=\"dataframe\">\n",
       "  <thead>\n",
       "    <tr style=\"text-align: right;\">\n",
       "      <th></th>\n",
       "      <th>cohort_id</th>\n",
       "      <th>ip</th>\n",
       "      <th>link</th>\n",
       "      <th>student_id</th>\n",
       "    </tr>\n",
       "    <tr>\n",
       "      <th>timestamp</th>\n",
       "      <th></th>\n",
       "      <th></th>\n",
       "      <th></th>\n",
       "      <th></th>\n",
       "    </tr>\n",
       "  </thead>\n",
       "  <tbody>\n",
       "    <tr>\n",
       "      <th>2018-01-26 09:55:03+00:00</th>\n",
       "      <td>8</td>\n",
       "      <td>97.105.19.61</td>\n",
       "      <td>/</td>\n",
       "      <td>1</td>\n",
       "    </tr>\n",
       "    <tr>\n",
       "      <th>2018-01-26 09:56:02+00:00</th>\n",
       "      <td>8</td>\n",
       "      <td>97.105.19.61</td>\n",
       "      <td>java-ii</td>\n",
       "      <td>1</td>\n",
       "    </tr>\n",
       "    <tr>\n",
       "      <th>2018-01-26 09:56:05+00:00</th>\n",
       "      <td>8</td>\n",
       "      <td>97.105.19.61</td>\n",
       "      <td>java-ii/object-oriented-programming</td>\n",
       "      <td>1</td>\n",
       "    </tr>\n",
       "    <tr>\n",
       "      <th>2018-01-26 09:56:06+00:00</th>\n",
       "      <td>8</td>\n",
       "      <td>97.105.19.61</td>\n",
       "      <td>slides/object_oriented_programming</td>\n",
       "      <td>1</td>\n",
       "    </tr>\n",
       "    <tr>\n",
       "      <th>2018-01-26 09:56:24+00:00</th>\n",
       "      <td>22</td>\n",
       "      <td>97.105.19.61</td>\n",
       "      <td>javascript-i/conditionals</td>\n",
       "      <td>2</td>\n",
       "    </tr>\n",
       "  </tbody>\n",
       "</table>\n",
       "</div>"
      ],
      "text/plain": [
       "                          cohort_id            ip  \\\n",
       "timestamp                                           \n",
       "2018-01-26 09:55:03+00:00         8  97.105.19.61   \n",
       "2018-01-26 09:56:02+00:00         8  97.105.19.61   \n",
       "2018-01-26 09:56:05+00:00         8  97.105.19.61   \n",
       "2018-01-26 09:56:06+00:00         8  97.105.19.61   \n",
       "2018-01-26 09:56:24+00:00        22  97.105.19.61   \n",
       "\n",
       "                                                          link student_id  \n",
       "timestamp                                                                  \n",
       "2018-01-26 09:55:03+00:00                                    /          1  \n",
       "2018-01-26 09:56:02+00:00                              java-ii          1  \n",
       "2018-01-26 09:56:05+00:00  java-ii/object-oriented-programming          1  \n",
       "2018-01-26 09:56:06+00:00   slides/object_oriented_programming          1  \n",
       "2018-01-26 09:56:24+00:00            javascript-i/conditionals          2  "
      ]
     },
     "execution_count": 48,
     "metadata": {},
     "output_type": "execute_result"
    }
   ],
   "source": [
    "df.head()"
   ]
  },
  {
   "cell_type": "code",
   "execution_count": 49,
   "metadata": {},
   "outputs": [],
   "source": [
    "# df.cohort_id = df.cohort_id.values.astype('int')"
   ]
  },
  {
   "cell_type": "code",
   "execution_count": 50,
   "metadata": {},
   "outputs": [
    {
     "data": {
      "text/plain": [
       "cohort_id     object\n",
       "ip            object\n",
       "link          object\n",
       "student_id    object\n",
       "dtype: object"
      ]
     },
     "execution_count": 50,
     "metadata": {},
     "output_type": "execute_result"
    }
   ],
   "source": [
    "df.dtypes"
   ]
  },
  {
   "cell_type": "code",
   "execution_count": 51,
   "metadata": {},
   "outputs": [],
   "source": [
    "cohorts = pd.read_csv('cohorts.csv')"
   ]
  },
  {
   "cell_type": "code",
   "execution_count": 52,
   "metadata": {},
   "outputs": [],
   "source": [
    "cohorts.rename(columns={'id':'cohort_id'}, inplace=True)"
   ]
  },
  {
   "cell_type": "code",
   "execution_count": 53,
   "metadata": {},
   "outputs": [
    {
     "data": {
      "text/html": [
       "<div>\n",
       "<style scoped>\n",
       "    .dataframe tbody tr th:only-of-type {\n",
       "        vertical-align: middle;\n",
       "    }\n",
       "\n",
       "    .dataframe tbody tr th {\n",
       "        vertical-align: top;\n",
       "    }\n",
       "\n",
       "    .dataframe thead th {\n",
       "        text-align: right;\n",
       "    }\n",
       "</style>\n",
       "<table border=\"1\" class=\"dataframe\">\n",
       "  <thead>\n",
       "    <tr style=\"text-align: right;\">\n",
       "      <th></th>\n",
       "      <th>cohort_id</th>\n",
       "      <th>name</th>\n",
       "      <th>start_date</th>\n",
       "      <th>end_date</th>\n",
       "    </tr>\n",
       "  </thead>\n",
       "  <tbody>\n",
       "    <tr>\n",
       "      <th>0</th>\n",
       "      <td>1</td>\n",
       "      <td>Arches</td>\n",
       "      <td>2014-02-04</td>\n",
       "      <td>2014-04-22</td>\n",
       "    </tr>\n",
       "    <tr>\n",
       "      <th>1</th>\n",
       "      <td>2</td>\n",
       "      <td>Badlands</td>\n",
       "      <td>2014-06-04</td>\n",
       "      <td>2014-08-22</td>\n",
       "    </tr>\n",
       "    <tr>\n",
       "      <th>2</th>\n",
       "      <td>3</td>\n",
       "      <td>Carlsbad</td>\n",
       "      <td>2014-09-04</td>\n",
       "      <td>2014-11-05</td>\n",
       "    </tr>\n",
       "    <tr>\n",
       "      <th>3</th>\n",
       "      <td>4</td>\n",
       "      <td>Denali</td>\n",
       "      <td>2014-10-20</td>\n",
       "      <td>2015-01-18</td>\n",
       "    </tr>\n",
       "    <tr>\n",
       "      <th>4</th>\n",
       "      <td>5</td>\n",
       "      <td>Everglades</td>\n",
       "      <td>2014-11-18</td>\n",
       "      <td>2015-02-24</td>\n",
       "    </tr>\n",
       "  </tbody>\n",
       "</table>\n",
       "</div>"
      ],
      "text/plain": [
       "   cohort_id        name  start_date    end_date\n",
       "0          1      Arches  2014-02-04  2014-04-22\n",
       "1          2    Badlands  2014-06-04  2014-08-22\n",
       "2          3    Carlsbad  2014-09-04  2014-11-05\n",
       "3          4      Denali  2014-10-20  2015-01-18\n",
       "4          5  Everglades  2014-11-18  2015-02-24"
      ]
     },
     "execution_count": 53,
     "metadata": {},
     "output_type": "execute_result"
    }
   ],
   "source": [
    "cohorts.head()"
   ]
  },
  {
   "cell_type": "code",
   "execution_count": 54,
   "metadata": {},
   "outputs": [
    {
     "data": {
      "text/plain": [
       "cohort_id      int64\n",
       "name          object\n",
       "start_date    object\n",
       "end_date      object\n",
       "dtype: object"
      ]
     },
     "execution_count": 54,
     "metadata": {},
     "output_type": "execute_result"
    }
   ],
   "source": [
    "cohorts.dtypes"
   ]
  },
  {
   "cell_type": "code",
   "execution_count": 55,
   "metadata": {},
   "outputs": [],
   "source": [
    "cohorts.cohort_id = cohorts.cohort_id.astype('str')"
   ]
  },
  {
   "cell_type": "code",
   "execution_count": 56,
   "metadata": {},
   "outputs": [
    {
     "data": {
      "text/plain": [
       "cohort_id     object\n",
       "name          object\n",
       "start_date    object\n",
       "end_date      object\n",
       "dtype: object"
      ]
     },
     "execution_count": 56,
     "metadata": {},
     "output_type": "execute_result"
    }
   ],
   "source": [
    "cohorts.dtypes"
   ]
  },
  {
   "cell_type": "code",
   "execution_count": 57,
   "metadata": {},
   "outputs": [
    {
     "data": {
      "text/html": [
       "<div>\n",
       "<style scoped>\n",
       "    .dataframe tbody tr th:only-of-type {\n",
       "        vertical-align: middle;\n",
       "    }\n",
       "\n",
       "    .dataframe tbody tr th {\n",
       "        vertical-align: top;\n",
       "    }\n",
       "\n",
       "    .dataframe thead th {\n",
       "        text-align: right;\n",
       "    }\n",
       "</style>\n",
       "<table border=\"1\" class=\"dataframe\">\n",
       "  <thead>\n",
       "    <tr style=\"text-align: right;\">\n",
       "      <th></th>\n",
       "      <th>cohort_id</th>\n",
       "      <th>ip</th>\n",
       "      <th>link</th>\n",
       "      <th>student_id</th>\n",
       "      <th>name</th>\n",
       "      <th>start_date</th>\n",
       "      <th>end_date</th>\n",
       "    </tr>\n",
       "  </thead>\n",
       "  <tbody>\n",
       "    <tr>\n",
       "      <th>0</th>\n",
       "      <td>8</td>\n",
       "      <td>97.105.19.61</td>\n",
       "      <td>/</td>\n",
       "      <td>1</td>\n",
       "      <td>Hampton</td>\n",
       "      <td>2015-09-22</td>\n",
       "      <td>2016-02-06</td>\n",
       "    </tr>\n",
       "    <tr>\n",
       "      <th>1</th>\n",
       "      <td>8</td>\n",
       "      <td>97.105.19.61</td>\n",
       "      <td>java-ii</td>\n",
       "      <td>1</td>\n",
       "      <td>Hampton</td>\n",
       "      <td>2015-09-22</td>\n",
       "      <td>2016-02-06</td>\n",
       "    </tr>\n",
       "    <tr>\n",
       "      <th>2</th>\n",
       "      <td>8</td>\n",
       "      <td>97.105.19.61</td>\n",
       "      <td>java-ii/object-oriented-programming</td>\n",
       "      <td>1</td>\n",
       "      <td>Hampton</td>\n",
       "      <td>2015-09-22</td>\n",
       "      <td>2016-02-06</td>\n",
       "    </tr>\n",
       "    <tr>\n",
       "      <th>3</th>\n",
       "      <td>8</td>\n",
       "      <td>97.105.19.61</td>\n",
       "      <td>slides/object_oriented_programming</td>\n",
       "      <td>1</td>\n",
       "      <td>Hampton</td>\n",
       "      <td>2015-09-22</td>\n",
       "      <td>2016-02-06</td>\n",
       "    </tr>\n",
       "    <tr>\n",
       "      <th>4</th>\n",
       "      <td>22</td>\n",
       "      <td>97.105.19.61</td>\n",
       "      <td>javascript-i/conditionals</td>\n",
       "      <td>2</td>\n",
       "      <td>Teddy</td>\n",
       "      <td>2018-01-08</td>\n",
       "      <td>2018-05-17</td>\n",
       "    </tr>\n",
       "  </tbody>\n",
       "</table>\n",
       "</div>"
      ],
      "text/plain": [
       "  cohort_id            ip                                 link student_id  \\\n",
       "0         8  97.105.19.61                                    /          1   \n",
       "1         8  97.105.19.61                              java-ii          1   \n",
       "2         8  97.105.19.61  java-ii/object-oriented-programming          1   \n",
       "3         8  97.105.19.61   slides/object_oriented_programming          1   \n",
       "4        22  97.105.19.61            javascript-i/conditionals          2   \n",
       "\n",
       "      name  start_date    end_date  \n",
       "0  Hampton  2015-09-22  2016-02-06  \n",
       "1  Hampton  2015-09-22  2016-02-06  \n",
       "2  Hampton  2015-09-22  2016-02-06  \n",
       "3  Hampton  2015-09-22  2016-02-06  \n",
       "4    Teddy  2018-01-08  2018-05-17  "
      ]
     },
     "execution_count": 57,
     "metadata": {},
     "output_type": "execute_result"
    }
   ],
   "source": [
    "df_merged = df.merge(cohorts, on='cohort_id', how='left')\n",
    "df_merged.head()"
   ]
  },
  {
   "cell_type": "code",
   "execution_count": 58,
   "metadata": {},
   "outputs": [],
   "source": [
    "df_agg = df_merged.groupby(['cohort_id','name'])['student_id'].\\\n",
    "                        nunique()"
   ]
  },
  {
   "cell_type": "code",
   "execution_count": 59,
   "metadata": {},
   "outputs": [
    {
     "data": {
      "text/plain": [
       "cohort_id  name     \n",
       "1          Arches       17\n",
       "11         Ike           4\n",
       "12         Joshua        4\n",
       "13         Kings        10\n",
       "14         Lassen       10\n",
       "15         Mammoth       4\n",
       "16         Niagara       8\n",
       "17         Olympic      10\n",
       "18         Pinnacles    13\n",
       "19         Quincy       13\n",
       "2          Badlands      3\n",
       "21         Sequoia      27\n",
       "22         Teddy        34\n",
       "23         Ulysses      33\n",
       "24         Voyageurs    33\n",
       "25         Wrangell     26\n",
       "26         Xanadu       20\n",
       "27         Yosemite     27\n",
       "28         Staff        12\n",
       "29         Zion         25\n",
       "31         Andromeda    23\n",
       "4          Denali        1\n",
       "6          Franklin      1\n",
       "7          Glacier       5\n",
       "8          Hampton       4\n",
       "9          Apollo        1\n",
       "Name: student_id, dtype: int64"
      ]
     },
     "execution_count": 59,
     "metadata": {},
     "output_type": "execute_result"
    }
   ],
   "source": [
    "df_agg"
   ]
  },
  {
   "cell_type": "code",
   "execution_count": 61,
   "metadata": {},
   "outputs": [],
   "source": [
    "staff = df[df.cohort_id == '28']"
   ]
  },
  {
   "cell_type": "code",
   "execution_count": 62,
   "metadata": {},
   "outputs": [
    {
     "data": {
      "text/plain": [
       "11     1525\n",
       "1      1022\n",
       "64     1001\n",
       "314     704\n",
       "248     600\n",
       "211     563\n",
       "53      321\n",
       "312     131\n",
       "146     102\n",
       "397      74\n",
       "40       66\n",
       "370      54\n",
       "Name: student_id, dtype: int64"
      ]
     },
     "execution_count": 62,
     "metadata": {},
     "output_type": "execute_result"
    }
   ],
   "source": [
    "staff.student_id.value_counts()"
   ]
  },
  {
   "cell_type": "code",
   "execution_count": null,
   "metadata": {},
   "outputs": [],
   "source": []
  },
  {
   "cell_type": "code",
   "execution_count": null,
   "metadata": {},
   "outputs": [],
   "source": []
  },
  {
   "cell_type": "code",
   "execution_count": null,
   "metadata": {},
   "outputs": [],
   "source": []
  },
  {
   "cell_type": "code",
   "execution_count": null,
   "metadata": {},
   "outputs": [],
   "source": []
  },
  {
   "cell_type": "code",
   "execution_count": null,
   "metadata": {},
   "outputs": [],
   "source": []
  },
  {
   "cell_type": "code",
   "execution_count": 65,
   "metadata": {},
   "outputs": [],
   "source": [
    "df_25 = df[df.cohort_id == '25']"
   ]
  },
  {
   "cell_type": "code",
   "execution_count": 66,
   "metadata": {},
   "outputs": [
    {
     "data": {
      "text/html": [
       "<div>\n",
       "<style scoped>\n",
       "    .dataframe tbody tr th:only-of-type {\n",
       "        vertical-align: middle;\n",
       "    }\n",
       "\n",
       "    .dataframe tbody tr th {\n",
       "        vertical-align: top;\n",
       "    }\n",
       "\n",
       "    .dataframe thead th {\n",
       "        text-align: right;\n",
       "    }\n",
       "</style>\n",
       "<table border=\"1\" class=\"dataframe\">\n",
       "  <thead>\n",
       "    <tr style=\"text-align: right;\">\n",
       "      <th></th>\n",
       "      <th>cohort_id</th>\n",
       "      <th>ip</th>\n",
       "      <th>link</th>\n",
       "      <th>student_id</th>\n",
       "      <th>timestamp</th>\n",
       "    </tr>\n",
       "  </thead>\n",
       "  <tbody>\n",
       "    <tr>\n",
       "      <th>count</th>\n",
       "      <td>24681</td>\n",
       "      <td>24681</td>\n",
       "      <td>24681</td>\n",
       "      <td>24681</td>\n",
       "      <td>24681</td>\n",
       "    </tr>\n",
       "    <tr>\n",
       "      <th>unique</th>\n",
       "      <td>1</td>\n",
       "      <td>391</td>\n",
       "      <td>389</td>\n",
       "      <td>26</td>\n",
       "      <td>24282</td>\n",
       "    </tr>\n",
       "    <tr>\n",
       "      <th>top</th>\n",
       "      <td>25</td>\n",
       "      <td>97.105.19.58</td>\n",
       "      <td>/</td>\n",
       "      <td>234</td>\n",
       "      <td>2018-10-30 13:52:18</td>\n",
       "    </tr>\n",
       "    <tr>\n",
       "      <th>freq</th>\n",
       "      <td>24681</td>\n",
       "      <td>17394</td>\n",
       "      <td>1040</td>\n",
       "      <td>1696</td>\n",
       "      <td>5</td>\n",
       "    </tr>\n",
       "  </tbody>\n",
       "</table>\n",
       "</div>"
      ],
      "text/plain": [
       "       cohort_id            ip   link student_id            timestamp\n",
       "count      24681         24681  24681      24681                24681\n",
       "unique         1           391    389         26                24282\n",
       "top           25  97.105.19.58      /        234  2018-10-30 13:52:18\n",
       "freq       24681         17394   1040       1696                    5"
      ]
     },
     "execution_count": 66,
     "metadata": {},
     "output_type": "execute_result"
    }
   ],
   "source": [
    "df_25.describe()"
   ]
  },
  {
   "cell_type": "code",
   "execution_count": 104,
   "metadata": {},
   "outputs": [
    {
     "data": {
      "text/plain": [
       "230051"
      ]
     },
     "execution_count": 104,
     "metadata": {},
     "output_type": "execute_result"
    }
   ],
   "source": [
    "df_25.index.max()"
   ]
  },
  {
   "cell_type": "code",
   "execution_count": 106,
   "metadata": {},
   "outputs": [],
   "source": [
    "df_25['timestamp'] = pd.to_datetime(df_25['timestamp'], utc=True)"
   ]
  },
  {
   "cell_type": "code",
   "execution_count": 107,
   "metadata": {},
   "outputs": [],
   "source": [
    "df_25.set_index('timestamp', inplace=True)"
   ]
  },
  {
   "cell_type": "code",
   "execution_count": 70,
   "metadata": {},
   "outputs": [],
   "source": [
    "#start date: 2018-07-23"
   ]
  },
  {
   "cell_type": "code",
   "execution_count": 108,
   "metadata": {},
   "outputs": [
    {
     "data": {
      "text/plain": [
       "slides/sessions_and_cookies                           1\n",
       "8._Time_Series                                        1\n",
       "10._NLP                                               1\n",
       "prework/cli/03-file-paths                             1\n",
       "6.04.01_Preprocessing                                 1\n",
       "2.01.00_Descriptive_Stats                             1\n",
       "10.02.01_ParseText                                    1\n",
       "4.6.3_introduction_to_pandas                          1\n",
       "8.03_Explore                                          1\n",
       "content/php_ii/command-line/io-streams.html           1\n",
       "5.02_Prep                                             1\n",
       "slides/deployment_and_dependencies                    1\n",
       "6.01.01_AcquireSQL                                    1\n",
       "2.02.00_Inferential_Stats                             1\n",
       "2.02.06_Correlation                                   1\n",
       "4.6.2_introduction_to_numpy                           1\n",
       "10.00_Intro.html                                      1\n",
       "13.03_Bokeh                                           1\n",
       "content/php_iii/php-with-html                         1\n",
       "10.04.03_SentimentAnalysis                            1\n",
       "05_creating_files_and_directories                     1\n",
       "css-ii                                                1\n",
       "13.11_Exercises                                       1\n",
       "Excel_Shortcuts                                       1\n",
       "introduction-to-java                                  1\n",
       "content/mysql/intro-to-mysql/users.html               1\n",
       "4.6.1_introduction_to_matplotlib                      1\n",
       "5.04.02_OrdinaryLeastSquares                          1\n",
       "5.01_Acquire                                          1\n",
       "appendix/further-reading/mysql/host-wildcards         1\n",
       "                                                     ..\n",
       "8.05_Deliver                                          1\n",
       "5.00_Intro                                            1\n",
       "10.03_Explore                                         1\n",
       "content/laravel/intro                                 1\n",
       "5.05_Deliver                                          1\n",
       "css-i                                                 1\n",
       "7.00_Intro                                            1\n",
       "13.01.02.04_Prototype                                 1\n",
       "9._Anomaly_Detection                                  1\n",
       "slides/passwords                                      1\n",
       "dendogram_sample.jpeg                                 1\n",
       "10.04.04_TextClassification                           1\n",
       "2.00.04_PrepareData_Excel                             1\n",
       "slides/user_input                                     1\n",
       "6.04.03_KNN                                           1\n",
       "6.04.04_LogisticRegression                            1\n",
       "6.04.05_SVM                                           1\n",
       "10.04.02_FeatureExtraction_Word2Vec                   1\n",
       "6.01.03_Summarize                                     1\n",
       "7.01_Acquire                                          1\n",
       "2.02.01_Probability                                   1\n",
       "content/mysql/aliases-and-functions/functions.html    1\n",
       "10.02.03_TFIDF                                        1\n",
       "7.04.01_Partitioning                                  1\n",
       "8.00_Intro                                            1\n",
       "13.01.02.01_Prep                                      1\n",
       "13.01.02_Create                                       1\n",
       "6.02.02_MissingVals                                   1\n",
       "2.02.05_Compare_Means                                 1\n",
       "13.02_Tableau                                         1\n",
       "Name: link, Length: 126, dtype: int64"
      ]
     },
     "execution_count": 108,
     "metadata": {},
     "output_type": "execute_result"
    }
   ],
   "source": [
    "df_25.link.value_counts().tail(126)"
   ]
  },
  {
   "cell_type": "code",
   "execution_count": 109,
   "metadata": {},
   "outputs": [],
   "source": [
    "my_datetime_fmt = mdates.DateFormatter('%m-%d %H:%T')\n",
    "\n",
    "df_student = df_25['student_id'].resample('W').count()\n",
    "\n",
    "df_student = df_student.fillna(value=0)"
   ]
  },
  {
   "cell_type": "code",
   "execution_count": 110,
   "metadata": {},
   "outputs": [],
   "source": [
    "df_student = df_student.astype(str)"
   ]
  },
  {
   "cell_type": "code",
   "execution_count": 111,
   "metadata": {},
   "outputs": [
    {
     "data": {
      "text/plain": [
       "timestamp\n",
       "2018-07-29 00:00:00+00:00    1704\n",
       "2018-08-05 00:00:00+00:00    1649\n",
       "2018-08-12 00:00:00+00:00    1683\n",
       "2018-08-19 00:00:00+00:00    1969\n",
       "2018-08-26 00:00:00+00:00    1428\n",
       "2018-09-02 00:00:00+00:00    2028\n",
       "2018-09-09 00:00:00+00:00    1440\n",
       "2018-09-16 00:00:00+00:00    1660\n",
       "2018-09-23 00:00:00+00:00    1438\n",
       "2018-09-30 00:00:00+00:00    1248\n",
       "2018-10-07 00:00:00+00:00    1853\n",
       "2018-10-14 00:00:00+00:00    1647\n",
       "2018-10-21 00:00:00+00:00    1138\n",
       "2018-10-28 00:00:00+00:00     883\n",
       "2018-11-04 00:00:00+00:00     944\n",
       "2018-11-11 00:00:00+00:00     765\n",
       "2018-11-18 00:00:00+00:00     297\n",
       "2018-11-25 00:00:00+00:00     113\n",
       "2018-12-02 00:00:00+00:00     250\n",
       "2018-12-09 00:00:00+00:00      78\n",
       "2018-12-16 00:00:00+00:00      19\n",
       "2018-12-23 00:00:00+00:00      12\n",
       "2018-12-30 00:00:00+00:00       0\n",
       "2019-01-06 00:00:00+00:00      71\n",
       "2019-01-13 00:00:00+00:00       0\n",
       "2019-01-20 00:00:00+00:00      25\n",
       "2019-01-27 00:00:00+00:00      17\n",
       "2019-02-03 00:00:00+00:00      16\n",
       "2019-02-10 00:00:00+00:00      17\n",
       "2019-02-17 00:00:00+00:00     221\n",
       "2019-02-24 00:00:00+00:00      18\n",
       "2019-03-03 00:00:00+00:00       1\n",
       "2019-03-10 00:00:00+00:00      24\n",
       "2019-03-17 00:00:00+00:00      10\n",
       "2019-03-24 00:00:00+00:00       8\n",
       "2019-03-31 00:00:00+00:00       7\n",
       "Freq: W-SUN, Name: student_id, dtype: object"
      ]
     },
     "execution_count": 111,
     "metadata": {},
     "output_type": "execute_result"
    }
   ],
   "source": [
    "df_student"
   ]
  },
  {
   "cell_type": "code",
   "execution_count": 115,
   "metadata": {},
   "outputs": [
    {
     "data": {
      "text/plain": [
       "[<matplotlib.lines.Line2D at 0x1a2d4b8978>]"
      ]
     },
     "execution_count": 115,
     "metadata": {},
     "output_type": "execute_result"
    },
    {
     "data": {
      "image/png": "[encoded data removed]",
      "text/plain": [
       "<Figure size 432x288 with 1 Axes>"
      ]
     },
     "metadata": {
      "needs_background": "light"
     },
     "output_type": "display_data"
    }
   ],
   "source": [
    "train = df_25[:'2018-11-15']['student_id'].resample('W').agg('count')\n",
    "test = df_25['2018-11-16':]['student_id'].resample('W').agg('count')\n",
    "plt.plot(train)\n",
    "plt.plot(test)"
   ]
  },
  {
   "cell_type": "code",
   "execution_count": 116,
   "metadata": {},
   "outputs": [],
   "source": [
    "#SIMPLE MOVING AVERAGE\n",
    "# Calculating the short-window simple moving average\n",
    "short_rolling = train.rolling(4).mean()\n",
    "\n",
    "# Calculating the long-window simple moving average\n",
    "long_rolling = train.rolling(8).mean()"
   ]
  },
  {
   "cell_type": "code",
   "execution_count": 117,
   "metadata": {},
   "outputs": [
    {
     "data": {
      "text/plain": [
       "Text(0, 0.5, 'id total')"
      ]
     },
     "execution_count": 117,
     "metadata": {},
     "output_type": "execute_result"
    },
    {
     "data": {
      "image/png": "[encoded data removed]",
      "text/plain": [
       "<Figure size 864x288 with 1 Axes>"
      ]
     },
     "metadata": {
      "needs_background": "light"
     },
     "output_type": "display_data"
    }
   ],
   "source": [
    "fig, ax = plt.subplots(figsize=(12,4))\n",
    "\n",
    "ax.plot(train.index, \n",
    "        train,\n",
    "        label='student id count')\n",
    "\n",
    "ax.plot(short_rolling.index, \n",
    "        short_rolling, \n",
    "        label = '4 SMA')\n",
    "ax.plot(long_rolling.index, \n",
    "        long_rolling, \n",
    "        label = '8 SMA')\n",
    "\n",
    "ax.legend(loc='best')\n",
    "ax.set_ylabel('id total')\n",
    "# ax.xaxis(rotate=90)\n",
    "# ax.xaxis.set_major_formatter(my_datetime_fmt)"
   ]
  },
  {
   "cell_type": "code",
   "execution_count": 118,
   "metadata": {},
   "outputs": [
    {
     "data": {
      "text/plain": [
       "timestamp\n",
       "2018-07-29 00:00:00+00:00    1704.000000\n",
       "2018-08-05 00:00:00+00:00    1695.538462\n",
       "2018-08-12 00:00:00+00:00    1693.609467\n",
       "Freq: W-SUN, Name: student_id, dtype: float64"
      ]
     },
     "execution_count": 118,
     "metadata": {},
     "output_type": "execute_result"
    }
   ],
   "source": [
    "#EMA\n",
    "ema_short = train.ewm(span=12, adjust=False).mean()\n",
    "ema_short[0:3]\n",
    "\n",
    "ema_long = train.ewm(span=12, adjust=False).mean()\n",
    "ema_long[0:3]"
   ]
  },
  {
   "cell_type": "code",
   "execution_count": 119,
   "metadata": {},
   "outputs": [],
   "source": [
    "span = 24\n",
    "ema_long = train.ewm(span=span, adjust=False).mean()\n",
    "midband = ema_long[-1]\n",
    "ub = midband + ema_long[-24:-1].std()*3\n",
    "lb = midband - ema_long[-24:-1].std()*3"
   ]
  },
  {
   "cell_type": "code",
   "execution_count": 120,
   "metadata": {},
   "outputs": [
    {
     "data": {
      "image/png": "[encoded data removed]",
      "text/plain": [
       "<Figure size 864x288 with 1 Axes>"
      ]
     },
     "metadata": {
      "needs_background": "light"
     },
     "output_type": "display_data"
    }
   ],
   "source": [
    "fig, ax = plt.subplots(figsize=(12,4))\n",
    "\n",
    "ax.plot(train.index, \n",
    "        train,\n",
    "        label='student id count')\n",
    "\n",
    "ax.plot(short_rolling.index, \n",
    "        short_rolling, \n",
    "        label = '4 SMA')\n",
    "ax.plot(long_rolling.index, \n",
    "        ema_short, \n",
    "        label = 'Span 4 EMA')\n",
    "ax.plot(long_rolling.index, \n",
    "        long_rolling, \n",
    "        label = '8 SMA')\n",
    "ax.plot(long_rolling.index, \n",
    "        ema_long, \n",
    "        label = 'Span 8 EMA')\n",
    "\n",
    "ax.legend(loc='best')\n",
    "ax.set_ylabel('id total')\n",
    "\n",
    "yhat = pd.DataFrame(dict(actual=test))"
   ]
  },
  {
   "cell_type": "code",
   "execution_count": 121,
   "metadata": {},
   "outputs": [],
   "source": [
    "span = 7\n",
    "ema_long = train.ewm(span=span, adjust=False).mean()\n",
    "midband = ema_long[-1]\n",
    "ub = midband + ema_long[-24:-1].std()*3\n",
    "lb = midband - ema_long[-24:-1].std()*3\n",
    "\n",
    "yhat['moving_avg_forecast'] = midband"
   ]
  },
  {
   "cell_type": "code",
   "execution_count": 122,
   "metadata": {},
   "outputs": [],
   "source": [
    "yhat = yhat.astype(float)"
   ]
  },
  {
   "cell_type": "code",
   "execution_count": 123,
   "metadata": {},
   "outputs": [
    {
     "data": {
      "text/plain": [
       "actual                 float64\n",
       "moving_avg_forecast    float64\n",
       "dtype: object"
      ]
     },
     "execution_count": 123,
     "metadata": {},
     "output_type": "execute_result"
    }
   ],
   "source": [
    "yhat.dtypes"
   ]
  },
  {
   "cell_type": "code",
   "execution_count": 124,
   "metadata": {
    "scrolled": true
   },
   "outputs": [
    {
     "data": {
      "text/html": [
       "<div>\n",
       "<style scoped>\n",
       "    .dataframe tbody tr th:only-of-type {\n",
       "        vertical-align: middle;\n",
       "    }\n",
       "\n",
       "    .dataframe tbody tr th {\n",
       "        vertical-align: top;\n",
       "    }\n",
       "\n",
       "    .dataframe thead th {\n",
       "        text-align: right;\n",
       "    }\n",
       "</style>\n",
       "<table border=\"1\" class=\"dataframe\">\n",
       "  <thead>\n",
       "    <tr style=\"text-align: right;\">\n",
       "      <th></th>\n",
       "      <th>actual</th>\n",
       "      <th>moving_avg_forecast</th>\n",
       "    </tr>\n",
       "    <tr>\n",
       "      <th>timestamp</th>\n",
       "      <th></th>\n",
       "      <th></th>\n",
       "    </tr>\n",
       "  </thead>\n",
       "  <tbody>\n",
       "    <tr>\n",
       "      <th>2018-11-18 00:00:00+00:00</th>\n",
       "      <td>81.0</td>\n",
       "      <td>897.063989</td>\n",
       "    </tr>\n",
       "    <tr>\n",
       "      <th>2018-11-25 00:00:00+00:00</th>\n",
       "      <td>113.0</td>\n",
       "      <td>897.063989</td>\n",
       "    </tr>\n",
       "    <tr>\n",
       "      <th>2018-12-02 00:00:00+00:00</th>\n",
       "      <td>250.0</td>\n",
       "      <td>897.063989</td>\n",
       "    </tr>\n",
       "    <tr>\n",
       "      <th>2018-12-09 00:00:00+00:00</th>\n",
       "      <td>78.0</td>\n",
       "      <td>897.063989</td>\n",
       "    </tr>\n",
       "    <tr>\n",
       "      <th>2018-12-16 00:00:00+00:00</th>\n",
       "      <td>19.0</td>\n",
       "      <td>897.063989</td>\n",
       "    </tr>\n",
       "  </tbody>\n",
       "</table>\n",
       "</div>"
      ],
      "text/plain": [
       "                           actual  moving_avg_forecast\n",
       "timestamp                                             \n",
       "2018-11-18 00:00:00+00:00    81.0           897.063989\n",
       "2018-11-25 00:00:00+00:00   113.0           897.063989\n",
       "2018-12-02 00:00:00+00:00   250.0           897.063989\n",
       "2018-12-09 00:00:00+00:00    78.0           897.063989\n",
       "2018-12-16 00:00:00+00:00    19.0           897.063989"
      ]
     },
     "execution_count": 124,
     "metadata": {},
     "output_type": "execute_result"
    }
   ],
   "source": [
    "yhat.head()"
   ]
  },
  {
   "cell_type": "code",
   "execution_count": 125,
   "metadata": {},
   "outputs": [],
   "source": [
    "# compute the absolute error:\n",
    "yhat['error'] = abs(yhat.actual - yhat.moving_avg_forecast)\n",
    "\n",
    "# compute the mean of the absolute error:\n",
    "# yhat.error.median()\n",
    "\n",
    "# compute upper band and lower band using IQR with weight of 3\n",
    "\n",
    "yhat['pct_b'] = (yhat.actual-lb)/(ub-lb)"
   ]
  },
  {
   "cell_type": "code",
   "execution_count": 126,
   "metadata": {},
   "outputs": [
    {
     "data": {
      "text/html": [
       "<div>\n",
       "<style scoped>\n",
       "    .dataframe tbody tr th:only-of-type {\n",
       "        vertical-align: middle;\n",
       "    }\n",
       "\n",
       "    .dataframe tbody tr th {\n",
       "        vertical-align: top;\n",
       "    }\n",
       "\n",
       "    .dataframe thead th {\n",
       "        text-align: right;\n",
       "    }\n",
       "</style>\n",
       "<table border=\"1\" class=\"dataframe\">\n",
       "  <thead>\n",
       "    <tr style=\"text-align: right;\">\n",
       "      <th></th>\n",
       "      <th>actual</th>\n",
       "      <th>moving_avg_forecast</th>\n",
       "      <th>error</th>\n",
       "      <th>pct_b</th>\n",
       "    </tr>\n",
       "    <tr>\n",
       "      <th>timestamp</th>\n",
       "      <th></th>\n",
       "      <th></th>\n",
       "      <th></th>\n",
       "      <th></th>\n",
       "    </tr>\n",
       "  </thead>\n",
       "  <tbody>\n",
       "  </tbody>\n",
       "</table>\n",
       "</div>"
      ],
      "text/plain": [
       "Empty DataFrame\n",
       "Columns: [actual, moving_avg_forecast, error, pct_b]\n",
       "Index: []"
      ]
     },
     "execution_count": 126,
     "metadata": {},
     "output_type": "execute_result"
    }
   ],
   "source": [
    "yhat[yhat.pct_b < 0]\n",
    "yhat[yhat.pct_b > 1]"
   ]
  },
  {
   "cell_type": "code",
   "execution_count": 127,
   "metadata": {},
   "outputs": [
    {
     "data": {
      "image/png": "[encoded data removed]",
      "text/plain": [
       "<Figure size 1152x576 with 1 Axes>"
      ]
     },
     "metadata": {
      "needs_background": "light"
     },
     "output_type": "display_data"
    },
    {
     "data": {
      "text/plain": [
       "[<matplotlib.lines.Line2D at 0x1a2d6bfba8>]"
      ]
     },
     "execution_count": 127,
     "metadata": {},
     "output_type": "execute_result"
    },
    {
     "data": {
      "image/png": "[encoded data removed]",
      "text/plain": [
       "<Figure size 864x288 with 1 Axes>"
      ]
     },
     "metadata": {
      "needs_background": "light"
     },
     "output_type": "display_data"
    }
   ],
   "source": [
    "plot_and_eval(yhat.moving_avg_forecast, actual=test)\n",
    "plt.figure(figsize=(12,4))\n",
    "plt.plot(yhat.pct_b)"
   ]
  },
  {
   "cell_type": "markdown",
   "metadata": {},
   "source": [
    "# Clustering - DBSCAN"
   ]
  },
  {
   "cell_type": "markdown",
   "metadata": {},
   "source": [
    "Use dbscan to detect anomalies in other products from the customers dataset.\n",
    "\n",
    "Use dbscan to detect anomalies in number of bedrooms and finished square feet of property for the filtered dataset you used in the clustering project (single unit properties with a logerror)."
   ]
  },
  {
   "cell_type": "code",
   "execution_count": 128,
   "metadata": {},
   "outputs": [],
   "source": [
    "from __future__ import division\n",
    "import itertools\n",
    "import warnings\n",
    "warnings.filterwarnings(\"ignore\")\n",
    "import matplotlib.pyplot as plt\n",
    "import matplotlib.dates as mdates\n",
    "import numpy as np\n",
    "import pandas as pd\n",
    "import math\n",
    "from sklearn import metrics\n",
    "from random import randint\n",
    "from matplotlib import style\n",
    "import seaborn as sns\n",
    "from sklearn.cluster import DBSCAN\n",
    "from sklearn.preprocessing import StandardScaler\n",
    "\n",
    "%matplotlib inline"
   ]
  },
  {
   "cell_type": "code",
   "execution_count": 129,
   "metadata": {},
   "outputs": [
    {
     "data": {
      "text/html": [
       "<div>\n",
       "<style scoped>\n",
       "    .dataframe tbody tr th:only-of-type {\n",
       "        vertical-align: middle;\n",
       "    }\n",
       "\n",
       "    .dataframe tbody tr th {\n",
       "        vertical-align: top;\n",
       "    }\n",
       "\n",
       "    .dataframe thead th {\n",
       "        text-align: right;\n",
       "    }\n",
       "</style>\n",
       "<table border=\"1\" class=\"dataframe\">\n",
       "  <thead>\n",
       "    <tr style=\"text-align: right;\">\n",
       "      <th></th>\n",
       "      <th>Channel</th>\n",
       "      <th>Region</th>\n",
       "      <th>Fresh</th>\n",
       "      <th>Milk</th>\n",
       "      <th>Grocery</th>\n",
       "      <th>Frozen</th>\n",
       "      <th>Detergents_Paper</th>\n",
       "      <th>Delicassen</th>\n",
       "    </tr>\n",
       "  </thead>\n",
       "  <tbody>\n",
       "    <tr>\n",
       "      <th>0</th>\n",
       "      <td>2</td>\n",
       "      <td>3</td>\n",
       "      <td>12669</td>\n",
       "      <td>9656</td>\n",
       "      <td>7561</td>\n",
       "      <td>214</td>\n",
       "      <td>2674</td>\n",
       "      <td>1338</td>\n",
       "    </tr>\n",
       "    <tr>\n",
       "      <th>1</th>\n",
       "      <td>2</td>\n",
       "      <td>3</td>\n",
       "      <td>7057</td>\n",
       "      <td>9810</td>\n",
       "      <td>9568</td>\n",
       "      <td>1762</td>\n",
       "      <td>3293</td>\n",
       "      <td>1776</td>\n",
       "    </tr>\n",
       "    <tr>\n",
       "      <th>2</th>\n",
       "      <td>2</td>\n",
       "      <td>3</td>\n",
       "      <td>6353</td>\n",
       "      <td>8808</td>\n",
       "      <td>7684</td>\n",
       "      <td>2405</td>\n",
       "      <td>3516</td>\n",
       "      <td>7844</td>\n",
       "    </tr>\n",
       "    <tr>\n",
       "      <th>3</th>\n",
       "      <td>1</td>\n",
       "      <td>3</td>\n",
       "      <td>13265</td>\n",
       "      <td>1196</td>\n",
       "      <td>4221</td>\n",
       "      <td>6404</td>\n",
       "      <td>507</td>\n",
       "      <td>1788</td>\n",
       "    </tr>\n",
       "    <tr>\n",
       "      <th>4</th>\n",
       "      <td>2</td>\n",
       "      <td>3</td>\n",
       "      <td>22615</td>\n",
       "      <td>5410</td>\n",
       "      <td>7198</td>\n",
       "      <td>3915</td>\n",
       "      <td>1777</td>\n",
       "      <td>5185</td>\n",
       "    </tr>\n",
       "  </tbody>\n",
       "</table>\n",
       "</div>"
      ],
      "text/plain": [
       "   Channel  Region  Fresh  Milk  Grocery  Frozen  Detergents_Paper  Delicassen\n",
       "0        2       3  12669  9656     7561     214              2674        1338\n",
       "1        2       3   7057  9810     9568    1762              3293        1776\n",
       "2        2       3   6353  8808     7684    2405              3516        7844\n",
       "3        1       3  13265  1196     4221    6404               507        1788\n",
       "4        2       3  22615  5410     7198    3915              1777        5185"
      ]
     },
     "execution_count": 129,
     "metadata": {},
     "output_type": "execute_result"
    }
   ],
   "source": [
    "df = pd.read_csv(\"customers.csv\")\n",
    "\n",
    "df.head()"
   ]
  },
  {
   "cell_type": "code",
   "execution_count": 130,
   "metadata": {},
   "outputs": [],
   "source": [
    "df = df[[\"Fresh\", \"Frozen\",\"Delicassen\"]]"
   ]
  },
  {
   "cell_type": "code",
   "execution_count": 131,
   "metadata": {},
   "outputs": [
    {
     "data": {
      "text/plain": [
       "array([[12669.,   214.,  1338.],\n",
       "       [ 7057.,  1762.,  1776.],\n",
       "       [ 6353.,  2405.,  7844.],\n",
       "       [13265.,  6404.,  1788.],\n",
       "       [22615.,  3915.,  5185.],\n",
       "       [ 9413.,   666.,  1451.],\n",
       "       [12126.,   480.,   545.],\n",
       "       [ 7579.,  1669.,  2566.],\n",
       "       [ 5963.,   425.,   750.],\n",
       "       [ 6006.,  1159.,  2098.]], dtype=float32)"
      ]
     },
     "execution_count": 131,
     "metadata": {},
     "output_type": "execute_result"
    }
   ],
   "source": [
    "np_array = df.values.astype(\"float32\", copy = False)\n",
    "np_array[0:10]"
   ]
  },
  {
   "cell_type": "markdown",
   "metadata": {},
   "source": [
    "Normalize each attribute by scaling it to 0 mean and unit variance. This helps to keep the inter-relationships between the features intact so that a small change in one feature would reflect in the other."
   ]
  },
  {
   "cell_type": "code",
   "execution_count": 132,
   "metadata": {},
   "outputs": [
    {
     "data": {
      "text/plain": [
       "array([[ 0.05293319, -0.5893672 , -0.06633906],\n",
       "       [-0.39130196, -0.27013618,  0.08915105],\n",
       "       [-0.44702926, -0.13753572,  2.2432926 ],\n",
       "       [ 0.1001114 ,  0.68714434,  0.09341105],\n",
       "       [ 0.8402394 ,  0.17385884,  1.2993469 ],\n",
       "       [-0.20480551, -0.49615505, -0.02622403],\n",
       "       [ 0.00995035, -0.5345123 , -0.34785426],\n",
       "       [-0.34998146, -0.28931478,  0.36960125],\n",
       "       [-0.4779009 , -0.54585445, -0.27507922],\n",
       "       [-0.4744971 , -0.3944878 ,  0.20346113]], dtype=float32)"
      ]
     },
     "execution_count": 132,
     "metadata": {},
     "output_type": "execute_result"
    }
   ],
   "source": [
    "stscaler = StandardScaler().fit(np_array)\n",
    "np_array = stscaler.transform(np_array)\n",
    "np_array[0:10]"
   ]
  },
  {
   "cell_type": "code",
   "execution_count": 133,
   "metadata": {},
   "outputs": [],
   "source": [
    "#create & fit\n",
    "dbsc = DBSCAN(eps = .75, min_samples = 15).fit(np_array)"
   ]
  },
  {
   "cell_type": "code",
   "execution_count": 134,
   "metadata": {},
   "outputs": [
    {
     "data": {
      "text/plain": [
       "array([ 0,  0, -1,  0,  0,  0,  0,  0,  0,  0])"
      ]
     },
     "execution_count": 134,
     "metadata": {},
     "output_type": "execute_result"
    }
   ],
   "source": [
    "labels = dbsc.labels_\n",
    "labels[0:10]"
   ]
  },
  {
   "cell_type": "code",
   "execution_count": 135,
   "metadata": {},
   "outputs": [
    {
     "data": {
      "text/plain": [
       " 0    399\n",
       "-1     41\n",
       "Name: labels, dtype: int64"
      ]
     },
     "execution_count": 135,
     "metadata": {},
     "output_type": "execute_result"
    }
   ],
   "source": [
    "df['labels'] = labels\n",
    "df.labels.value_counts()"
   ]
  },
  {
   "cell_type": "code",
   "execution_count": 136,
   "metadata": {},
   "outputs": [
    {
     "data": {
      "text/html": [
       "<div>\n",
       "<style scoped>\n",
       "    .dataframe tbody tr th:only-of-type {\n",
       "        vertical-align: middle;\n",
       "    }\n",
       "\n",
       "    .dataframe tbody tr th {\n",
       "        vertical-align: top;\n",
       "    }\n",
       "\n",
       "    .dataframe thead th {\n",
       "        text-align: right;\n",
       "    }\n",
       "</style>\n",
       "<table border=\"1\" class=\"dataframe\">\n",
       "  <thead>\n",
       "    <tr style=\"text-align: right;\">\n",
       "      <th></th>\n",
       "      <th>Fresh</th>\n",
       "      <th>Frozen</th>\n",
       "      <th>Delicassen</th>\n",
       "      <th>labels</th>\n",
       "    </tr>\n",
       "  </thead>\n",
       "  <tbody>\n",
       "    <tr>\n",
       "      <th>2</th>\n",
       "      <td>6353</td>\n",
       "      <td>2405</td>\n",
       "      <td>7844</td>\n",
       "      <td>-1</td>\n",
       "    </tr>\n",
       "    <tr>\n",
       "      <th>22</th>\n",
       "      <td>31276</td>\n",
       "      <td>9408</td>\n",
       "      <td>4334</td>\n",
       "      <td>-1</td>\n",
       "    </tr>\n",
       "    <tr>\n",
       "      <th>23</th>\n",
       "      <td>26373</td>\n",
       "      <td>5154</td>\n",
       "      <td>16523</td>\n",
       "      <td>-1</td>\n",
       "    </tr>\n",
       "    <tr>\n",
       "      <th>24</th>\n",
       "      <td>22647</td>\n",
       "      <td>2915</td>\n",
       "      <td>5778</td>\n",
       "      <td>-1</td>\n",
       "    </tr>\n",
       "    <tr>\n",
       "      <th>29</th>\n",
       "      <td>43088</td>\n",
       "      <td>1200</td>\n",
       "      <td>823</td>\n",
       "      <td>-1</td>\n",
       "    </tr>\n",
       "  </tbody>\n",
       "</table>\n",
       "</div>"
      ],
      "text/plain": [
       "    Fresh  Frozen  Delicassen  labels\n",
       "2    6353    2405        7844      -1\n",
       "22  31276    9408        4334      -1\n",
       "23  26373    5154       16523      -1\n",
       "24  22647    2915        5778      -1\n",
       "29  43088    1200         823      -1"
      ]
     },
     "execution_count": 136,
     "metadata": {},
     "output_type": "execute_result"
    }
   ],
   "source": [
    "df[df.labels==-1].head()"
   ]
  },
  {
   "cell_type": "code",
   "execution_count": 137,
   "metadata": {},
   "outputs": [
    {
     "data": {
      "image/png": "[encoded data removed]",
      "text/plain": [
       "<Figure size 432x288 with 1 Axes>"
      ]
     },
     "metadata": {
      "needs_background": "light"
     },
     "output_type": "display_data"
    },
    {
     "data": {
      "image/png": "[encoded data removed]",
      "text/plain": [
       "<Figure size 432x288 with 1 Axes>"
      ]
     },
     "metadata": {
      "needs_background": "light"
     },
     "output_type": "display_data"
    }
   ],
   "source": [
    "sns.scatterplot(df.Fresh, df.Frozen, hue=df.labels)\n",
    "plt.show()\n",
    "\n",
    "sns.scatterplot(df.Fresh, df.Delicassen, hue=df.labels)\n",
    "plt.show()"
   ]
  },
  {
   "cell_type": "code",
   "execution_count": 138,
   "metadata": {},
   "outputs": [
    {
     "data": {
      "text/plain": [
       "Text(0.5, 0, 'Delicassen')"
      ]
     },
     "execution_count": 138,
     "metadata": {},
     "output_type": "execute_result"
    },
    {
     "data": {
      "image/png": "[encoded data removed]",
      "text/plain": [
       "<Figure size 576x576 with 1 Axes>"
      ]
     },
     "metadata": {
      "needs_background": "light"
     },
     "output_type": "display_data"
    }
   ],
   "source": [
    "from mpl_toolkits.mplot3d import Axes3D\n",
    "\n",
    "fig = plt.figure(1, figsize=(8, 8))\n",
    "ax = Axes3D(fig, rect=[0, 0, .95, 1], elev=48, azim=134)\n",
    "\n",
    "# plot the points\n",
    "ax.scatter(df.Fresh, df.Frozen, df.Delicassen,\n",
    "           c=df.labels, edgecolor='k')\n",
    "\n",
    "ax.w_xaxis.set_ticklabels([])\n",
    "ax.w_yaxis.set_ticklabels([])\n",
    "ax.w_zaxis.set_ticklabels([])\n",
    "\n",
    "ax.set_xlabel('Fresh')\n",
    "ax.set_ylabel('Frozen')\n",
    "ax.set_zlabel('Delicassen')"
   ]
  },
  {
   "cell_type": "markdown",
   "metadata": {},
   "source": [
    "### Using zillow data:"
   ]
  },
  {
   "cell_type": "code",
   "execution_count": 163,
   "metadata": {},
   "outputs": [],
   "source": [
    "df = pd.read_csv(\"zillow.csv\")"
   ]
  },
  {
   "cell_type": "code",
   "execution_count": 164,
   "metadata": {},
   "outputs": [
    {
     "data": {
      "text/html": [
       "<div>\n",
       "<style scoped>\n",
       "    .dataframe tbody tr th:only-of-type {\n",
       "        vertical-align: middle;\n",
       "    }\n",
       "\n",
       "    .dataframe tbody tr th {\n",
       "        vertical-align: top;\n",
       "    }\n",
       "\n",
       "    .dataframe thead th {\n",
       "        text-align: right;\n",
       "    }\n",
       "</style>\n",
       "<table border=\"1\" class=\"dataframe\">\n",
       "  <thead>\n",
       "    <tr style=\"text-align: right;\">\n",
       "      <th></th>\n",
       "      <th>0</th>\n",
       "      <th>1</th>\n",
       "      <th>2</th>\n",
       "      <th>3</th>\n",
       "      <th>4</th>\n",
       "    </tr>\n",
       "  </thead>\n",
       "  <tbody>\n",
       "    <tr>\n",
       "      <th>Unnamed: 0</th>\n",
       "      <td>0</td>\n",
       "      <td>1</td>\n",
       "      <td>2</td>\n",
       "      <td>3</td>\n",
       "      <td>4</td>\n",
       "    </tr>\n",
       "    <tr>\n",
       "      <th>id</th>\n",
       "      <td>2931667</td>\n",
       "      <td>475764</td>\n",
       "      <td>2444575</td>\n",
       "      <td>1584730</td>\n",
       "      <td>2926916</td>\n",
       "    </tr>\n",
       "    <tr>\n",
       "      <th>parcelid</th>\n",
       "      <td>11016594</td>\n",
       "      <td>14366692</td>\n",
       "      <td>12098116</td>\n",
       "      <td>12643413</td>\n",
       "      <td>14432541</td>\n",
       "    </tr>\n",
       "    <tr>\n",
       "      <th>basementsqft</th>\n",
       "      <td>NaN</td>\n",
       "      <td>NaN</td>\n",
       "      <td>NaN</td>\n",
       "      <td>NaN</td>\n",
       "      <td>NaN</td>\n",
       "    </tr>\n",
       "    <tr>\n",
       "      <th>bathroomcnt</th>\n",
       "      <td>2</td>\n",
       "      <td>3.5</td>\n",
       "      <td>3</td>\n",
       "      <td>2</td>\n",
       "      <td>2.5</td>\n",
       "    </tr>\n",
       "    <tr>\n",
       "      <th>bedroomcnt</th>\n",
       "      <td>3</td>\n",
       "      <td>4</td>\n",
       "      <td>2</td>\n",
       "      <td>2</td>\n",
       "      <td>4</td>\n",
       "    </tr>\n",
       "    <tr>\n",
       "      <th>calculatedbathnbr</th>\n",
       "      <td>2</td>\n",
       "      <td>3.5</td>\n",
       "      <td>3</td>\n",
       "      <td>2</td>\n",
       "      <td>2.5</td>\n",
       "    </tr>\n",
       "    <tr>\n",
       "      <th>finishedfloor1squarefeet</th>\n",
       "      <td>NaN</td>\n",
       "      <td>NaN</td>\n",
       "      <td>NaN</td>\n",
       "      <td>NaN</td>\n",
       "      <td>NaN</td>\n",
       "    </tr>\n",
       "    <tr>\n",
       "      <th>calculatedfinishedsquarefeet</th>\n",
       "      <td>1684</td>\n",
       "      <td>2263</td>\n",
       "      <td>2217</td>\n",
       "      <td>839</td>\n",
       "      <td>2283</td>\n",
       "    </tr>\n",
       "    <tr>\n",
       "      <th>finishedsquarefeet12</th>\n",
       "      <td>1684</td>\n",
       "      <td>2263</td>\n",
       "      <td>2217</td>\n",
       "      <td>839</td>\n",
       "      <td>2283</td>\n",
       "    </tr>\n",
       "    <tr>\n",
       "      <th>finishedsquarefeet13</th>\n",
       "      <td>NaN</td>\n",
       "      <td>NaN</td>\n",
       "      <td>NaN</td>\n",
       "      <td>NaN</td>\n",
       "      <td>NaN</td>\n",
       "    </tr>\n",
       "    <tr>\n",
       "      <th>finishedsquarefeet15</th>\n",
       "      <td>NaN</td>\n",
       "      <td>NaN</td>\n",
       "      <td>NaN</td>\n",
       "      <td>NaN</td>\n",
       "      <td>NaN</td>\n",
       "    </tr>\n",
       "    <tr>\n",
       "      <th>finishedsquarefeet50</th>\n",
       "      <td>NaN</td>\n",
       "      <td>NaN</td>\n",
       "      <td>NaN</td>\n",
       "      <td>NaN</td>\n",
       "      <td>NaN</td>\n",
       "    </tr>\n",
       "    <tr>\n",
       "      <th>finishedsquarefeet6</th>\n",
       "      <td>NaN</td>\n",
       "      <td>NaN</td>\n",
       "      <td>NaN</td>\n",
       "      <td>NaN</td>\n",
       "      <td>NaN</td>\n",
       "    </tr>\n",
       "    <tr>\n",
       "      <th>fips</th>\n",
       "      <td>6037</td>\n",
       "      <td>6059</td>\n",
       "      <td>6037</td>\n",
       "      <td>6037</td>\n",
       "      <td>6059</td>\n",
       "    </tr>\n",
       "    <tr>\n",
       "      <th>fireplacecnt</th>\n",
       "      <td>NaN</td>\n",
       "      <td>NaN</td>\n",
       "      <td>NaN</td>\n",
       "      <td>NaN</td>\n",
       "      <td>NaN</td>\n",
       "    </tr>\n",
       "    <tr>\n",
       "      <th>fullbathcnt</th>\n",
       "      <td>2</td>\n",
       "      <td>3</td>\n",
       "      <td>3</td>\n",
       "      <td>2</td>\n",
       "      <td>2</td>\n",
       "    </tr>\n",
       "    <tr>\n",
       "      <th>garagecarcnt</th>\n",
       "      <td>NaN</td>\n",
       "      <td>2</td>\n",
       "      <td>NaN</td>\n",
       "      <td>NaN</td>\n",
       "      <td>2</td>\n",
       "    </tr>\n",
       "    <tr>\n",
       "      <th>garagetotalsqft</th>\n",
       "      <td>NaN</td>\n",
       "      <td>468</td>\n",
       "      <td>NaN</td>\n",
       "      <td>NaN</td>\n",
       "      <td>598</td>\n",
       "    </tr>\n",
       "    <tr>\n",
       "      <th>hashottuborspa</th>\n",
       "      <td>NaN</td>\n",
       "      <td>NaN</td>\n",
       "      <td>NaN</td>\n",
       "      <td>NaN</td>\n",
       "      <td>NaN</td>\n",
       "    </tr>\n",
       "    <tr>\n",
       "      <th>latitude</th>\n",
       "      <td>3.4281e+07</td>\n",
       "      <td>3.36681e+07</td>\n",
       "      <td>3.41363e+07</td>\n",
       "      <td>3.37558e+07</td>\n",
       "      <td>3.34856e+07</td>\n",
       "    </tr>\n",
       "    <tr>\n",
       "      <th>longitude</th>\n",
       "      <td>-1.18489e+08</td>\n",
       "      <td>-1.17678e+08</td>\n",
       "      <td>-1.18175e+08</td>\n",
       "      <td>-1.18309e+08</td>\n",
       "      <td>-1.177e+08</td>\n",
       "    </tr>\n",
       "    <tr>\n",
       "      <th>lotsizesquarefeet</th>\n",
       "      <td>7528</td>\n",
       "      <td>3643</td>\n",
       "      <td>11423</td>\n",
       "      <td>70859</td>\n",
       "      <td>6000</td>\n",
       "    </tr>\n",
       "    <tr>\n",
       "      <th>poolcnt</th>\n",
       "      <td>NaN</td>\n",
       "      <td>NaN</td>\n",
       "      <td>NaN</td>\n",
       "      <td>NaN</td>\n",
       "      <td>1</td>\n",
       "    </tr>\n",
       "    <tr>\n",
       "      <th>poolsizesum</th>\n",
       "      <td>NaN</td>\n",
       "      <td>NaN</td>\n",
       "      <td>NaN</td>\n",
       "      <td>NaN</td>\n",
       "      <td>NaN</td>\n",
       "    </tr>\n",
       "    <tr>\n",
       "      <th>pooltypeid10</th>\n",
       "      <td>NaN</td>\n",
       "      <td>NaN</td>\n",
       "      <td>NaN</td>\n",
       "      <td>NaN</td>\n",
       "      <td>NaN</td>\n",
       "    </tr>\n",
       "    <tr>\n",
       "      <th>pooltypeid2</th>\n",
       "      <td>NaN</td>\n",
       "      <td>NaN</td>\n",
       "      <td>NaN</td>\n",
       "      <td>NaN</td>\n",
       "      <td>NaN</td>\n",
       "    </tr>\n",
       "    <tr>\n",
       "      <th>pooltypeid7</th>\n",
       "      <td>NaN</td>\n",
       "      <td>NaN</td>\n",
       "      <td>NaN</td>\n",
       "      <td>NaN</td>\n",
       "      <td>1</td>\n",
       "    </tr>\n",
       "    <tr>\n",
       "      <th>propertycountylandusecode</th>\n",
       "      <td>0100</td>\n",
       "      <td>1</td>\n",
       "      <td>0100</td>\n",
       "      <td>010C</td>\n",
       "      <td>122</td>\n",
       "    </tr>\n",
       "    <tr>\n",
       "      <th>propertyzoningdesc</th>\n",
       "      <td>LARS</td>\n",
       "      <td>NaN</td>\n",
       "      <td>PSR6</td>\n",
       "      <td>LAR3</td>\n",
       "      <td>NaN</td>\n",
       "    </tr>\n",
       "    <tr>\n",
       "      <th>rawcensustractandblock</th>\n",
       "      <td>6.03711e+07</td>\n",
       "      <td>6.05905e+07</td>\n",
       "      <td>6.03746e+07</td>\n",
       "      <td>6.0373e+07</td>\n",
       "      <td>6.05904e+07</td>\n",
       "    </tr>\n",
       "    <tr>\n",
       "      <th>regionidcity</th>\n",
       "      <td>12447</td>\n",
       "      <td>32380</td>\n",
       "      <td>47019</td>\n",
       "      <td>12447</td>\n",
       "      <td>17686</td>\n",
       "    </tr>\n",
       "    <tr>\n",
       "      <th>regionidcounty</th>\n",
       "      <td>3101</td>\n",
       "      <td>1286</td>\n",
       "      <td>3101</td>\n",
       "      <td>3101</td>\n",
       "      <td>1286</td>\n",
       "    </tr>\n",
       "    <tr>\n",
       "      <th>regionidneighborhood</th>\n",
       "      <td>31817</td>\n",
       "      <td>NaN</td>\n",
       "      <td>275411</td>\n",
       "      <td>54300</td>\n",
       "      <td>NaN</td>\n",
       "    </tr>\n",
       "    <tr>\n",
       "      <th>regionidzip</th>\n",
       "      <td>96370</td>\n",
       "      <td>96962</td>\n",
       "      <td>96293</td>\n",
       "      <td>96222</td>\n",
       "      <td>96961</td>\n",
       "    </tr>\n",
       "    <tr>\n",
       "      <th>roomcnt</th>\n",
       "      <td>0</td>\n",
       "      <td>0</td>\n",
       "      <td>0</td>\n",
       "      <td>0</td>\n",
       "      <td>8</td>\n",
       "    </tr>\n",
       "    <tr>\n",
       "      <th>threequarterbathnbr</th>\n",
       "      <td>NaN</td>\n",
       "      <td>1</td>\n",
       "      <td>NaN</td>\n",
       "      <td>NaN</td>\n",
       "      <td>1</td>\n",
       "    </tr>\n",
       "    <tr>\n",
       "      <th>unitcnt</th>\n",
       "      <td>1</td>\n",
       "      <td>NaN</td>\n",
       "      <td>1</td>\n",
       "      <td>1</td>\n",
       "      <td>NaN</td>\n",
       "    </tr>\n",
       "    <tr>\n",
       "      <th>yardbuildingsqft17</th>\n",
       "      <td>NaN</td>\n",
       "      <td>NaN</td>\n",
       "      <td>NaN</td>\n",
       "      <td>NaN</td>\n",
       "      <td>NaN</td>\n",
       "    </tr>\n",
       "    <tr>\n",
       "      <th>yardbuildingsqft26</th>\n",
       "      <td>NaN</td>\n",
       "      <td>NaN</td>\n",
       "      <td>NaN</td>\n",
       "      <td>NaN</td>\n",
       "      <td>NaN</td>\n",
       "    </tr>\n",
       "    <tr>\n",
       "      <th>yearbuilt</th>\n",
       "      <td>1959</td>\n",
       "      <td>2014</td>\n",
       "      <td>1940</td>\n",
       "      <td>1987</td>\n",
       "      <td>1981</td>\n",
       "    </tr>\n",
       "    <tr>\n",
       "      <th>numberofstories</th>\n",
       "      <td>NaN</td>\n",
       "      <td>NaN</td>\n",
       "      <td>NaN</td>\n",
       "      <td>NaN</td>\n",
       "      <td>2</td>\n",
       "    </tr>\n",
       "    <tr>\n",
       "      <th>fireplaceflag</th>\n",
       "      <td>NaN</td>\n",
       "      <td>NaN</td>\n",
       "      <td>NaN</td>\n",
       "      <td>NaN</td>\n",
       "      <td>NaN</td>\n",
       "    </tr>\n",
       "    <tr>\n",
       "      <th>structuretaxvaluedollarcnt</th>\n",
       "      <td>122754</td>\n",
       "      <td>346458</td>\n",
       "      <td>61994</td>\n",
       "      <td>171518</td>\n",
       "      <td>169574</td>\n",
       "    </tr>\n",
       "    <tr>\n",
       "      <th>taxvaluedollarcnt</th>\n",
       "      <td>360170</td>\n",
       "      <td>585529</td>\n",
       "      <td>119906</td>\n",
       "      <td>244880</td>\n",
       "      <td>434551</td>\n",
       "    </tr>\n",
       "    <tr>\n",
       "      <th>assessmentyear</th>\n",
       "      <td>2015</td>\n",
       "      <td>2015</td>\n",
       "      <td>2015</td>\n",
       "      <td>2015</td>\n",
       "      <td>2015</td>\n",
       "    </tr>\n",
       "    <tr>\n",
       "      <th>landtaxvaluedollarcnt</th>\n",
       "      <td>237416</td>\n",
       "      <td>239071</td>\n",
       "      <td>57912</td>\n",
       "      <td>73362</td>\n",
       "      <td>264977</td>\n",
       "    </tr>\n",
       "    <tr>\n",
       "      <th>taxamount</th>\n",
       "      <td>6735.88</td>\n",
       "      <td>10153</td>\n",
       "      <td>11484.5</td>\n",
       "      <td>3048.74</td>\n",
       "      <td>5488.96</td>\n",
       "    </tr>\n",
       "    <tr>\n",
       "      <th>taxdelinquencyflag</th>\n",
       "      <td>NaN</td>\n",
       "      <td>NaN</td>\n",
       "      <td>NaN</td>\n",
       "      <td>NaN</td>\n",
       "      <td>NaN</td>\n",
       "    </tr>\n",
       "    <tr>\n",
       "      <th>taxdelinquencyyear</th>\n",
       "      <td>NaN</td>\n",
       "      <td>NaN</td>\n",
       "      <td>NaN</td>\n",
       "      <td>NaN</td>\n",
       "      <td>NaN</td>\n",
       "    </tr>\n",
       "    <tr>\n",
       "      <th>censustractandblock</th>\n",
       "      <td>6.03711e+13</td>\n",
       "      <td>NaN</td>\n",
       "      <td>6.03746e+13</td>\n",
       "      <td>6.0373e+13</td>\n",
       "      <td>6.05904e+13</td>\n",
       "    </tr>\n",
       "    <tr>\n",
       "      <th>logerror</th>\n",
       "      <td>0.0276</td>\n",
       "      <td>-0.1684</td>\n",
       "      <td>-0.004</td>\n",
       "      <td>0.0218</td>\n",
       "      <td>-0.005</td>\n",
       "    </tr>\n",
       "    <tr>\n",
       "      <th>transactiondate</th>\n",
       "      <td>2016-01-01</td>\n",
       "      <td>2016-01-01</td>\n",
       "      <td>2016-01-01</td>\n",
       "      <td>2016-01-02</td>\n",
       "      <td>2016-01-02</td>\n",
       "    </tr>\n",
       "    <tr>\n",
       "      <th>airconditioningdesc</th>\n",
       "      <td>Central</td>\n",
       "      <td>NaN</td>\n",
       "      <td>Central</td>\n",
       "      <td>Central</td>\n",
       "      <td>NaN</td>\n",
       "    </tr>\n",
       "    <tr>\n",
       "      <th>architecturalstyledesc</th>\n",
       "      <td>NaN</td>\n",
       "      <td>NaN</td>\n",
       "      <td>NaN</td>\n",
       "      <td>NaN</td>\n",
       "      <td>NaN</td>\n",
       "    </tr>\n",
       "    <tr>\n",
       "      <th>buildingclassdesc</th>\n",
       "      <td>NaN</td>\n",
       "      <td>NaN</td>\n",
       "      <td>NaN</td>\n",
       "      <td>NaN</td>\n",
       "      <td>NaN</td>\n",
       "    </tr>\n",
       "    <tr>\n",
       "      <th>heatingorsystemdesc</th>\n",
       "      <td>Central</td>\n",
       "      <td>NaN</td>\n",
       "      <td>Central</td>\n",
       "      <td>Central</td>\n",
       "      <td>NaN</td>\n",
       "    </tr>\n",
       "    <tr>\n",
       "      <th>propertylandusedesc</th>\n",
       "      <td>Single Family Residential</td>\n",
       "      <td>Single Family Residential</td>\n",
       "      <td>Single Family Residential</td>\n",
       "      <td>Condominium</td>\n",
       "      <td>Single Family Residential</td>\n",
       "    </tr>\n",
       "    <tr>\n",
       "      <th>storydesc</th>\n",
       "      <td>NaN</td>\n",
       "      <td>NaN</td>\n",
       "      <td>NaN</td>\n",
       "      <td>NaN</td>\n",
       "      <td>NaN</td>\n",
       "    </tr>\n",
       "    <tr>\n",
       "      <th>typeconstructiondesc</th>\n",
       "      <td>NaN</td>\n",
       "      <td>NaN</td>\n",
       "      <td>NaN</td>\n",
       "      <td>NaN</td>\n",
       "      <td>NaN</td>\n",
       "    </tr>\n",
       "  </tbody>\n",
       "</table>\n",
       "</div>"
      ],
      "text/plain": [
       "                                                      0  \\\n",
       "Unnamed: 0                                            0   \n",
       "id                                              2931667   \n",
       "parcelid                                       11016594   \n",
       "basementsqft                                        NaN   \n",
       "bathroomcnt                                           2   \n",
       "bedroomcnt                                            3   \n",
       "calculatedbathnbr                                     2   \n",
       "finishedfloor1squarefeet                            NaN   \n",
       "calculatedfinishedsquarefeet                       1684   \n",
       "finishedsquarefeet12                               1684   \n",
       "finishedsquarefeet13                                NaN   \n",
       "finishedsquarefeet15                                NaN   \n",
       "finishedsquarefeet50                                NaN   \n",
       "finishedsquarefeet6                                 NaN   \n",
       "fips                                               6037   \n",
       "fireplacecnt                                        NaN   \n",
       "fullbathcnt                                           2   \n",
       "garagecarcnt                                        NaN   \n",
       "garagetotalsqft                                     NaN   \n",
       "hashottuborspa                                      NaN   \n",
       "latitude                                     3.4281e+07   \n",
       "longitude                                  -1.18489e+08   \n",
       "lotsizesquarefeet                                  7528   \n",
       "poolcnt                                             NaN   \n",
       "poolsizesum                                         NaN   \n",
       "pooltypeid10                                        NaN   \n",
       "pooltypeid2                                         NaN   \n",
       "pooltypeid7                                         NaN   \n",
       "propertycountylandusecode                          0100   \n",
       "propertyzoningdesc                                 LARS   \n",
       "rawcensustractandblock                      6.03711e+07   \n",
       "regionidcity                                      12447   \n",
       "regionidcounty                                     3101   \n",
       "regionidneighborhood                              31817   \n",
       "regionidzip                                       96370   \n",
       "roomcnt                                               0   \n",
       "threequarterbathnbr                                 NaN   \n",
       "unitcnt                                               1   \n",
       "yardbuildingsqft17                                  NaN   \n",
       "yardbuildingsqft26                                  NaN   \n",
       "yearbuilt                                          1959   \n",
       "numberofstories                                     NaN   \n",
       "fireplaceflag                                       NaN   \n",
       "structuretaxvaluedollarcnt                       122754   \n",
       "taxvaluedollarcnt                                360170   \n",
       "assessmentyear                                     2015   \n",
       "landtaxvaluedollarcnt                            237416   \n",
       "taxamount                                       6735.88   \n",
       "taxdelinquencyflag                                  NaN   \n",
       "taxdelinquencyyear                                  NaN   \n",
       "censustractandblock                         6.03711e+13   \n",
       "logerror                                         0.0276   \n",
       "transactiondate                              2016-01-01   \n",
       "airconditioningdesc                             Central   \n",
       "architecturalstyledesc                              NaN   \n",
       "buildingclassdesc                                   NaN   \n",
       "heatingorsystemdesc                             Central   \n",
       "propertylandusedesc           Single Family Residential   \n",
       "storydesc                                           NaN   \n",
       "typeconstructiondesc                                NaN   \n",
       "\n",
       "                                                      1  \\\n",
       "Unnamed: 0                                            1   \n",
       "id                                               475764   \n",
       "parcelid                                       14366692   \n",
       "basementsqft                                        NaN   \n",
       "bathroomcnt                                         3.5   \n",
       "bedroomcnt                                            4   \n",
       "calculatedbathnbr                                   3.5   \n",
       "finishedfloor1squarefeet                            NaN   \n",
       "calculatedfinishedsquarefeet                       2263   \n",
       "finishedsquarefeet12                               2263   \n",
       "finishedsquarefeet13                                NaN   \n",
       "finishedsquarefeet15                                NaN   \n",
       "finishedsquarefeet50                                NaN   \n",
       "finishedsquarefeet6                                 NaN   \n",
       "fips                                               6059   \n",
       "fireplacecnt                                        NaN   \n",
       "fullbathcnt                                           3   \n",
       "garagecarcnt                                          2   \n",
       "garagetotalsqft                                     468   \n",
       "hashottuborspa                                      NaN   \n",
       "latitude                                    3.36681e+07   \n",
       "longitude                                  -1.17678e+08   \n",
       "lotsizesquarefeet                                  3643   \n",
       "poolcnt                                             NaN   \n",
       "poolsizesum                                         NaN   \n",
       "pooltypeid10                                        NaN   \n",
       "pooltypeid2                                         NaN   \n",
       "pooltypeid7                                         NaN   \n",
       "propertycountylandusecode                             1   \n",
       "propertyzoningdesc                                  NaN   \n",
       "rawcensustractandblock                      6.05905e+07   \n",
       "regionidcity                                      32380   \n",
       "regionidcounty                                     1286   \n",
       "regionidneighborhood                                NaN   \n",
       "regionidzip                                       96962   \n",
       "roomcnt                                               0   \n",
       "threequarterbathnbr                                   1   \n",
       "unitcnt                                             NaN   \n",
       "yardbuildingsqft17                                  NaN   \n",
       "yardbuildingsqft26                                  NaN   \n",
       "yearbuilt                                          2014   \n",
       "numberofstories                                     NaN   \n",
       "fireplaceflag                                       NaN   \n",
       "structuretaxvaluedollarcnt                       346458   \n",
       "taxvaluedollarcnt                                585529   \n",
       "assessmentyear                                     2015   \n",
       "landtaxvaluedollarcnt                            239071   \n",
       "taxamount                                         10153   \n",
       "taxdelinquencyflag                                  NaN   \n",
       "taxdelinquencyyear                                  NaN   \n",
       "censustractandblock                                 NaN   \n",
       "logerror                                        -0.1684   \n",
       "transactiondate                              2016-01-01   \n",
       "airconditioningdesc                                 NaN   \n",
       "architecturalstyledesc                              NaN   \n",
       "buildingclassdesc                                   NaN   \n",
       "heatingorsystemdesc                                 NaN   \n",
       "propertylandusedesc           Single Family Residential   \n",
       "storydesc                                           NaN   \n",
       "typeconstructiondesc                                NaN   \n",
       "\n",
       "                                                      2            3  \\\n",
       "Unnamed: 0                                            2            3   \n",
       "id                                              2444575      1584730   \n",
       "parcelid                                       12098116     12643413   \n",
       "basementsqft                                        NaN          NaN   \n",
       "bathroomcnt                                           3            2   \n",
       "bedroomcnt                                            2            2   \n",
       "calculatedbathnbr                                     3            2   \n",
       "finishedfloor1squarefeet                            NaN          NaN   \n",
       "calculatedfinishedsquarefeet                       2217          839   \n",
       "finishedsquarefeet12                               2217          839   \n",
       "finishedsquarefeet13                                NaN          NaN   \n",
       "finishedsquarefeet15                                NaN          NaN   \n",
       "finishedsquarefeet50                                NaN          NaN   \n",
       "finishedsquarefeet6                                 NaN          NaN   \n",
       "fips                                               6037         6037   \n",
       "fireplacecnt                                        NaN          NaN   \n",
       "fullbathcnt                                           3            2   \n",
       "garagecarcnt                                        NaN          NaN   \n",
       "garagetotalsqft                                     NaN          NaN   \n",
       "hashottuborspa                                      NaN          NaN   \n",
       "latitude                                    3.41363e+07  3.37558e+07   \n",
       "longitude                                  -1.18175e+08 -1.18309e+08   \n",
       "lotsizesquarefeet                                 11423        70859   \n",
       "poolcnt                                             NaN          NaN   \n",
       "poolsizesum                                         NaN          NaN   \n",
       "pooltypeid10                                        NaN          NaN   \n",
       "pooltypeid2                                         NaN          NaN   \n",
       "pooltypeid7                                         NaN          NaN   \n",
       "propertycountylandusecode                          0100         010C   \n",
       "propertyzoningdesc                                 PSR6         LAR3   \n",
       "rawcensustractandblock                      6.03746e+07   6.0373e+07   \n",
       "regionidcity                                      47019        12447   \n",
       "regionidcounty                                     3101         3101   \n",
       "regionidneighborhood                             275411        54300   \n",
       "regionidzip                                       96293        96222   \n",
       "roomcnt                                               0            0   \n",
       "threequarterbathnbr                                 NaN          NaN   \n",
       "unitcnt                                               1            1   \n",
       "yardbuildingsqft17                                  NaN          NaN   \n",
       "yardbuildingsqft26                                  NaN          NaN   \n",
       "yearbuilt                                          1940         1987   \n",
       "numberofstories                                     NaN          NaN   \n",
       "fireplaceflag                                       NaN          NaN   \n",
       "structuretaxvaluedollarcnt                        61994       171518   \n",
       "taxvaluedollarcnt                                119906       244880   \n",
       "assessmentyear                                     2015         2015   \n",
       "landtaxvaluedollarcnt                             57912        73362   \n",
       "taxamount                                       11484.5      3048.74   \n",
       "taxdelinquencyflag                                  NaN          NaN   \n",
       "taxdelinquencyyear                                  NaN          NaN   \n",
       "censustractandblock                         6.03746e+13   6.0373e+13   \n",
       "logerror                                         -0.004       0.0218   \n",
       "transactiondate                              2016-01-01   2016-01-02   \n",
       "airconditioningdesc                             Central      Central   \n",
       "architecturalstyledesc                              NaN          NaN   \n",
       "buildingclassdesc                                   NaN          NaN   \n",
       "heatingorsystemdesc                             Central      Central   \n",
       "propertylandusedesc           Single Family Residential  Condominium   \n",
       "storydesc                                           NaN          NaN   \n",
       "typeconstructiondesc                                NaN          NaN   \n",
       "\n",
       "                                                      4  \n",
       "Unnamed: 0                                            4  \n",
       "id                                              2926916  \n",
       "parcelid                                       14432541  \n",
       "basementsqft                                        NaN  \n",
       "bathroomcnt                                         2.5  \n",
       "bedroomcnt                                            4  \n",
       "calculatedbathnbr                                   2.5  \n",
       "finishedfloor1squarefeet                            NaN  \n",
       "calculatedfinishedsquarefeet                       2283  \n",
       "finishedsquarefeet12                               2283  \n",
       "finishedsquarefeet13                                NaN  \n",
       "finishedsquarefeet15                                NaN  \n",
       "finishedsquarefeet50                                NaN  \n",
       "finishedsquarefeet6                                 NaN  \n",
       "fips                                               6059  \n",
       "fireplacecnt                                        NaN  \n",
       "fullbathcnt                                           2  \n",
       "garagecarcnt                                          2  \n",
       "garagetotalsqft                                     598  \n",
       "hashottuborspa                                      NaN  \n",
       "latitude                                    3.34856e+07  \n",
       "longitude                                    -1.177e+08  \n",
       "lotsizesquarefeet                                  6000  \n",
       "poolcnt                                               1  \n",
       "poolsizesum                                         NaN  \n",
       "pooltypeid10                                        NaN  \n",
       "pooltypeid2                                         NaN  \n",
       "pooltypeid7                                           1  \n",
       "propertycountylandusecode                           122  \n",
       "propertyzoningdesc                                  NaN  \n",
       "rawcensustractandblock                      6.05904e+07  \n",
       "regionidcity                                      17686  \n",
       "regionidcounty                                     1286  \n",
       "regionidneighborhood                                NaN  \n",
       "regionidzip                                       96961  \n",
       "roomcnt                                               8  \n",
       "threequarterbathnbr                                   1  \n",
       "unitcnt                                             NaN  \n",
       "yardbuildingsqft17                                  NaN  \n",
       "yardbuildingsqft26                                  NaN  \n",
       "yearbuilt                                          1981  \n",
       "numberofstories                                       2  \n",
       "fireplaceflag                                       NaN  \n",
       "structuretaxvaluedollarcnt                       169574  \n",
       "taxvaluedollarcnt                                434551  \n",
       "assessmentyear                                     2015  \n",
       "landtaxvaluedollarcnt                            264977  \n",
       "taxamount                                       5488.96  \n",
       "taxdelinquencyflag                                  NaN  \n",
       "taxdelinquencyyear                                  NaN  \n",
       "censustractandblock                         6.05904e+13  \n",
       "logerror                                         -0.005  \n",
       "transactiondate                              2016-01-02  \n",
       "airconditioningdesc                                 NaN  \n",
       "architecturalstyledesc                              NaN  \n",
       "buildingclassdesc                                   NaN  \n",
       "heatingorsystemdesc                                 NaN  \n",
       "propertylandusedesc           Single Family Residential  \n",
       "storydesc                                           NaN  \n",
       "typeconstructiondesc                                NaN  "
      ]
     },
     "execution_count": 164,
     "metadata": {},
     "output_type": "execute_result"
    }
   ],
   "source": [
    "df.head().T"
   ]
  },
  {
   "cell_type": "code",
   "execution_count": 165,
   "metadata": {},
   "outputs": [],
   "source": [
    "df = df[[\"bathroomcnt\", \"calculatedfinishedsquarefeet\"]]"
   ]
  },
  {
   "cell_type": "code",
   "execution_count": 166,
   "metadata": {},
   "outputs": [],
   "source": [
    "df.calculatedfinishedsquarefeet.dropna(inplace=True)"
   ]
  },
  {
   "cell_type": "code",
   "execution_count": 167,
   "metadata": {},
   "outputs": [],
   "source": [
    "df.bathroomcnt.dropna(inplace=True)"
   ]
  },
  {
   "cell_type": "code",
   "execution_count": 197,
   "metadata": {},
   "outputs": [],
   "source": [
    "df = df[df.bathroomcnt > 0]"
   ]
  },
  {
   "cell_type": "code",
   "execution_count": 198,
   "metadata": {},
   "outputs": [],
   "source": [
    "df = df[df.calculatedfinishedsquarefeet > 500]"
   ]
  },
  {
   "cell_type": "code",
   "execution_count": 199,
   "metadata": {},
   "outputs": [
    {
     "data": {
      "text/plain": [
       "0"
      ]
     },
     "execution_count": 199,
     "metadata": {},
     "output_type": "execute_result"
    }
   ],
   "source": [
    "df.calculatedfinishedsquarefeet.isna().sum()"
   ]
  },
  {
   "cell_type": "code",
   "execution_count": 200,
   "metadata": {},
   "outputs": [
    {
     "data": {
      "text/html": [
       "<div>\n",
       "<style scoped>\n",
       "    .dataframe tbody tr th:only-of-type {\n",
       "        vertical-align: middle;\n",
       "    }\n",
       "\n",
       "    .dataframe tbody tr th {\n",
       "        vertical-align: top;\n",
       "    }\n",
       "\n",
       "    .dataframe thead th {\n",
       "        text-align: right;\n",
       "    }\n",
       "</style>\n",
       "<table border=\"1\" class=\"dataframe\">\n",
       "  <thead>\n",
       "    <tr style=\"text-align: right;\">\n",
       "      <th></th>\n",
       "      <th>bathroomcnt</th>\n",
       "      <th>calculatedfinishedsquarefeet</th>\n",
       "    </tr>\n",
       "  </thead>\n",
       "  <tbody>\n",
       "    <tr>\n",
       "      <th>count</th>\n",
       "      <td>165599.000000</td>\n",
       "      <td>165599.000000</td>\n",
       "    </tr>\n",
       "    <tr>\n",
       "      <th>mean</th>\n",
       "      <td>2.316210</td>\n",
       "      <td>1778.272773</td>\n",
       "    </tr>\n",
       "    <tr>\n",
       "      <th>std</th>\n",
       "      <td>0.975704</td>\n",
       "      <td>930.984372</td>\n",
       "    </tr>\n",
       "    <tr>\n",
       "      <th>min</th>\n",
       "      <td>1.000000</td>\n",
       "      <td>501.000000</td>\n",
       "    </tr>\n",
       "    <tr>\n",
       "      <th>25%</th>\n",
       "      <td>2.000000</td>\n",
       "      <td>1185.000000</td>\n",
       "    </tr>\n",
       "    <tr>\n",
       "      <th>50%</th>\n",
       "      <td>2.000000</td>\n",
       "      <td>1541.000000</td>\n",
       "    </tr>\n",
       "    <tr>\n",
       "      <th>75%</th>\n",
       "      <td>3.000000</td>\n",
       "      <td>2100.000000</td>\n",
       "    </tr>\n",
       "    <tr>\n",
       "      <th>max</th>\n",
       "      <td>18.000000</td>\n",
       "      <td>22741.000000</td>\n",
       "    </tr>\n",
       "  </tbody>\n",
       "</table>\n",
       "</div>"
      ],
      "text/plain": [
       "         bathroomcnt  calculatedfinishedsquarefeet\n",
       "count  165599.000000                 165599.000000\n",
       "mean        2.316210                   1778.272773\n",
       "std         0.975704                    930.984372\n",
       "min         1.000000                    501.000000\n",
       "25%         2.000000                   1185.000000\n",
       "50%         2.000000                   1541.000000\n",
       "75%         3.000000                   2100.000000\n",
       "max        18.000000                  22741.000000"
      ]
     },
     "execution_count": 200,
     "metadata": {},
     "output_type": "execute_result"
    }
   ],
   "source": [
    "df.describe()"
   ]
  },
  {
   "cell_type": "code",
   "execution_count": 201,
   "metadata": {},
   "outputs": [
    {
     "data": {
      "text/plain": [
       "bathroomcnt                     float64\n",
       "calculatedfinishedsquarefeet    float64\n",
       "dtype: object"
      ]
     },
     "execution_count": 201,
     "metadata": {},
     "output_type": "execute_result"
    }
   ],
   "source": [
    "df.dtypes"
   ]
  },
  {
   "cell_type": "code",
   "execution_count": 202,
   "metadata": {},
   "outputs": [],
   "source": [
    "df_sample1 = df.head(50000)"
   ]
  },
  {
   "cell_type": "code",
   "execution_count": 203,
   "metadata": {},
   "outputs": [
    {
     "data": {
      "text/plain": [
       "array([[2.000e+00, 1.684e+03],\n",
       "       [3.500e+00, 2.263e+03],\n",
       "       [3.000e+00, 2.217e+03],\n",
       "       [2.000e+00, 8.390e+02],\n",
       "       [2.500e+00, 2.283e+03],\n",
       "       [4.000e+00, 3.067e+03],\n",
       "       [1.000e+00, 1.297e+03],\n",
       "       [2.500e+00, 1.763e+03],\n",
       "       [1.000e+00, 7.960e+02],\n",
       "       [2.000e+00, 1.260e+03]])"
      ]
     },
     "execution_count": 203,
     "metadata": {},
     "output_type": "execute_result"
    }
   ],
   "source": [
    "np_array = df.values\n",
    "np_array[0:10]"
   ]
  },
  {
   "cell_type": "code",
   "execution_count": 204,
   "metadata": {},
   "outputs": [
    {
     "data": {
      "text/plain": [
       "array([[-0.32408457, -0.1012617 ],\n",
       "       [ 1.21327164,  0.52066254],\n",
       "       [ 0.70081957,  0.47125233],\n",
       "       [-0.32408457, -1.00890588],\n",
       "       [ 0.1883675 ,  0.54214524],\n",
       "       [ 1.72572371,  1.38426719],\n",
       "       [-1.34898871, -0.51695199],\n",
       "       [ 0.1883675 , -0.01640502],\n",
       "       [-1.34898871, -1.05509369],\n",
       "       [-0.32408457, -0.55669499]])"
      ]
     },
     "execution_count": 204,
     "metadata": {},
     "output_type": "execute_result"
    }
   ],
   "source": [
    "stscaler = StandardScaler().fit(np_array)\n",
    "np_array = stscaler.transform(np_array)\n",
    "np_array[0:10]"
   ]
  },
  {
   "cell_type": "code",
   "execution_count": 205,
   "metadata": {},
   "outputs": [],
   "source": [
    "#remove entire row from numpy array where nans are present\n",
    "np_array = np_array[~np.isnan(np_array).any(axis=1)]"
   ]
  },
  {
   "cell_type": "code",
   "execution_count": 206,
   "metadata": {},
   "outputs": [],
   "source": [
    "np_sample1 = np_array[0:50000]"
   ]
  },
  {
   "cell_type": "code",
   "execution_count": 214,
   "metadata": {},
   "outputs": [],
   "source": [
    "dbsc = DBSCAN(eps = 1, min_samples = 10).fit(np_sample1)"
   ]
  },
  {
   "cell_type": "code",
   "execution_count": 215,
   "metadata": {},
   "outputs": [
    {
     "data": {
      "text/plain": [
       "array([0, 0, 0, 0, 0, 0, 0, 0, 0, 0])"
      ]
     },
     "execution_count": 215,
     "metadata": {},
     "output_type": "execute_result"
    }
   ],
   "source": [
    "labels = dbsc.labels_\n",
    "labels[0:10]"
   ]
  },
  {
   "cell_type": "code",
   "execution_count": 216,
   "metadata": {},
   "outputs": [
    {
     "data": {
      "text/plain": [
       " 0    49951\n",
       "-1       49\n",
       "Name: labels, dtype: int64"
      ]
     },
     "execution_count": 216,
     "metadata": {},
     "output_type": "execute_result"
    }
   ],
   "source": [
    "df_sample1['labels'] = labels\n",
    "df_sample1.labels.value_counts()"
   ]
  },
  {
   "cell_type": "code",
   "execution_count": 217,
   "metadata": {},
   "outputs": [
    {
     "data": {
      "text/html": [
       "<div>\n",
       "<style scoped>\n",
       "    .dataframe tbody tr th:only-of-type {\n",
       "        vertical-align: middle;\n",
       "    }\n",
       "\n",
       "    .dataframe tbody tr th {\n",
       "        vertical-align: top;\n",
       "    }\n",
       "\n",
       "    .dataframe thead th {\n",
       "        text-align: right;\n",
       "    }\n",
       "</style>\n",
       "<table border=\"1\" class=\"dataframe\">\n",
       "  <thead>\n",
       "    <tr style=\"text-align: right;\">\n",
       "      <th></th>\n",
       "      <th>bathroomcnt</th>\n",
       "      <th>calculatedfinishedsquarefeet</th>\n",
       "      <th>labels</th>\n",
       "    </tr>\n",
       "  </thead>\n",
       "  <tbody>\n",
       "    <tr>\n",
       "      <th>163</th>\n",
       "      <td>9.0</td>\n",
       "      <td>7255.0</td>\n",
       "      <td>-1</td>\n",
       "    </tr>\n",
       "    <tr>\n",
       "      <th>1352</th>\n",
       "      <td>6.0</td>\n",
       "      <td>10475.0</td>\n",
       "      <td>-1</td>\n",
       "    </tr>\n",
       "    <tr>\n",
       "      <th>1707</th>\n",
       "      <td>9.0</td>\n",
       "      <td>16814.0</td>\n",
       "      <td>-1</td>\n",
       "    </tr>\n",
       "    <tr>\n",
       "      <th>1963</th>\n",
       "      <td>8.0</td>\n",
       "      <td>10680.0</td>\n",
       "      <td>-1</td>\n",
       "    </tr>\n",
       "    <tr>\n",
       "      <th>1973</th>\n",
       "      <td>9.0</td>\n",
       "      <td>4545.0</td>\n",
       "      <td>-1</td>\n",
       "    </tr>\n",
       "  </tbody>\n",
       "</table>\n",
       "</div>"
      ],
      "text/plain": [
       "      bathroomcnt  calculatedfinishedsquarefeet  labels\n",
       "163           9.0                        7255.0      -1\n",
       "1352          6.0                       10475.0      -1\n",
       "1707          9.0                       16814.0      -1\n",
       "1963          8.0                       10680.0      -1\n",
       "1973          9.0                        4545.0      -1"
      ]
     },
     "execution_count": 217,
     "metadata": {},
     "output_type": "execute_result"
    }
   ],
   "source": [
    "df_sample1[df_sample1.labels==-1].head()"
   ]
  },
  {
   "cell_type": "code",
   "execution_count": 218,
   "metadata": {},
   "outputs": [
    {
     "data": {
      "image/png": "[encoded data removed]",
      "text/plain": [
       "<Figure size 864x864 with 1 Axes>"
      ]
     },
     "metadata": {
      "needs_background": "light"
     },
     "output_type": "display_data"
    }
   ],
   "source": [
    "fig = plt.figure(figsize=(12,12))\n",
    "sns.scatterplot(df_sample1.bathroomcnt, df_sample1.calculatedfinishedsquarefeet, hue=df_sample1.labels, palette='plasma', alpha=.5)\n",
    "plt.show()"
   ]
  }
 ],
 "metadata": {
  "kernelspec": {
   "display_name": "Python 3",
   "language": "python",
   "name": "python3"
  },
  "language_info": {
   "codemirror_mode": {
    "name": "ipython",
    "version": 3
   },
   "file_extension": ".py",
   "mimetype": "text/x-python",
   "name": "python",
   "nbconvert_exporter": "python",
   "pygments_lexer": "ipython3",
   "version": "3.7.1"
  }
 },
 "nbformat": 4,
 "nbformat_minor": 2
}
