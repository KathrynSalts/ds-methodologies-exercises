{
 "cells": [
  {
   "cell_type": "code",
   "execution_count": 1,
   "metadata": {},
   "outputs": [],
   "source": [
    "from acquire import get_titanic_data\n",
    "from prepare import prep_titanic\n",
    "\n",
    "df = prep_titanic(get_titanic_data())\n",
    "df.dropna(inplace=True)"
   ]
  },
  {
   "cell_type": "markdown",
   "metadata": {},
   "source": [
    "## Logistic Regression"
   ]
  },
  {
   "cell_type": "code",
   "execution_count": 2,
   "metadata": {},
   "outputs": [
    {
     "data": {
      "text/html": [
       "<div>\n",
       "<style scoped>\n",
       "    .dataframe tbody tr th:only-of-type {\n",
       "        vertical-align: middle;\n",
       "    }\n",
       "\n",
       "    .dataframe tbody tr th {\n",
       "        vertical-align: top;\n",
       "    }\n",
       "\n",
       "    .dataframe thead th {\n",
       "        text-align: right;\n",
       "    }\n",
       "</style>\n",
       "<table border=\"1\" class=\"dataframe\">\n",
       "  <thead>\n",
       "    <tr style=\"text-align: right;\">\n",
       "      <th></th>\n",
       "      <th>passenger_id</th>\n",
       "      <th>survived</th>\n",
       "      <th>pclass</th>\n",
       "      <th>sex</th>\n",
       "      <th>age</th>\n",
       "      <th>sibsp</th>\n",
       "      <th>parch</th>\n",
       "      <th>fare</th>\n",
       "      <th>embarked</th>\n",
       "      <th>class</th>\n",
       "      <th>deck</th>\n",
       "      <th>embark_town</th>\n",
       "      <th>alone</th>\n",
       "    </tr>\n",
       "  </thead>\n",
       "  <tbody>\n",
       "    <tr>\n",
       "      <th>1</th>\n",
       "      <td>1</td>\n",
       "      <td>1</td>\n",
       "      <td>1</td>\n",
       "      <td>female</td>\n",
       "      <td>38.0</td>\n",
       "      <td>1</td>\n",
       "      <td>0</td>\n",
       "      <td>71.2833</td>\n",
       "      <td>C</td>\n",
       "      <td>First</td>\n",
       "      <td>C</td>\n",
       "      <td>Cherbourg</td>\n",
       "      <td>0</td>\n",
       "    </tr>\n",
       "    <tr>\n",
       "      <th>3</th>\n",
       "      <td>3</td>\n",
       "      <td>1</td>\n",
       "      <td>1</td>\n",
       "      <td>female</td>\n",
       "      <td>35.0</td>\n",
       "      <td>1</td>\n",
       "      <td>0</td>\n",
       "      <td>53.1000</td>\n",
       "      <td>S</td>\n",
       "      <td>First</td>\n",
       "      <td>C</td>\n",
       "      <td>Southampton</td>\n",
       "      <td>0</td>\n",
       "    </tr>\n",
       "    <tr>\n",
       "      <th>6</th>\n",
       "      <td>6</td>\n",
       "      <td>0</td>\n",
       "      <td>1</td>\n",
       "      <td>male</td>\n",
       "      <td>54.0</td>\n",
       "      <td>0</td>\n",
       "      <td>0</td>\n",
       "      <td>51.8625</td>\n",
       "      <td>S</td>\n",
       "      <td>First</td>\n",
       "      <td>E</td>\n",
       "      <td>Southampton</td>\n",
       "      <td>1</td>\n",
       "    </tr>\n",
       "    <tr>\n",
       "      <th>10</th>\n",
       "      <td>10</td>\n",
       "      <td>1</td>\n",
       "      <td>3</td>\n",
       "      <td>female</td>\n",
       "      <td>4.0</td>\n",
       "      <td>1</td>\n",
       "      <td>1</td>\n",
       "      <td>16.7000</td>\n",
       "      <td>S</td>\n",
       "      <td>Third</td>\n",
       "      <td>G</td>\n",
       "      <td>Southampton</td>\n",
       "      <td>0</td>\n",
       "    </tr>\n",
       "    <tr>\n",
       "      <th>11</th>\n",
       "      <td>11</td>\n",
       "      <td>1</td>\n",
       "      <td>1</td>\n",
       "      <td>female</td>\n",
       "      <td>58.0</td>\n",
       "      <td>0</td>\n",
       "      <td>0</td>\n",
       "      <td>26.5500</td>\n",
       "      <td>S</td>\n",
       "      <td>First</td>\n",
       "      <td>C</td>\n",
       "      <td>Southampton</td>\n",
       "      <td>1</td>\n",
       "    </tr>\n",
       "  </tbody>\n",
       "</table>\n",
       "</div>"
      ],
      "text/plain": [
       "    passenger_id  survived  pclass     sex   age  sibsp  parch     fare  \\\n",
       "1              1         1       1  female  38.0      1      0  71.2833   \n",
       "3              3         1       1  female  35.0      1      0  53.1000   \n",
       "6              6         0       1    male  54.0      0      0  51.8625   \n",
       "10            10         1       3  female   4.0      1      1  16.7000   \n",
       "11            11         1       1  female  58.0      0      0  26.5500   \n",
       "\n",
       "   embarked  class deck  embark_town  alone  \n",
       "1         C  First    C    Cherbourg      0  \n",
       "3         S  First    C  Southampton      0  \n",
       "6         S  First    E  Southampton      1  \n",
       "10        S  Third    G  Southampton      0  \n",
       "11        S  First    C  Southampton      1  "
      ]
     },
     "execution_count": 2,
     "metadata": {},
     "output_type": "execute_result"
    }
   ],
   "source": [
    "df.head()"
   ]
  },
  {
   "cell_type": "code",
   "execution_count": 3,
   "metadata": {},
   "outputs": [],
   "source": [
    "from sklearn.preprocessing import MinMaxScaler\n",
    "from sklearn.model_selection import train_test_split\n",
    "\n",
    "train, test = train_test_split(df)"
   ]
  },
  {
   "cell_type": "code",
   "execution_count": 4,
   "metadata": {},
   "outputs": [
    {
     "name": "stderr",
     "output_type": "stream",
     "text": [
      "/usr/local/anaconda3/lib/python3.7/site-packages/ipykernel_launcher.py:4: SettingWithCopyWarning: \n",
      "A value is trying to be set on a copy of a slice from a DataFrame.\n",
      "Try using .loc[row_indexer,col_indexer] = value instead\n",
      "\n",
      "See the caveats in the documentation: http://pandas.pydata.org/pandas-docs/stable/indexing.html#indexing-view-versus-copy\n",
      "  after removing the cwd from sys.path.\n",
      "/usr/local/anaconda3/lib/python3.7/site-packages/pandas/core/indexing.py:543: SettingWithCopyWarning: \n",
      "A value is trying to be set on a copy of a slice from a DataFrame.\n",
      "Try using .loc[row_indexer,col_indexer] = value instead\n",
      "\n",
      "See the caveats in the documentation: http://pandas.pydata.org/pandas-docs/stable/indexing.html#indexing-view-versus-copy\n",
      "  self.obj[item] = s\n",
      "/usr/local/anaconda3/lib/python3.7/site-packages/ipykernel_launcher.py:5: SettingWithCopyWarning: \n",
      "A value is trying to be set on a copy of a slice from a DataFrame.\n",
      "Try using .loc[row_indexer,col_indexer] = value instead\n",
      "\n",
      "See the caveats in the documentation: http://pandas.pydata.org/pandas-docs/stable/indexing.html#indexing-view-versus-copy\n",
      "  \"\"\"\n",
      "/usr/local/anaconda3/lib/python3.7/site-packages/pandas/core/indexing.py:543: SettingWithCopyWarning: \n",
      "A value is trying to be set on a copy of a slice from a DataFrame.\n",
      "Try using .loc[row_indexer,col_indexer] = value instead\n",
      "\n",
      "See the caveats in the documentation: http://pandas.pydata.org/pandas-docs/stable/indexing.html#indexing-view-versus-copy\n",
      "  self.obj[item] = s\n"
     ]
    }
   ],
   "source": [
    "scaler = MinMaxScaler()\n",
    "scaler.fit(train[['age', 'fare']])\n",
    "\n",
    "train[['age', 'fare']] = scaler.transform(train[['age', 'fare']])\n",
    "test[['age', 'fare']] = scaler.transform(test[['age', 'fare']])"
   ]
  },
  {
   "cell_type": "code",
   "execution_count": 5,
   "metadata": {},
   "outputs": [
    {
     "data": {
      "text/html": [
       "<div>\n",
       "<style scoped>\n",
       "    .dataframe tbody tr th:only-of-type {\n",
       "        vertical-align: middle;\n",
       "    }\n",
       "\n",
       "    .dataframe tbody tr th {\n",
       "        vertical-align: top;\n",
       "    }\n",
       "\n",
       "    .dataframe thead th {\n",
       "        text-align: right;\n",
       "    }\n",
       "</style>\n",
       "<table border=\"1\" class=\"dataframe\">\n",
       "  <thead>\n",
       "    <tr style=\"text-align: right;\">\n",
       "      <th></th>\n",
       "      <th>passenger_id</th>\n",
       "      <th>survived</th>\n",
       "      <th>pclass</th>\n",
       "      <th>sex</th>\n",
       "      <th>age</th>\n",
       "      <th>sibsp</th>\n",
       "      <th>parch</th>\n",
       "      <th>fare</th>\n",
       "      <th>embarked</th>\n",
       "      <th>class</th>\n",
       "      <th>deck</th>\n",
       "      <th>embark_town</th>\n",
       "      <th>alone</th>\n",
       "    </tr>\n",
       "  </thead>\n",
       "  <tbody>\n",
       "    <tr>\n",
       "      <th>194</th>\n",
       "      <td>194</td>\n",
       "      <td>1</td>\n",
       "      <td>1</td>\n",
       "      <td>female</td>\n",
       "      <td>0.544765</td>\n",
       "      <td>0</td>\n",
       "      <td>0</td>\n",
       "      <td>0.054107</td>\n",
       "      <td>C</td>\n",
       "      <td>First</td>\n",
       "      <td>B</td>\n",
       "      <td>Cherbourg</td>\n",
       "      <td>1</td>\n",
       "    </tr>\n",
       "    <tr>\n",
       "      <th>544</th>\n",
       "      <td>544</td>\n",
       "      <td>0</td>\n",
       "      <td>1</td>\n",
       "      <td>male</td>\n",
       "      <td>0.620637</td>\n",
       "      <td>1</td>\n",
       "      <td>0</td>\n",
       "      <td>0.207728</td>\n",
       "      <td>C</td>\n",
       "      <td>First</td>\n",
       "      <td>C</td>\n",
       "      <td>Cherbourg</td>\n",
       "      <td>0</td>\n",
       "    </tr>\n",
       "    <tr>\n",
       "      <th>248</th>\n",
       "      <td>248</td>\n",
       "      <td>1</td>\n",
       "      <td>1</td>\n",
       "      <td>male</td>\n",
       "      <td>0.456247</td>\n",
       "      <td>1</td>\n",
       "      <td>1</td>\n",
       "      <td>0.102579</td>\n",
       "      <td>S</td>\n",
       "      <td>First</td>\n",
       "      <td>D</td>\n",
       "      <td>Southampton</td>\n",
       "      <td>0</td>\n",
       "    </tr>\n",
       "    <tr>\n",
       "      <th>715</th>\n",
       "      <td>715</td>\n",
       "      <td>0</td>\n",
       "      <td>3</td>\n",
       "      <td>male</td>\n",
       "      <td>0.228629</td>\n",
       "      <td>0</td>\n",
       "      <td>0</td>\n",
       "      <td>0.014932</td>\n",
       "      <td>S</td>\n",
       "      <td>Third</td>\n",
       "      <td>F</td>\n",
       "      <td>Southampton</td>\n",
       "      <td>1</td>\n",
       "    </tr>\n",
       "    <tr>\n",
       "      <th>724</th>\n",
       "      <td>724</td>\n",
       "      <td>1</td>\n",
       "      <td>1</td>\n",
       "      <td>male</td>\n",
       "      <td>0.329793</td>\n",
       "      <td>1</td>\n",
       "      <td>0</td>\n",
       "      <td>0.103644</td>\n",
       "      <td>S</td>\n",
       "      <td>First</td>\n",
       "      <td>E</td>\n",
       "      <td>Southampton</td>\n",
       "      <td>0</td>\n",
       "    </tr>\n",
       "  </tbody>\n",
       "</table>\n",
       "</div>"
      ],
      "text/plain": [
       "     passenger_id  survived  pclass     sex       age  sibsp  parch      fare  \\\n",
       "194           194         1       1  female  0.544765      0      0  0.054107   \n",
       "544           544         0       1    male  0.620637      1      0  0.207728   \n",
       "248           248         1       1    male  0.456247      1      1  0.102579   \n",
       "715           715         0       3    male  0.228629      0      0  0.014932   \n",
       "724           724         1       1    male  0.329793      1      0  0.103644   \n",
       "\n",
       "    embarked  class deck  embark_town  alone  \n",
       "194        C  First    B    Cherbourg      1  \n",
       "544        C  First    C    Cherbourg      0  \n",
       "248        S  First    D  Southampton      0  \n",
       "715        S  Third    F  Southampton      1  \n",
       "724        S  First    E  Southampton      0  "
      ]
     },
     "execution_count": 5,
     "metadata": {},
     "output_type": "execute_result"
    }
   ],
   "source": [
    "train.head()"
   ]
  },
  {
   "cell_type": "markdown",
   "metadata": {},
   "source": [
    "## Titanic- liblinear"
   ]
  },
  {
   "cell_type": "code",
   "execution_count": 6,
   "metadata": {},
   "outputs": [
    {
     "name": "stderr",
     "output_type": "stream",
     "text": [
      "/usr/local/anaconda3/lib/python3.7/site-packages/sklearn/linear_model/logistic.py:433: FutureWarning: Default solver will be changed to 'lbfgs' in 0.22. Specify a solver to silence this warning.\n",
      "  FutureWarning)\n"
     ]
    },
    {
     "data": {
      "text/plain": [
       "LogisticRegression(C=1.0, class_weight=None, dual=False, fit_intercept=True,\n",
       "          intercept_scaling=1, max_iter=100, multi_class='warn',\n",
       "          n_jobs=None, penalty='l2', random_state=None, solver='warn',\n",
       "          tol=0.0001, verbose=0, warm_start=False)"
      ]
     },
     "execution_count": 6,
     "metadata": {},
     "output_type": "execute_result"
    }
   ],
   "source": [
    "from sklearn.linear_model import LogisticRegression\n",
    "\n",
    "logit = LogisticRegression()\n",
    "\n",
    "logit.fit(train[['pclass', 'age', 'fare', 'sibsp', 'parch']], train.survived)"
   ]
  },
  {
   "cell_type": "code",
   "execution_count": 7,
   "metadata": {},
   "outputs": [
    {
     "data": {
      "text/plain": [
       "array([[0.41292271, 0.58707729],\n",
       "       [0.30658565, 0.69341435],\n",
       "       [0.29388263, 0.70611737],\n",
       "       [0.39100017, 0.60899983],\n",
       "       [0.25721387, 0.74278613],\n",
       "       [0.27382039, 0.72617961],\n",
       "       [0.35466704, 0.64533296],\n",
       "       [0.32591253, 0.67408747],\n",
       "       [0.33988625, 0.66011375],\n",
       "       [0.24655063, 0.75344937],\n",
       "       [0.18469782, 0.81530218],\n",
       "       [0.40707021, 0.59292979],\n",
       "       [0.43333718, 0.56666282],\n",
       "       [0.4938901 , 0.5061099 ],\n",
       "       [0.35572028, 0.64427972],\n",
       "       [0.3197574 , 0.6802426 ],\n",
       "       [0.3925636 , 0.6074364 ],\n",
       "       [0.47088174, 0.52911826],\n",
       "       [0.18240028, 0.81759972],\n",
       "       [0.40064061, 0.59935939],\n",
       "       [0.32337425, 0.67662575],\n",
       "       [0.22997259, 0.77002741],\n",
       "       [0.22970637, 0.77029363],\n",
       "       [0.22686636, 0.77313364],\n",
       "       [0.35715412, 0.64284588],\n",
       "       [0.43853193, 0.56146807],\n",
       "       [0.26266531, 0.73733469],\n",
       "       [0.41221976, 0.58778024],\n",
       "       [0.25041447, 0.74958553],\n",
       "       [0.13510119, 0.86489881],\n",
       "       [0.2367113 , 0.7632887 ],\n",
       "       [0.43556535, 0.56443465],\n",
       "       [0.32265586, 0.67734414],\n",
       "       [0.31128958, 0.68871042],\n",
       "       [0.09843327, 0.90156673],\n",
       "       [0.38937852, 0.61062148],\n",
       "       [0.28525516, 0.71474484],\n",
       "       [0.37830351, 0.62169649],\n",
       "       [0.48364324, 0.51635676],\n",
       "       [0.28226241, 0.71773759],\n",
       "       [0.34254877, 0.65745123],\n",
       "       [0.53883281, 0.46116719],\n",
       "       [0.28129394, 0.71870606],\n",
       "       [0.41315308, 0.58684692],\n",
       "       [0.33184393, 0.66815607],\n",
       "       [0.35534473, 0.64465527],\n",
       "       [0.39814128, 0.60185872],\n",
       "       [0.37132722, 0.62867278],\n",
       "       [0.2286109 , 0.7713891 ],\n",
       "       [0.26854397, 0.73145603],\n",
       "       [0.27950199, 0.72049801],\n",
       "       [0.4501605 , 0.5498395 ],\n",
       "       [0.38117382, 0.61882618],\n",
       "       [0.43090564, 0.56909436],\n",
       "       [0.38928542, 0.61071458],\n",
       "       [0.34924059, 0.65075941],\n",
       "       [0.32194986, 0.67805014],\n",
       "       [0.09970028, 0.90029972],\n",
       "       [0.28477088, 0.71522912],\n",
       "       [0.24007409, 0.75992591],\n",
       "       [0.33310873, 0.66689127],\n",
       "       [0.28244759, 0.71755241],\n",
       "       [0.46102861, 0.53897139],\n",
       "       [0.35637381, 0.64362619],\n",
       "       [0.21853732, 0.78146268],\n",
       "       [0.25786958, 0.74213042],\n",
       "       [0.23897038, 0.76102962],\n",
       "       [0.41158848, 0.58841152],\n",
       "       [0.36161886, 0.63838114],\n",
       "       [0.27816496, 0.72183504],\n",
       "       [0.41674767, 0.58325233],\n",
       "       [0.31906152, 0.68093848],\n",
       "       [0.3838936 , 0.6161064 ],\n",
       "       [0.41680653, 0.58319347],\n",
       "       [0.41916253, 0.58083747],\n",
       "       [0.32847164, 0.67152836],\n",
       "       [0.35380469, 0.64619531],\n",
       "       [0.43606916, 0.56393084],\n",
       "       [0.470621  , 0.529379  ],\n",
       "       [0.29112132, 0.70887868],\n",
       "       [0.42408588, 0.57591412],\n",
       "       [0.50517809, 0.49482191],\n",
       "       [0.45589123, 0.54410877],\n",
       "       [0.32601383, 0.67398617],\n",
       "       [0.35079386, 0.64920614],\n",
       "       [0.46223444, 0.53776556],\n",
       "       [0.32827983, 0.67172017],\n",
       "       [0.33950844, 0.66049156],\n",
       "       [0.33863883, 0.66136117],\n",
       "       [0.42461159, 0.57538841],\n",
       "       [0.30933791, 0.69066209],\n",
       "       [0.31408754, 0.68591246],\n",
       "       [0.41911565, 0.58088435],\n",
       "       [0.30924581, 0.69075419],\n",
       "       [0.22573268, 0.77426732],\n",
       "       [0.41145959, 0.58854041],\n",
       "       [0.14015528, 0.85984472],\n",
       "       [0.31849591, 0.68150409],\n",
       "       [0.3220499 , 0.6779501 ],\n",
       "       [0.48700807, 0.51299193],\n",
       "       [0.319563  , 0.680437  ],\n",
       "       [0.26820093, 0.73179907],\n",
       "       [0.33346232, 0.66653768],\n",
       "       [0.2768316 , 0.7231684 ],\n",
       "       [0.36088566, 0.63911434],\n",
       "       [0.42415703, 0.57584297],\n",
       "       [0.33184393, 0.66815607],\n",
       "       [0.40608405, 0.59391595],\n",
       "       [0.31086176, 0.68913824],\n",
       "       [0.35184655, 0.64815345],\n",
       "       [0.34351435, 0.65648565],\n",
       "       [0.47637585, 0.52362415],\n",
       "       [0.21274146, 0.78725854],\n",
       "       [0.34838319, 0.65161681],\n",
       "       [0.39605617, 0.60394383],\n",
       "       [0.29906368, 0.70093632],\n",
       "       [0.36258218, 0.63741782],\n",
       "       [0.35501679, 0.64498321],\n",
       "       [0.27440248, 0.72559752],\n",
       "       [0.23112395, 0.76887605],\n",
       "       [0.27017809, 0.72982191],\n",
       "       [0.30012105, 0.69987895],\n",
       "       [0.38285417, 0.61714583],\n",
       "       [0.25866818, 0.74133182],\n",
       "       [0.42742791, 0.57257209],\n",
       "       [0.30155232, 0.69844768],\n",
       "       [0.32712821, 0.67287179],\n",
       "       [0.41418164, 0.58581836],\n",
       "       [0.37341459, 0.62658541],\n",
       "       [0.4376459 , 0.5623541 ],\n",
       "       [0.24096604, 0.75903396],\n",
       "       [0.43900923, 0.56099077],\n",
       "       [0.36570591, 0.63429409],\n",
       "       [0.35640266, 0.64359734],\n",
       "       [0.36378966, 0.63621034],\n",
       "       [0.37468484, 0.62531516],\n",
       "       [0.44378   , 0.55622   ],\n",
       "       [0.33958976, 0.66041024]])"
      ]
     },
     "execution_count": 7,
     "metadata": {},
     "output_type": "execute_result"
    }
   ],
   "source": [
    "#prob_a gives actual numbers instead of binary values\n",
    "logit.predict_proba(train[['pclass', 'age', 'fare', 'sibsp', 'parch']])"
   ]
  },
  {
   "cell_type": "code",
   "execution_count": 8,
   "metadata": {},
   "outputs": [
    {
     "name": "stderr",
     "output_type": "stream",
     "text": [
      "/usr/local/anaconda3/lib/python3.7/site-packages/ipykernel_launcher.py:1: SettingWithCopyWarning: \n",
      "A value is trying to be set on a copy of a slice from a DataFrame.\n",
      "Try using .loc[row_indexer,col_indexer] = value instead\n",
      "\n",
      "See the caveats in the documentation: http://pandas.pydata.org/pandas-docs/stable/indexing.html#indexing-view-versus-copy\n",
      "  \"\"\"Entry point for launching an IPython kernel.\n"
     ]
    }
   ],
   "source": [
    "train['prediction']= logit.predict(train[['pclass', 'age', 'fare', 'sibsp', 'parch']])"
   ]
  },
  {
   "cell_type": "code",
   "execution_count": 9,
   "metadata": {},
   "outputs": [
    {
     "data": {
      "text/plain": [
       "0.6666666666666666"
      ]
     },
     "execution_count": 9,
     "metadata": {},
     "output_type": "execute_result"
    }
   ],
   "source": [
    "#number of times we were correct in our predction / total observations = accuracy of prediction\n",
    "(train.survived == train.prediction).sum() / train.shape[0]"
   ]
  },
  {
   "cell_type": "code",
   "execution_count": 10,
   "metadata": {},
   "outputs": [
    {
     "data": {
      "text/plain": [
       "0.6666666666666666"
      ]
     },
     "execution_count": 10,
     "metadata": {},
     "output_type": "execute_result"
    }
   ],
   "source": [
    "logit.score(train[['pclass', 'age', 'fare', 'sibsp', 'parch']], train.survived)"
   ]
  },
  {
   "cell_type": "code",
   "execution_count": 11,
   "metadata": {},
   "outputs": [
    {
     "data": {
      "text/plain": [
       "array([[ 1, 45],\n",
       "       [ 1, 91]])"
      ]
     },
     "execution_count": 11,
     "metadata": {},
     "output_type": "execute_result"
    }
   ],
   "source": [
    "from sklearn.metrics import confusion_matrix\n",
    "\n",
    "cm = confusion_matrix(train.survived, train.prediction)\n",
    "cm"
   ]
  },
  {
   "cell_type": "code",
   "execution_count": 12,
   "metadata": {},
   "outputs": [
    {
     "data": {
      "text/html": [
       "<div>\n",
       "<style scoped>\n",
       "    .dataframe tbody tr th:only-of-type {\n",
       "        vertical-align: middle;\n",
       "    }\n",
       "\n",
       "    .dataframe tbody tr th {\n",
       "        vertical-align: top;\n",
       "    }\n",
       "\n",
       "    .dataframe thead th {\n",
       "        text-align: right;\n",
       "    }\n",
       "</style>\n",
       "<table border=\"1\" class=\"dataframe\">\n",
       "  <thead>\n",
       "    <tr style=\"text-align: right;\">\n",
       "      <th></th>\n",
       "      <th>Pred -</th>\n",
       "      <th>Pred +</th>\n",
       "    </tr>\n",
       "  </thead>\n",
       "  <tbody>\n",
       "    <tr>\n",
       "      <th>Actual -</th>\n",
       "      <td>1</td>\n",
       "      <td>45</td>\n",
       "    </tr>\n",
       "    <tr>\n",
       "      <th>Actual +</th>\n",
       "      <td>1</td>\n",
       "      <td>91</td>\n",
       "    </tr>\n",
       "  </tbody>\n",
       "</table>\n",
       "</div>"
      ],
      "text/plain": [
       "          Pred -  Pred +\n",
       "Actual -       1      45\n",
       "Actual +       1      91"
      ]
     },
     "execution_count": 12,
     "metadata": {},
     "output_type": "execute_result"
    }
   ],
   "source": [
    "import pandas as pd\n",
    "\n",
    "df = pd.DataFrame(confusion_matrix(train.survived, train.prediction),\n",
    "            columns = ['Pred -', 'Pred +'], index = ['Actual -', 'Actual +'])\n",
    "\n",
    "df"
   ]
  },
  {
   "cell_type": "code",
   "execution_count": 13,
   "metadata": {},
   "outputs": [
    {
     "name": "stdout",
     "output_type": "stream",
     "text": [
      "              precision    recall  f1-score   support\n",
      "\n",
      "           0       0.50      0.02      0.04        46\n",
      "           1       0.67      0.99      0.80        92\n",
      "\n",
      "   micro avg       0.67      0.67      0.67       138\n",
      "   macro avg       0.58      0.51      0.42       138\n",
      "weighted avg       0.61      0.67      0.55       138\n",
      "\n"
     ]
    }
   ],
   "source": [
    "from sklearn.metrics import classification_report\n",
    "\n",
    "print(classification_report(train.survived, train.prediction))"
   ]
  },
  {
   "cell_type": "code",
   "execution_count": 14,
   "metadata": {},
   "outputs": [
    {
     "data": {
      "text/plain": [
       "1    92\n",
       "0    46\n",
       "Name: survived, dtype: int64"
      ]
     },
     "execution_count": 14,
     "metadata": {},
     "output_type": "execute_result"
    }
   ],
   "source": [
    "train.survived.value_counts()"
   ]
  },
  {
   "cell_type": "code",
   "execution_count": 15,
   "metadata": {},
   "outputs": [
    {
     "data": {
      "text/plain": [
       "1    136\n",
       "0      2\n",
       "Name: prediction, dtype: int64"
      ]
     },
     "execution_count": 15,
     "metadata": {},
     "output_type": "execute_result"
    }
   ],
   "source": [
    "train.prediction.value_counts()"
   ]
  },
  {
   "cell_type": "markdown",
   "metadata": {},
   "source": [
    "Print and clearly label the following: Accuracy, true positive rate, false positive rate, true negative rate, false negative rate, precision, recall, f1-score, and support."
   ]
  },
  {
   "cell_type": "code",
   "execution_count": 16,
   "metadata": {},
   "outputs": [
    {
     "name": "stdout",
     "output_type": "stream",
     "text": [
      "Accuracy: 0.6666666666666666\n"
     ]
    }
   ],
   "source": [
    "print('Accuracy:', (train.survived == train.prediction).sum() / train.shape[0])"
   ]
  },
  {
   "cell_type": "code",
   "execution_count": 17,
   "metadata": {},
   "outputs": [],
   "source": [
    "TN = cm[0,0]\n",
    "FP = cm[0,1]\n",
    "FN = cm[1,0]\n",
    "TP = cm[1,1]"
   ]
  },
  {
   "cell_type": "code",
   "execution_count": 18,
   "metadata": {},
   "outputs": [
    {
     "name": "stdout",
     "output_type": "stream",
     "text": [
      "False Positive Rate: 0.9782608695652174\n"
     ]
    }
   ],
   "source": [
    "print('False Positive Rate:', (FP/(FP+TN)))"
   ]
  },
  {
   "cell_type": "code",
   "execution_count": 19,
   "metadata": {},
   "outputs": [
    {
     "name": "stdout",
     "output_type": "stream",
     "text": [
      "False Negative Rate: 0.010869565217391304\n"
     ]
    }
   ],
   "source": [
    "print('False Negative Rate:', (FN/(FN+TP)))"
   ]
  },
  {
   "cell_type": "code",
   "execution_count": 20,
   "metadata": {},
   "outputs": [
    {
     "name": "stdout",
     "output_type": "stream",
     "text": [
      "True Negative Rate: 0.021739130434782608\n"
     ]
    }
   ],
   "source": [
    "print('True Negative Rate:', (TN/(TN+FP)))"
   ]
  },
  {
   "cell_type": "code",
   "execution_count": 21,
   "metadata": {},
   "outputs": [
    {
     "name": "stdout",
     "output_type": "stream",
     "text": [
      "Precision: 0.6691176470588235\n"
     ]
    }
   ],
   "source": [
    "precision = TP/(TP+FP)\n",
    "print('Precision:', (TP/(TP+FP)))"
   ]
  },
  {
   "cell_type": "code",
   "execution_count": 22,
   "metadata": {},
   "outputs": [
    {
     "name": "stdout",
     "output_type": "stream",
     "text": [
      "Recall/True positive rate: 0.9891304347826086\n"
     ]
    }
   ],
   "source": [
    "recall = TP/(TP+FN)\n",
    "print('Recall/True positive rate:', (TP/(TP+FN)))"
   ]
  },
  {
   "cell_type": "markdown",
   "metadata": {},
   "source": [
    "Look in the scikit-learn documentation to research the solver parameter. What is your best option(s) for the particular problem you are trying to solve and the data to be used?\n",
    "Run through steps 2-4 using another solver (from question 5)\n",
    "Which performs better on your in-sample data?"
   ]
  },
  {
   "cell_type": "markdown",
   "metadata": {},
   "source": [
    "## Titanic- saga"
   ]
  },
  {
   "cell_type": "code",
   "execution_count": 23,
   "metadata": {},
   "outputs": [],
   "source": [
    "logit = LogisticRegression(solver='saga')\n",
    "\n",
    "logit_fit = logit.fit(train[['pclass', 'age', 'fare', 'sibsp', 'parch']], train.survived)"
   ]
  },
  {
   "cell_type": "code",
   "execution_count": 24,
   "metadata": {},
   "outputs": [],
   "source": [
    "y_pred_proba = logit.predict_proba(train[['pclass', 'age', 'fare', 'sibsp', 'parch']])"
   ]
  },
  {
   "cell_type": "code",
   "execution_count": 25,
   "metadata": {},
   "outputs": [],
   "source": [
    "train['prediction']= logit.predict(train[['pclass', 'age', 'fare', 'sibsp', 'parch']])"
   ]
  },
  {
   "cell_type": "code",
   "execution_count": 26,
   "metadata": {},
   "outputs": [
    {
     "data": {
      "text/plain": [
       "0.6811594202898551"
      ]
     },
     "execution_count": 26,
     "metadata": {},
     "output_type": "execute_result"
    }
   ],
   "source": [
    "logit.score(train[['pclass', 'age', 'fare', 'sibsp', 'parch']], train.survived)"
   ]
  },
  {
   "cell_type": "code",
   "execution_count": 27,
   "metadata": {},
   "outputs": [
    {
     "data": {
      "text/plain": [
       "array([[ 3, 43],\n",
       "       [ 1, 91]])"
      ]
     },
     "execution_count": 27,
     "metadata": {},
     "output_type": "execute_result"
    }
   ],
   "source": [
    "confusion_matrix(train.survived, train.prediction)"
   ]
  },
  {
   "cell_type": "code",
   "execution_count": 28,
   "metadata": {},
   "outputs": [
    {
     "data": {
      "text/html": [
       "<div>\n",
       "<style scoped>\n",
       "    .dataframe tbody tr th:only-of-type {\n",
       "        vertical-align: middle;\n",
       "    }\n",
       "\n",
       "    .dataframe tbody tr th {\n",
       "        vertical-align: top;\n",
       "    }\n",
       "\n",
       "    .dataframe thead th {\n",
       "        text-align: right;\n",
       "    }\n",
       "</style>\n",
       "<table border=\"1\" class=\"dataframe\">\n",
       "  <thead>\n",
       "    <tr style=\"text-align: right;\">\n",
       "      <th></th>\n",
       "      <th>Pred -</th>\n",
       "      <th>Pred +</th>\n",
       "    </tr>\n",
       "  </thead>\n",
       "  <tbody>\n",
       "    <tr>\n",
       "      <th>Actual -</th>\n",
       "      <td>3</td>\n",
       "      <td>43</td>\n",
       "    </tr>\n",
       "    <tr>\n",
       "      <th>Actual +</th>\n",
       "      <td>1</td>\n",
       "      <td>91</td>\n",
       "    </tr>\n",
       "  </tbody>\n",
       "</table>\n",
       "</div>"
      ],
      "text/plain": [
       "          Pred -  Pred +\n",
       "Actual -       3      43\n",
       "Actual +       1      91"
      ]
     },
     "execution_count": 28,
     "metadata": {},
     "output_type": "execute_result"
    }
   ],
   "source": [
    "df = pd.DataFrame(confusion_matrix(train.survived, train.prediction),\n",
    "            columns = ['Pred -', 'Pred +'], index = ['Actual -', 'Actual +'])\n",
    "\n",
    "df"
   ]
  },
  {
   "cell_type": "code",
   "execution_count": 29,
   "metadata": {},
   "outputs": [
    {
     "name": "stdout",
     "output_type": "stream",
     "text": [
      "              precision    recall  f1-score   support\n",
      "\n",
      "           0       0.75      0.07      0.12        46\n",
      "           1       0.68      0.99      0.81        92\n",
      "\n",
      "   micro avg       0.68      0.68      0.68       138\n",
      "   macro avg       0.71      0.53      0.46       138\n",
      "weighted avg       0.70      0.68      0.58       138\n",
      "\n"
     ]
    }
   ],
   "source": [
    "print(classification_report(train.survived, train.prediction))"
   ]
  },
  {
   "cell_type": "code",
   "execution_count": 30,
   "metadata": {},
   "outputs": [
    {
     "name": "stdout",
     "output_type": "stream",
     "text": [
      "Accuracy: 0.6811594202898551\n"
     ]
    }
   ],
   "source": [
    "print('Accuracy:', (train.survived == train.prediction).sum() / train.shape[0])"
   ]
  },
  {
   "cell_type": "markdown",
   "metadata": {},
   "source": [
    "The 'saga' solver gave slightly better accuracy than the 'liblinear' solver on the in-sample data. I will use the saga solver for the out-of-sample data. "
   ]
  },
  {
   "cell_type": "code",
   "execution_count": 31,
   "metadata": {},
   "outputs": [
    {
     "name": "stdout",
     "output_type": "stream",
     "text": [
      "Accuracy of Logistic Regression classifier on test set: 0.72\n"
     ]
    }
   ],
   "source": [
    "print('Accuracy of Logistic Regression classifier on test set: {:.2f}'\n",
    "     .format(logit.score(test[['pclass', 'age', 'fare', 'sibsp', 'parch']], test.survived)))"
   ]
  },
  {
   "cell_type": "markdown",
   "metadata": {},
   "source": [
    "# Decision Tree\n",
    "Fit the decision tree classifier to your training sample and transform (i.e. make predictions on the training sample)\n",
    "\n",
    "Evaluate your in-sample results using the model score, confusion matrix, and classification report.\n",
    "\n",
    "Print and clearly label the following: Accuracy, true positive rate, false positive rate, true negative rate, false negative rate, precision, recall, f1-score, and support.\n",
    "\n",
    "Run through steps 2-4 using entropy as your measure of impurity.\n",
    "\n",
    "Which performs better on your in-sample data?\n",
    "\n",
    "Save the best model in tree_fit"
   ]
  },
  {
   "cell_type": "code",
   "execution_count": 32,
   "metadata": {},
   "outputs": [],
   "source": [
    "from sklearn.tree import DecisionTreeClassifier\n",
    "from sklearn import tree\n",
    "import matplotlib.pyplot as plt\n",
    "%matplotlib inline\n",
    "import seaborn as sns"
   ]
  },
  {
   "cell_type": "markdown",
   "metadata": {},
   "source": [
    "## Titanic- gini"
   ]
  },
  {
   "cell_type": "code",
   "execution_count": 33,
   "metadata": {},
   "outputs": [],
   "source": [
    "clf = DecisionTreeClassifier(criterion='gini', max_depth=3)"
   ]
  },
  {
   "cell_type": "code",
   "execution_count": 34,
   "metadata": {},
   "outputs": [
    {
     "data": {
      "text/plain": [
       "DecisionTreeClassifier(class_weight=None, criterion='gini', max_depth=3,\n",
       "            max_features=None, max_leaf_nodes=None,\n",
       "            min_impurity_decrease=0.0, min_impurity_split=None,\n",
       "            min_samples_leaf=1, min_samples_split=2,\n",
       "            min_weight_fraction_leaf=0.0, presort=False, random_state=None,\n",
       "            splitter='best')"
      ]
     },
     "execution_count": 34,
     "metadata": {},
     "output_type": "execute_result"
    }
   ],
   "source": [
    "clf.fit(train[['pclass', 'age', 'fare', 'sibsp', 'parch']], train.survived)"
   ]
  },
  {
   "cell_type": "code",
   "execution_count": 35,
   "metadata": {},
   "outputs": [
    {
     "data": {
      "text/plain": [
       "array([1, 1, 1, 0, 1])"
      ]
     },
     "execution_count": 35,
     "metadata": {},
     "output_type": "execute_result"
    }
   ],
   "source": [
    "y_pred = clf.predict(train[['pclass', 'age', 'fare', 'sibsp', 'parch']])\n",
    "y_pred[0:5]"
   ]
  },
  {
   "cell_type": "code",
   "execution_count": 36,
   "metadata": {},
   "outputs": [
    {
     "data": {
      "text/plain": [
       "array([[0.24590164, 0.75409836],\n",
       "       [0.43243243, 0.56756757],\n",
       "       [0.24590164, 0.75409836],\n",
       "       [1.        , 0.        ],\n",
       "       [0.24590164, 0.75409836],\n",
       "       [0.24590164, 0.75409836],\n",
       "       [0.24590164, 0.75409836],\n",
       "       [0.43243243, 0.56756757],\n",
       "       [0.07692308, 0.92307692],\n",
       "       [0.43243243, 0.56756757],\n",
       "       [0.07692308, 0.92307692],\n",
       "       [0.24590164, 0.75409836],\n",
       "       [0.43243243, 0.56756757],\n",
       "       [0.43243243, 0.56756757],\n",
       "       [0.07692308, 0.92307692],\n",
       "       [0.07692308, 0.92307692],\n",
       "       [0.43243243, 0.56756757],\n",
       "       [1.        , 0.        ],\n",
       "       [0.07692308, 0.92307692],\n",
       "       [1.        , 0.        ],\n",
       "       [0.43243243, 0.56756757],\n",
       "       [0.07692308, 0.92307692],\n",
       "       [0.07692308, 0.92307692],\n",
       "       [0.24590164, 0.75409836],\n",
       "       [0.43243243, 0.56756757],\n",
       "       [0.43243243, 0.56756757],\n",
       "       [0.24590164, 0.75409836],\n",
       "       [0.24590164, 0.75409836],\n",
       "       [0.24590164, 0.75409836],\n",
       "       [0.07692308, 0.92307692],\n",
       "       [0.24590164, 0.75409836],\n",
       "       [0.        , 1.        ],\n",
       "       [0.43243243, 0.56756757],\n",
       "       [0.24590164, 0.75409836],\n",
       "       [0.07692308, 0.92307692],\n",
       "       [0.24590164, 0.75409836],\n",
       "       [0.24590164, 0.75409836],\n",
       "       [0.24590164, 0.75409836],\n",
       "       [0.43243243, 0.56756757],\n",
       "       [0.24590164, 0.75409836],\n",
       "       [0.24590164, 0.75409836],\n",
       "       [0.43243243, 0.56756757],\n",
       "       [0.24590164, 0.75409836],\n",
       "       [0.24590164, 0.75409836],\n",
       "       [0.24590164, 0.75409836],\n",
       "       [0.24590164, 0.75409836],\n",
       "       [0.24590164, 0.75409836],\n",
       "       [0.24590164, 0.75409836],\n",
       "       [0.07692308, 0.92307692],\n",
       "       [0.24590164, 0.75409836],\n",
       "       [0.24590164, 0.75409836],\n",
       "       [0.43243243, 0.56756757],\n",
       "       [0.24590164, 0.75409836],\n",
       "       [0.43243243, 0.56756757],\n",
       "       [0.24590164, 0.75409836],\n",
       "       [0.07692308, 0.92307692],\n",
       "       [0.24590164, 0.75409836],\n",
       "       [0.24590164, 0.75409836],\n",
       "       [0.07692308, 0.92307692],\n",
       "       [0.07692308, 0.92307692],\n",
       "       [0.43243243, 0.56756757],\n",
       "       [0.24590164, 0.75409836],\n",
       "       [0.43243243, 0.56756757],\n",
       "       [0.43243243, 0.56756757],\n",
       "       [0.07692308, 0.92307692],\n",
       "       [0.07692308, 0.92307692],\n",
       "       [0.24590164, 0.75409836],\n",
       "       [0.24590164, 0.75409836],\n",
       "       [0.24590164, 0.75409836],\n",
       "       [0.24590164, 0.75409836],\n",
       "       [0.43243243, 0.56756757],\n",
       "       [0.43243243, 0.56756757],\n",
       "       [1.        , 0.        ],\n",
       "       [1.        , 0.        ],\n",
       "       [0.24590164, 0.75409836],\n",
       "       [0.24590164, 0.75409836],\n",
       "       [0.24590164, 0.75409836],\n",
       "       [0.24590164, 0.75409836],\n",
       "       [0.43243243, 0.56756757],\n",
       "       [0.24590164, 0.75409836],\n",
       "       [1.        , 0.        ],\n",
       "       [0.43243243, 0.56756757],\n",
       "       [0.43243243, 0.56756757],\n",
       "       [0.07692308, 0.92307692],\n",
       "       [0.07692308, 0.92307692],\n",
       "       [0.43243243, 0.56756757],\n",
       "       [0.43243243, 0.56756757],\n",
       "       [0.24590164, 0.75409836],\n",
       "       [0.24590164, 0.75409836],\n",
       "       [0.24590164, 0.75409836],\n",
       "       [1.        , 0.        ],\n",
       "       [0.07692308, 0.92307692],\n",
       "       [0.24590164, 0.75409836],\n",
       "       [0.43243243, 0.56756757],\n",
       "       [0.07692308, 0.92307692],\n",
       "       [1.        , 0.        ],\n",
       "       [0.07692308, 0.92307692],\n",
       "       [0.43243243, 0.56756757],\n",
       "       [0.43243243, 0.56756757],\n",
       "       [0.43243243, 0.56756757],\n",
       "       [0.07692308, 0.92307692],\n",
       "       [0.24590164, 0.75409836],\n",
       "       [1.        , 0.        ],\n",
       "       [0.24590164, 0.75409836],\n",
       "       [0.24590164, 0.75409836],\n",
       "       [0.43243243, 0.56756757],\n",
       "       [0.24590164, 0.75409836],\n",
       "       [1.        , 0.        ],\n",
       "       [0.43243243, 0.56756757],\n",
       "       [0.24590164, 0.75409836],\n",
       "       [1.        , 0.        ],\n",
       "       [0.43243243, 0.56756757],\n",
       "       [0.07692308, 0.92307692],\n",
       "       [0.43243243, 0.56756757],\n",
       "       [0.24590164, 0.75409836],\n",
       "       [1.        , 0.        ],\n",
       "       [0.43243243, 0.56756757],\n",
       "       [0.24590164, 0.75409836],\n",
       "       [0.24590164, 0.75409836],\n",
       "       [0.07692308, 0.92307692],\n",
       "       [0.24590164, 0.75409836],\n",
       "       [0.24590164, 0.75409836],\n",
       "       [0.24590164, 0.75409836],\n",
       "       [0.24590164, 0.75409836],\n",
       "       [0.43243243, 0.56756757],\n",
       "       [0.07692308, 0.92307692],\n",
       "       [0.24590164, 0.75409836],\n",
       "       [1.        , 0.        ],\n",
       "       [0.24590164, 0.75409836],\n",
       "       [0.43243243, 0.56756757],\n",
       "       [0.24590164, 0.75409836],\n",
       "       [0.43243243, 0.56756757],\n",
       "       [0.24590164, 0.75409836],\n",
       "       [0.24590164, 0.75409836],\n",
       "       [0.24590164, 0.75409836],\n",
       "       [0.07692308, 0.92307692],\n",
       "       [0.43243243, 0.56756757],\n",
       "       [0.07692308, 0.92307692]])"
      ]
     },
     "execution_count": 36,
     "metadata": {},
     "output_type": "execute_result"
    }
   ],
   "source": [
    "y_pred_proba = clf.predict_proba(train[['pclass', 'age', 'fare', 'sibsp', 'parch']])\n",
    "y_pred_proba"
   ]
  },
  {
   "cell_type": "code",
   "execution_count": 37,
   "metadata": {},
   "outputs": [
    {
     "name": "stdout",
     "output_type": "stream",
     "text": [
      "Accuracy of Decision Tree classifier on training set: 0.76\n"
     ]
    }
   ],
   "source": [
    "print('Accuracy of Decision Tree classifier on training set: {:.2f}'\n",
    "     .format(clf.score(train[['pclass', 'age', 'fare', 'sibsp', 'parch']], train.survived)))"
   ]
  },
  {
   "cell_type": "code",
   "execution_count": 38,
   "metadata": {},
   "outputs": [
    {
     "data": {
      "text/html": [
       "<div>\n",
       "<style scoped>\n",
       "    .dataframe tbody tr th:only-of-type {\n",
       "        vertical-align: middle;\n",
       "    }\n",
       "\n",
       "    .dataframe tbody tr th {\n",
       "        vertical-align: top;\n",
       "    }\n",
       "\n",
       "    .dataframe thead th {\n",
       "        text-align: right;\n",
       "    }\n",
       "</style>\n",
       "<table border=\"1\" class=\"dataframe\">\n",
       "  <thead>\n",
       "    <tr style=\"text-align: right;\">\n",
       "      <th></th>\n",
       "      <th>Pred -</th>\n",
       "      <th>Pred +</th>\n",
       "    </tr>\n",
       "  </thead>\n",
       "  <tbody>\n",
       "    <tr>\n",
       "      <th>Actual -</th>\n",
       "      <td>3</td>\n",
       "      <td>43</td>\n",
       "    </tr>\n",
       "    <tr>\n",
       "      <th>Actual +</th>\n",
       "      <td>1</td>\n",
       "      <td>91</td>\n",
       "    </tr>\n",
       "  </tbody>\n",
       "</table>\n",
       "</div>"
      ],
      "text/plain": [
       "          Pred -  Pred +\n",
       "Actual -       3      43\n",
       "Actual +       1      91"
      ]
     },
     "execution_count": 38,
     "metadata": {},
     "output_type": "execute_result"
    }
   ],
   "source": [
    "df = pd.DataFrame(confusion_matrix(train.survived, train.prediction),\n",
    "            columns = ['Pred -', 'Pred +'], index = ['Actual -', 'Actual +'])\n",
    "\n",
    "df"
   ]
  },
  {
   "cell_type": "code",
   "execution_count": 39,
   "metadata": {},
   "outputs": [
    {
     "data": {
      "text/plain": [
       "array([[ 3, 43],\n",
       "       [ 1, 91]])"
      ]
     },
     "execution_count": 39,
     "metadata": {},
     "output_type": "execute_result"
    }
   ],
   "source": [
    "confusion_matrix(train.survived, train.prediction)"
   ]
  },
  {
   "cell_type": "code",
   "execution_count": 40,
   "metadata": {},
   "outputs": [
    {
     "data": {
      "text/plain": [
       "[0, 1]"
      ]
     },
     "execution_count": 40,
     "metadata": {},
     "output_type": "execute_result"
    }
   ],
   "source": [
    "sorted(train.survived.unique())"
   ]
  },
  {
   "cell_type": "code",
   "execution_count": 41,
   "metadata": {},
   "outputs": [
    {
     "data": {
      "text/html": [
       "<div>\n",
       "<style scoped>\n",
       "    .dataframe tbody tr th:only-of-type {\n",
       "        vertical-align: middle;\n",
       "    }\n",
       "\n",
       "    .dataframe tbody tr th {\n",
       "        vertical-align: top;\n",
       "    }\n",
       "\n",
       "    .dataframe thead th {\n",
       "        text-align: right;\n",
       "    }\n",
       "</style>\n",
       "<table border=\"1\" class=\"dataframe\">\n",
       "  <thead>\n",
       "    <tr style=\"text-align: right;\">\n",
       "      <th></th>\n",
       "      <th>0</th>\n",
       "      <th>1</th>\n",
       "    </tr>\n",
       "  </thead>\n",
       "  <tbody>\n",
       "    <tr>\n",
       "      <th>0</th>\n",
       "      <td>13</td>\n",
       "      <td>33</td>\n",
       "    </tr>\n",
       "    <tr>\n",
       "      <th>1</th>\n",
       "      <td>0</td>\n",
       "      <td>92</td>\n",
       "    </tr>\n",
       "  </tbody>\n",
       "</table>\n",
       "</div>"
      ],
      "text/plain": [
       "    0   1\n",
       "0  13  33\n",
       "1   0  92"
      ]
     },
     "execution_count": 41,
     "metadata": {},
     "output_type": "execute_result"
    }
   ],
   "source": [
    "labels = sorted(train.survived.unique())\n",
    "\n",
    "pd.DataFrame(confusion_matrix(train.survived, y_pred), index=labels, columns=labels)"
   ]
  },
  {
   "cell_type": "code",
   "execution_count": 42,
   "metadata": {},
   "outputs": [
    {
     "name": "stdout",
     "output_type": "stream",
     "text": [
      "              precision    recall  f1-score   support\n",
      "\n",
      "           0       1.00      0.28      0.44        46\n",
      "           1       0.74      1.00      0.85        92\n",
      "\n",
      "   micro avg       0.76      0.76      0.76       138\n",
      "   macro avg       0.87      0.64      0.64       138\n",
      "weighted avg       0.82      0.76      0.71       138\n",
      "\n"
     ]
    }
   ],
   "source": [
    "print(classification_report(train.survived, y_pred))"
   ]
  },
  {
   "cell_type": "code",
   "execution_count": 43,
   "metadata": {},
   "outputs": [
    {
     "name": "stdout",
     "output_type": "stream",
     "text": [
      "Accuracy of Decision Tree classifier on test set: 0.78\n"
     ]
    }
   ],
   "source": [
    "print('Accuracy of Decision Tree classifier on test set: {:.2f}' \n",
    "     .format(clf.score(test[['pclass', 'age', 'fare', 'sibsp', 'parch']], test.survived)))"
   ]
  },
  {
   "cell_type": "code",
   "execution_count": 44,
   "metadata": {},
   "outputs": [
    {
     "data": {
      "text/plain": [
       "'titanic.pdf'"
      ]
     },
     "execution_count": 44,
     "metadata": {},
     "output_type": "execute_result"
    }
   ],
   "source": [
    "import graphviz\n",
    "\n",
    "from graphviz import Graph\n",
    "\n",
    "dot_data = tree.export_graphviz(clf, out_file=None) \n",
    "graph = graphviz.Source(dot_data) \n",
    "\n",
    "graph.render('titanic', view=True)"
   ]
  },
  {
   "cell_type": "markdown",
   "metadata": {},
   "source": [
    "## Titanic- entropy"
   ]
  },
  {
   "cell_type": "code",
   "execution_count": 45,
   "metadata": {},
   "outputs": [],
   "source": [
    "clf = DecisionTreeClassifier(criterion='entropy', max_depth=3)"
   ]
  },
  {
   "cell_type": "code",
   "execution_count": 46,
   "metadata": {},
   "outputs": [
    {
     "data": {
      "text/plain": [
       "DecisionTreeClassifier(class_weight=None, criterion='entropy', max_depth=3,\n",
       "            max_features=None, max_leaf_nodes=None,\n",
       "            min_impurity_decrease=0.0, min_impurity_split=None,\n",
       "            min_samples_leaf=1, min_samples_split=2,\n",
       "            min_weight_fraction_leaf=0.0, presort=False, random_state=None,\n",
       "            splitter='best')"
      ]
     },
     "execution_count": 46,
     "metadata": {},
     "output_type": "execute_result"
    }
   ],
   "source": [
    "clf.fit(train[['pclass', 'age', 'fare', 'sibsp', 'parch']], train.survived)"
   ]
  },
  {
   "cell_type": "code",
   "execution_count": 47,
   "metadata": {},
   "outputs": [
    {
     "data": {
      "text/plain": [
       "array([1, 1, 1, 0, 1])"
      ]
     },
     "execution_count": 47,
     "metadata": {},
     "output_type": "execute_result"
    }
   ],
   "source": [
    "y_pred = clf.predict(train[['pclass', 'age', 'fare', 'sibsp', 'parch']])\n",
    "y_pred[0:5]"
   ]
  },
  {
   "cell_type": "code",
   "execution_count": 48,
   "metadata": {},
   "outputs": [
    {
     "data": {
      "text/plain": [
       "array([[0.        , 1.        ],\n",
       "       [0.43243243, 0.56756757],\n",
       "       [0.24050633, 0.75949367],\n",
       "       [1.        , 0.        ],\n",
       "       [0.24050633, 0.75949367],\n",
       "       [0.24050633, 0.75949367],\n",
       "       [0.24050633, 0.75949367],\n",
       "       [0.43243243, 0.56756757],\n",
       "       [0.24050633, 0.75949367],\n",
       "       [0.43243243, 0.56756757],\n",
       "       [0.24050633, 0.75949367],\n",
       "       [0.24050633, 0.75949367],\n",
       "       [0.43243243, 0.56756757],\n",
       "       [0.43243243, 0.56756757],\n",
       "       [0.24050633, 0.75949367],\n",
       "       [0.24050633, 0.75949367],\n",
       "       [0.43243243, 0.56756757],\n",
       "       [1.        , 0.        ],\n",
       "       [0.24050633, 0.75949367],\n",
       "       [1.        , 0.        ],\n",
       "       [0.43243243, 0.56756757],\n",
       "       [0.24050633, 0.75949367],\n",
       "       [0.24050633, 0.75949367],\n",
       "       [0.24050633, 0.75949367],\n",
       "       [0.43243243, 0.56756757],\n",
       "       [0.43243243, 0.56756757],\n",
       "       [0.24050633, 0.75949367],\n",
       "       [0.24050633, 0.75949367],\n",
       "       [0.24050633, 0.75949367],\n",
       "       [0.24050633, 0.75949367],\n",
       "       [0.24050633, 0.75949367],\n",
       "       [0.24050633, 0.75949367],\n",
       "       [0.43243243, 0.56756757],\n",
       "       [0.24050633, 0.75949367],\n",
       "       [0.24050633, 0.75949367],\n",
       "       [0.24050633, 0.75949367],\n",
       "       [0.24050633, 0.75949367],\n",
       "       [0.24050633, 0.75949367],\n",
       "       [0.43243243, 0.56756757],\n",
       "       [0.24050633, 0.75949367],\n",
       "       [0.24050633, 0.75949367],\n",
       "       [0.43243243, 0.56756757],\n",
       "       [0.        , 1.        ],\n",
       "       [0.24050633, 0.75949367],\n",
       "       [0.24050633, 0.75949367],\n",
       "       [0.24050633, 0.75949367],\n",
       "       [0.24050633, 0.75949367],\n",
       "       [0.24050633, 0.75949367],\n",
       "       [0.24050633, 0.75949367],\n",
       "       [0.24050633, 0.75949367],\n",
       "       [0.24050633, 0.75949367],\n",
       "       [0.43243243, 0.56756757],\n",
       "       [0.24050633, 0.75949367],\n",
       "       [0.43243243, 0.56756757],\n",
       "       [0.24050633, 0.75949367],\n",
       "       [0.24050633, 0.75949367],\n",
       "       [0.        , 1.        ],\n",
       "       [0.24050633, 0.75949367],\n",
       "       [0.24050633, 0.75949367],\n",
       "       [0.24050633, 0.75949367],\n",
       "       [0.43243243, 0.56756757],\n",
       "       [0.        , 1.        ],\n",
       "       [0.43243243, 0.56756757],\n",
       "       [0.43243243, 0.56756757],\n",
       "       [0.24050633, 0.75949367],\n",
       "       [0.24050633, 0.75949367],\n",
       "       [0.24050633, 0.75949367],\n",
       "       [0.        , 1.        ],\n",
       "       [0.24050633, 0.75949367],\n",
       "       [0.24050633, 0.75949367],\n",
       "       [0.43243243, 0.56756757],\n",
       "       [0.43243243, 0.56756757],\n",
       "       [1.        , 0.        ],\n",
       "       [1.        , 0.        ],\n",
       "       [0.24050633, 0.75949367],\n",
       "       [0.24050633, 0.75949367],\n",
       "       [0.        , 1.        ],\n",
       "       [0.24050633, 0.75949367],\n",
       "       [0.43243243, 0.56756757],\n",
       "       [0.        , 1.        ],\n",
       "       [1.        , 0.        ],\n",
       "       [0.43243243, 0.56756757],\n",
       "       [0.43243243, 0.56756757],\n",
       "       [0.24050633, 0.75949367],\n",
       "       [0.24050633, 0.75949367],\n",
       "       [0.43243243, 0.56756757],\n",
       "       [0.43243243, 0.56756757],\n",
       "       [0.24050633, 0.75949367],\n",
       "       [0.24050633, 0.75949367],\n",
       "       [0.24050633, 0.75949367],\n",
       "       [1.        , 0.        ],\n",
       "       [0.24050633, 0.75949367],\n",
       "       [0.24050633, 0.75949367],\n",
       "       [0.43243243, 0.56756757],\n",
       "       [0.24050633, 0.75949367],\n",
       "       [1.        , 0.        ],\n",
       "       [0.24050633, 0.75949367],\n",
       "       [0.43243243, 0.56756757],\n",
       "       [0.43243243, 0.56756757],\n",
       "       [0.43243243, 0.56756757],\n",
       "       [0.24050633, 0.75949367],\n",
       "       [0.24050633, 0.75949367],\n",
       "       [0.24050633, 0.75949367],\n",
       "       [0.        , 1.        ],\n",
       "       [0.24050633, 0.75949367],\n",
       "       [0.43243243, 0.56756757],\n",
       "       [0.24050633, 0.75949367],\n",
       "       [1.        , 0.        ],\n",
       "       [0.43243243, 0.56756757],\n",
       "       [0.24050633, 0.75949367],\n",
       "       [0.24050633, 0.75949367],\n",
       "       [0.43243243, 0.56756757],\n",
       "       [0.24050633, 0.75949367],\n",
       "       [0.43243243, 0.56756757],\n",
       "       [0.24050633, 0.75949367],\n",
       "       [1.        , 0.        ],\n",
       "       [0.43243243, 0.56756757],\n",
       "       [0.24050633, 0.75949367],\n",
       "       [0.24050633, 0.75949367],\n",
       "       [0.24050633, 0.75949367],\n",
       "       [0.24050633, 0.75949367],\n",
       "       [0.        , 1.        ],\n",
       "       [0.24050633, 0.75949367],\n",
       "       [0.24050633, 0.75949367],\n",
       "       [0.43243243, 0.56756757],\n",
       "       [0.24050633, 0.75949367],\n",
       "       [0.24050633, 0.75949367],\n",
       "       [1.        , 0.        ],\n",
       "       [0.        , 1.        ],\n",
       "       [0.43243243, 0.56756757],\n",
       "       [0.24050633, 0.75949367],\n",
       "       [0.43243243, 0.56756757],\n",
       "       [0.24050633, 0.75949367],\n",
       "       [0.24050633, 0.75949367],\n",
       "       [0.        , 1.        ],\n",
       "       [0.24050633, 0.75949367],\n",
       "       [0.43243243, 0.56756757],\n",
       "       [0.24050633, 0.75949367]])"
      ]
     },
     "execution_count": 48,
     "metadata": {},
     "output_type": "execute_result"
    }
   ],
   "source": [
    "y_pred_proba = clf.predict_proba(train[['pclass', 'age', 'fare', 'sibsp', 'parch']])\n",
    "y_pred_proba"
   ]
  },
  {
   "cell_type": "code",
   "execution_count": 49,
   "metadata": {},
   "outputs": [
    {
     "name": "stdout",
     "output_type": "stream",
     "text": [
      "Accuracy of Decision Tree classifier on training set: 0.75\n"
     ]
    }
   ],
   "source": [
    "print('Accuracy of Decision Tree classifier on training set: {:.2f}'\n",
    "     .format(clf.score(train[['pclass', 'age', 'fare', 'sibsp', 'parch']], train.survived)))"
   ]
  },
  {
   "cell_type": "code",
   "execution_count": 50,
   "metadata": {},
   "outputs": [
    {
     "data": {
      "text/html": [
       "<div>\n",
       "<style scoped>\n",
       "    .dataframe tbody tr th:only-of-type {\n",
       "        vertical-align: middle;\n",
       "    }\n",
       "\n",
       "    .dataframe tbody tr th {\n",
       "        vertical-align: top;\n",
       "    }\n",
       "\n",
       "    .dataframe thead th {\n",
       "        text-align: right;\n",
       "    }\n",
       "</style>\n",
       "<table border=\"1\" class=\"dataframe\">\n",
       "  <thead>\n",
       "    <tr style=\"text-align: right;\">\n",
       "      <th></th>\n",
       "      <th>0</th>\n",
       "      <th>1</th>\n",
       "    </tr>\n",
       "  </thead>\n",
       "  <tbody>\n",
       "    <tr>\n",
       "      <th>0</th>\n",
       "      <td>11</td>\n",
       "      <td>35</td>\n",
       "    </tr>\n",
       "    <tr>\n",
       "      <th>1</th>\n",
       "      <td>0</td>\n",
       "      <td>92</td>\n",
       "    </tr>\n",
       "  </tbody>\n",
       "</table>\n",
       "</div>"
      ],
      "text/plain": [
       "    0   1\n",
       "0  11  35\n",
       "1   0  92"
      ]
     },
     "execution_count": 50,
     "metadata": {},
     "output_type": "execute_result"
    }
   ],
   "source": [
    "labels = sorted(train.survived.unique())\n",
    "\n",
    "pd.DataFrame(confusion_matrix(train.survived, y_pred), index=labels, columns=labels)"
   ]
  },
  {
   "cell_type": "code",
   "execution_count": 51,
   "metadata": {},
   "outputs": [
    {
     "name": "stdout",
     "output_type": "stream",
     "text": [
      "              precision    recall  f1-score   support\n",
      "\n",
      "           0       1.00      0.24      0.39        46\n",
      "           1       0.72      1.00      0.84        92\n",
      "\n",
      "   micro avg       0.75      0.75      0.75       138\n",
      "   macro avg       0.86      0.62      0.61       138\n",
      "weighted avg       0.82      0.75      0.69       138\n",
      "\n"
     ]
    }
   ],
   "source": [
    "print(classification_report(train.survived, y_pred))"
   ]
  },
  {
   "cell_type": "code",
   "execution_count": 52,
   "metadata": {},
   "outputs": [
    {
     "name": "stdout",
     "output_type": "stream",
     "text": [
      "Accuracy of Decision Tree classifier on test set: 0.78\n"
     ]
    }
   ],
   "source": [
    "print('Accuracy of Decision Tree classifier on test set: {:.2f}'\n",
    "     .format(clf.score(test[['pclass', 'age', 'fare', 'sibsp', 'parch']], test.survived)))"
   ]
  },
  {
   "cell_type": "markdown",
   "metadata": {},
   "source": [
    "## Iris- entropy"
   ]
  },
  {
   "cell_type": "code",
   "execution_count": 53,
   "metadata": {},
   "outputs": [
    {
     "data": {
      "text/html": [
       "<div>\n",
       "<style scoped>\n",
       "    .dataframe tbody tr th:only-of-type {\n",
       "        vertical-align: middle;\n",
       "    }\n",
       "\n",
       "    .dataframe tbody tr th {\n",
       "        vertical-align: top;\n",
       "    }\n",
       "\n",
       "    .dataframe thead th {\n",
       "        text-align: right;\n",
       "    }\n",
       "</style>\n",
       "<table border=\"1\" class=\"dataframe\">\n",
       "  <thead>\n",
       "    <tr style=\"text-align: right;\">\n",
       "      <th></th>\n",
       "      <th>species</th>\n",
       "      <th>sepal_length</th>\n",
       "      <th>sepal_width</th>\n",
       "      <th>petal_length</th>\n",
       "      <th>petal_width</th>\n",
       "      <th>species_encode</th>\n",
       "    </tr>\n",
       "  </thead>\n",
       "  <tbody>\n",
       "    <tr>\n",
       "      <th>0</th>\n",
       "      <td>setosa</td>\n",
       "      <td>5.1</td>\n",
       "      <td>3.5</td>\n",
       "      <td>1.4</td>\n",
       "      <td>0.2</td>\n",
       "      <td>0</td>\n",
       "    </tr>\n",
       "    <tr>\n",
       "      <th>1</th>\n",
       "      <td>setosa</td>\n",
       "      <td>4.9</td>\n",
       "      <td>3.0</td>\n",
       "      <td>1.4</td>\n",
       "      <td>0.2</td>\n",
       "      <td>0</td>\n",
       "    </tr>\n",
       "    <tr>\n",
       "      <th>2</th>\n",
       "      <td>setosa</td>\n",
       "      <td>4.7</td>\n",
       "      <td>3.2</td>\n",
       "      <td>1.3</td>\n",
       "      <td>0.2</td>\n",
       "      <td>0</td>\n",
       "    </tr>\n",
       "    <tr>\n",
       "      <th>3</th>\n",
       "      <td>setosa</td>\n",
       "      <td>4.6</td>\n",
       "      <td>3.1</td>\n",
       "      <td>1.5</td>\n",
       "      <td>0.2</td>\n",
       "      <td>0</td>\n",
       "    </tr>\n",
       "    <tr>\n",
       "      <th>4</th>\n",
       "      <td>setosa</td>\n",
       "      <td>5.0</td>\n",
       "      <td>3.6</td>\n",
       "      <td>1.4</td>\n",
       "      <td>0.2</td>\n",
       "      <td>0</td>\n",
       "    </tr>\n",
       "  </tbody>\n",
       "</table>\n",
       "</div>"
      ],
      "text/plain": [
       "  species  sepal_length  sepal_width  petal_length  petal_width  \\\n",
       "0  setosa           5.1          3.5           1.4          0.2   \n",
       "1  setosa           4.9          3.0           1.4          0.2   \n",
       "2  setosa           4.7          3.2           1.3          0.2   \n",
       "3  setosa           4.6          3.1           1.5          0.2   \n",
       "4  setosa           5.0          3.6           1.4          0.2   \n",
       "\n",
       "   species_encode  \n",
       "0               0  \n",
       "1               0  \n",
       "2               0  \n",
       "3               0  \n",
       "4               0  "
      ]
     },
     "execution_count": 53,
     "metadata": {},
     "output_type": "execute_result"
    }
   ],
   "source": [
    "from acquire import get_iris_data\n",
    "from prepare import prep_iris\n",
    "\n",
    "df = prep_iris(get_iris_data())\n",
    "df.head()"
   ]
  },
  {
   "cell_type": "code",
   "execution_count": 55,
   "metadata": {},
   "outputs": [
    {
     "data": {
      "text/html": [
       "<div>\n",
       "<style scoped>\n",
       "    .dataframe tbody tr th:only-of-type {\n",
       "        vertical-align: middle;\n",
       "    }\n",
       "\n",
       "    .dataframe tbody tr th {\n",
       "        vertical-align: top;\n",
       "    }\n",
       "\n",
       "    .dataframe thead th {\n",
       "        text-align: right;\n",
       "    }\n",
       "</style>\n",
       "<table border=\"1\" class=\"dataframe\">\n",
       "  <thead>\n",
       "    <tr style=\"text-align: right;\">\n",
       "      <th></th>\n",
       "      <th>sepal_length</th>\n",
       "      <th>sepal_width</th>\n",
       "      <th>petal_length</th>\n",
       "      <th>petal_width</th>\n",
       "      <th>species_encode</th>\n",
       "    </tr>\n",
       "  </thead>\n",
       "  <tbody>\n",
       "    <tr>\n",
       "      <th>114</th>\n",
       "      <td>5.8</td>\n",
       "      <td>2.8</td>\n",
       "      <td>5.1</td>\n",
       "      <td>2.4</td>\n",
       "      <td>2</td>\n",
       "    </tr>\n",
       "    <tr>\n",
       "      <th>136</th>\n",
       "      <td>6.3</td>\n",
       "      <td>3.4</td>\n",
       "      <td>5.6</td>\n",
       "      <td>2.4</td>\n",
       "      <td>2</td>\n",
       "    </tr>\n",
       "    <tr>\n",
       "      <th>53</th>\n",
       "      <td>5.5</td>\n",
       "      <td>2.3</td>\n",
       "      <td>4.0</td>\n",
       "      <td>1.3</td>\n",
       "      <td>1</td>\n",
       "    </tr>\n",
       "    <tr>\n",
       "      <th>19</th>\n",
       "      <td>5.1</td>\n",
       "      <td>3.8</td>\n",
       "      <td>1.5</td>\n",
       "      <td>0.3</td>\n",
       "      <td>0</td>\n",
       "    </tr>\n",
       "    <tr>\n",
       "      <th>38</th>\n",
       "      <td>4.4</td>\n",
       "      <td>3.0</td>\n",
       "      <td>1.3</td>\n",
       "      <td>0.2</td>\n",
       "      <td>0</td>\n",
       "    </tr>\n",
       "  </tbody>\n",
       "</table>\n",
       "</div>"
      ],
      "text/plain": [
       "     sepal_length  sepal_width  petal_length  petal_width  species_encode\n",
       "114           5.8          2.8           5.1          2.4               2\n",
       "136           6.3          3.4           5.6          2.4               2\n",
       "53            5.5          2.3           4.0          1.3               1\n",
       "19            5.1          3.8           1.5          0.3               0\n",
       "38            4.4          3.0           1.3          0.2               0"
      ]
     },
     "execution_count": 55,
     "metadata": {},
     "output_type": "execute_result"
    }
   ],
   "source": [
    "X = df.drop(['species'],axis=1)\n",
    "y = df[['species']]\n",
    "X_train, X_test, y_train, y_test = train_test_split(X, y, test_size = .30, random_state = 123)\n",
    "\n",
    "X_train.head()"
   ]
  },
  {
   "cell_type": "code",
   "execution_count": 56,
   "metadata": {},
   "outputs": [],
   "source": [
    "clf = DecisionTreeClassifier(criterion='entropy')"
   ]
  },
  {
   "cell_type": "code",
   "execution_count": 57,
   "metadata": {},
   "outputs": [
    {
     "data": {
      "text/plain": [
       "DecisionTreeClassifier(class_weight=None, criterion='entropy', max_depth=None,\n",
       "            max_features=None, max_leaf_nodes=None,\n",
       "            min_impurity_decrease=0.0, min_impurity_split=None,\n",
       "            min_samples_leaf=1, min_samples_split=2,\n",
       "            min_weight_fraction_leaf=0.0, presort=False, random_state=None,\n",
       "            splitter='best')"
      ]
     },
     "execution_count": 57,
     "metadata": {},
     "output_type": "execute_result"
    }
   ],
   "source": [
    "clf.fit(X_train, y_train)"
   ]
  },
  {
   "cell_type": "code",
   "execution_count": 58,
   "metadata": {},
   "outputs": [
    {
     "data": {
      "text/plain": [
       "array(['virginica', 'virginica', 'versicolor', 'setosa', 'setosa'],\n",
       "      dtype=object)"
      ]
     },
     "execution_count": 58,
     "metadata": {},
     "output_type": "execute_result"
    }
   ],
   "source": [
    "y_pred = clf.predict(X_train)\n",
    "y_pred[0:5]"
   ]
  },
  {
   "cell_type": "code",
   "execution_count": 59,
   "metadata": {},
   "outputs": [
    {
     "data": {
      "text/plain": [
       "array([[0., 0., 1.],\n",
       "       [0., 0., 1.],\n",
       "       [0., 1., 0.],\n",
       "       [1., 0., 0.],\n",
       "       [1., 0., 0.],\n",
       "       [0., 0., 1.],\n",
       "       [1., 0., 0.],\n",
       "       [1., 0., 0.],\n",
       "       [0., 1., 0.],\n",
       "       [0., 1., 0.],\n",
       "       [0., 1., 0.],\n",
       "       [0., 1., 0.],\n",
       "       [0., 0., 1.],\n",
       "       [0., 1., 0.],\n",
       "       [0., 0., 1.],\n",
       "       [1., 0., 0.],\n",
       "       [0., 0., 1.],\n",
       "       [0., 1., 0.],\n",
       "       [1., 0., 0.],\n",
       "       [1., 0., 0.],\n",
       "       [0., 0., 1.],\n",
       "       [0., 1., 0.],\n",
       "       [0., 0., 1.],\n",
       "       [0., 0., 1.],\n",
       "       [1., 0., 0.],\n",
       "       [0., 1., 0.],\n",
       "       [0., 1., 0.],\n",
       "       [0., 0., 1.],\n",
       "       [1., 0., 0.],\n",
       "       [0., 0., 1.],\n",
       "       [0., 1., 0.],\n",
       "       [0., 1., 0.],\n",
       "       [1., 0., 0.],\n",
       "       [0., 0., 1.],\n",
       "       [0., 0., 1.],\n",
       "       [1., 0., 0.],\n",
       "       [1., 0., 0.],\n",
       "       [0., 1., 0.],\n",
       "       [0., 1., 0.],\n",
       "       [0., 0., 1.],\n",
       "       [1., 0., 0.],\n",
       "       [1., 0., 0.],\n",
       "       [0., 1., 0.],\n",
       "       [1., 0., 0.],\n",
       "       [0., 1., 0.],\n",
       "       [0., 0., 1.],\n",
       "       [1., 0., 0.],\n",
       "       [0., 0., 1.],\n",
       "       [1., 0., 0.],\n",
       "       [1., 0., 0.],\n",
       "       [0., 1., 0.],\n",
       "       [1., 0., 0.],\n",
       "       [1., 0., 0.],\n",
       "       [0., 1., 0.],\n",
       "       [0., 0., 1.],\n",
       "       [0., 1., 0.],\n",
       "       [0., 1., 0.],\n",
       "       [0., 1., 0.],\n",
       "       [1., 0., 0.],\n",
       "       [1., 0., 0.],\n",
       "       [0., 1., 0.],\n",
       "       [0., 0., 1.],\n",
       "       [1., 0., 0.],\n",
       "       [1., 0., 0.],\n",
       "       [0., 1., 0.],\n",
       "       [0., 1., 0.],\n",
       "       [0., 1., 0.],\n",
       "       [0., 0., 1.],\n",
       "       [0., 1., 0.],\n",
       "       [0., 1., 0.],\n",
       "       [0., 1., 0.],\n",
       "       [0., 0., 1.],\n",
       "       [1., 0., 0.],\n",
       "       [1., 0., 0.],\n",
       "       [0., 1., 0.],\n",
       "       [0., 0., 1.],\n",
       "       [0., 0., 1.],\n",
       "       [0., 0., 1.],\n",
       "       [0., 0., 1.],\n",
       "       [1., 0., 0.],\n",
       "       [0., 1., 0.],\n",
       "       [1., 0., 0.],\n",
       "       [0., 1., 0.],\n",
       "       [0., 1., 0.],\n",
       "       [1., 0., 0.],\n",
       "       [0., 1., 0.],\n",
       "       [0., 0., 1.],\n",
       "       [0., 1., 0.],\n",
       "       [0., 0., 1.],\n",
       "       [0., 0., 1.],\n",
       "       [1., 0., 0.],\n",
       "       [0., 1., 0.],\n",
       "       [1., 0., 0.],\n",
       "       [0., 0., 1.],\n",
       "       [0., 0., 1.],\n",
       "       [0., 1., 0.],\n",
       "       [0., 1., 0.],\n",
       "       [0., 0., 1.],\n",
       "       [0., 0., 1.],\n",
       "       [0., 1., 0.],\n",
       "       [1., 0., 0.],\n",
       "       [0., 1., 0.],\n",
       "       [0., 1., 0.],\n",
       "       [0., 0., 1.],\n",
       "       [0., 0., 1.]])"
      ]
     },
     "execution_count": 59,
     "metadata": {},
     "output_type": "execute_result"
    }
   ],
   "source": [
    "y_pred_proba = clf.predict_proba(X_train)\n",
    "y_pred_proba"
   ]
  },
  {
   "cell_type": "code",
   "execution_count": 60,
   "metadata": {},
   "outputs": [
    {
     "name": "stdout",
     "output_type": "stream",
     "text": [
      "Accuracy of Decision Tree classifier on training set: 1.00\n"
     ]
    }
   ],
   "source": [
    "print('Accuracy of Decision Tree classifier on training set: {:.2f}'\n",
    "     .format(clf.score(X_train, y_train)))"
   ]
  },
  {
   "cell_type": "code",
   "execution_count": 61,
   "metadata": {},
   "outputs": [
    {
     "data": {
      "text/plain": [
       "array([[32,  0,  0],\n",
       "       [ 0, 40,  0],\n",
       "       [ 0,  0, 33]])"
      ]
     },
     "execution_count": 61,
     "metadata": {},
     "output_type": "execute_result"
    }
   ],
   "source": [
    "confusion_matrix(y_train, y_pred)"
   ]
  },
  {
   "cell_type": "code",
   "execution_count": 62,
   "metadata": {},
   "outputs": [
    {
     "data": {
      "text/plain": [
       "['setosa', 'versicolor', 'virginica']"
      ]
     },
     "execution_count": 62,
     "metadata": {},
     "output_type": "execute_result"
    }
   ],
   "source": [
    "sorted(y_train.species.unique())"
   ]
  },
  {
   "cell_type": "code",
   "execution_count": 63,
   "metadata": {},
   "outputs": [
    {
     "data": {
      "text/plain": [
       "versicolor    40\n",
       "virginica     33\n",
       "setosa        32\n",
       "Name: species, dtype: int64"
      ]
     },
     "execution_count": 63,
     "metadata": {},
     "output_type": "execute_result"
    }
   ],
   "source": [
    "y_train.species.value_counts()"
   ]
  },
  {
   "cell_type": "code",
   "execution_count": 64,
   "metadata": {},
   "outputs": [
    {
     "data": {
      "text/html": [
       "<div>\n",
       "<style scoped>\n",
       "    .dataframe tbody tr th:only-of-type {\n",
       "        vertical-align: middle;\n",
       "    }\n",
       "\n",
       "    .dataframe tbody tr th {\n",
       "        vertical-align: top;\n",
       "    }\n",
       "\n",
       "    .dataframe thead th {\n",
       "        text-align: right;\n",
       "    }\n",
       "</style>\n",
       "<table border=\"1\" class=\"dataframe\">\n",
       "  <thead>\n",
       "    <tr style=\"text-align: right;\">\n",
       "      <th></th>\n",
       "      <th>setosa</th>\n",
       "      <th>versicolor</th>\n",
       "      <th>virginica</th>\n",
       "    </tr>\n",
       "  </thead>\n",
       "  <tbody>\n",
       "    <tr>\n",
       "      <th>setosa</th>\n",
       "      <td>32</td>\n",
       "      <td>0</td>\n",
       "      <td>0</td>\n",
       "    </tr>\n",
       "    <tr>\n",
       "      <th>versicolor</th>\n",
       "      <td>0</td>\n",
       "      <td>40</td>\n",
       "      <td>0</td>\n",
       "    </tr>\n",
       "    <tr>\n",
       "      <th>virginica</th>\n",
       "      <td>0</td>\n",
       "      <td>0</td>\n",
       "      <td>33</td>\n",
       "    </tr>\n",
       "  </tbody>\n",
       "</table>\n",
       "</div>"
      ],
      "text/plain": [
       "            setosa  versicolor  virginica\n",
       "setosa          32           0          0\n",
       "versicolor       0          40          0\n",
       "virginica        0           0         33"
      ]
     },
     "execution_count": 64,
     "metadata": {},
     "output_type": "execute_result"
    }
   ],
   "source": [
    "labels = sorted(y_train.species.unique())\n",
    "\n",
    "pd.DataFrame(confusion_matrix(y_train, y_pred), index=labels, columns=labels)"
   ]
  },
  {
   "cell_type": "code",
   "execution_count": 65,
   "metadata": {},
   "outputs": [
    {
     "name": "stdout",
     "output_type": "stream",
     "text": [
      "              precision    recall  f1-score   support\n",
      "\n",
      "      setosa       1.00      1.00      1.00        32\n",
      "  versicolor       1.00      1.00      1.00        40\n",
      "   virginica       1.00      1.00      1.00        33\n",
      "\n",
      "   micro avg       1.00      1.00      1.00       105\n",
      "   macro avg       1.00      1.00      1.00       105\n",
      "weighted avg       1.00      1.00      1.00       105\n",
      "\n"
     ]
    }
   ],
   "source": [
    "print(classification_report(y_train, y_pred))"
   ]
  },
  {
   "cell_type": "code",
   "execution_count": 66,
   "metadata": {},
   "outputs": [
    {
     "name": "stdout",
     "output_type": "stream",
     "text": [
      "Accuracy of Decision Tree classifier on test set: 1.00\n"
     ]
    }
   ],
   "source": [
    "print('Accuracy of Decision Tree classifier on test set: {:.2f}'\n",
    "     .format(clf.score(X_test, y_test)))"
   ]
  },
  {
   "cell_type": "code",
   "execution_count": 68,
   "metadata": {},
   "outputs": [
    {
     "data": {
      "text/plain": [
       "'iris_decision_tree2.pdf'"
      ]
     },
     "execution_count": 68,
     "metadata": {},
     "output_type": "execute_result"
    }
   ],
   "source": [
    "dot_data = tree.export_graphviz(clf, out_file=None) \n",
    "graph = graphviz.Source(dot_data) \n",
    "\n",
    "graph.render('iris_decision_tree2', view=True)"
   ]
  },
  {
   "cell_type": "code",
   "execution_count": null,
   "metadata": {},
   "outputs": [],
   "source": []
  }
 ],
 "metadata": {
  "kernelspec": {
   "display_name": "Python 3",
   "language": "python",
   "name": "python3"
  },
  "language_info": {
   "codemirror_mode": {
    "name": "ipython",
    "version": 3
   },
   "file_extension": ".py",
   "mimetype": "text/x-python",
   "name": "python",
   "nbconvert_exporter": "python",
   "pygments_lexer": "ipython3",
   "version": "3.7.1"
  }
 },
 "nbformat": 4,
 "nbformat_minor": 2
}
