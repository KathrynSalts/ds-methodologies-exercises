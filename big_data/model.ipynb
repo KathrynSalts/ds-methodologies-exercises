{
 "cells": [
  {
   "cell_type": "markdown",
   "metadata": {},
   "source": [
    "# Modeling"
   ]
  },
  {
   "cell_type": "markdown",
   "metadata": {},
   "source": [
    "    1. Use the .randomSplit method to split the 311 data into training and test sets.\n",
    "    2. Create a classification model to predict whether a case will be late or not (i.e. predict case_late). Experiment with different combinations of features and different classification algorithms."
   ]
  },
  {
   "cell_type": "code",
   "execution_count": 10,
   "metadata": {},
   "outputs": [],
   "source": [
    "import pyspark\n",
    "import pandas as pd\n",
    "from pyspark.sql import SparkSession\n",
    "from pyspark.sql.functions import col, expr\n",
    "from pyspark.sql.functions import *\n",
    "import pyspark.sql.functions as F\n",
    "%matplotlib inline\n",
    "import pyspark\n",
    "import pyspark.ml\n",
    "from pyspark.sql.functions import *\n",
    "\n",
    "spark = SparkSession.builder.master(\"local\").appName(\"read\").\\\n",
    "    enableHiveSupport().\\\n",
    "    getOrCreate()"
   ]
  },
  {
   "cell_type": "code",
   "execution_count": 2,
   "metadata": {},
   "outputs": [],
   "source": [
    "case = spark.read.csv('./case.csv', header=True)\n",
    "source = spark.read.csv('./source.csv', header=True)\n",
    "dept = spark.read.csv('./dept.csv', header=True)"
   ]
  },
  {
   "cell_type": "code",
   "execution_count": 3,
   "metadata": {},
   "outputs": [
    {
     "name": "stdout",
     "output_type": "stream",
     "text": [
      "+---------+--------------------+\n",
      "|source_id|     source_username|\n",
      "+---------+--------------------+\n",
      "|   100137|    Merlene Blodgett|\n",
      "|   103582|         Carmen Cura|\n",
      "|   106463|     Richard Sanchez|\n",
      "|   119403|      Betty De Hoyos|\n",
      "|   119555|      Socorro Quiara|\n",
      "|   119868| Michelle San Miguel|\n",
      "|   120752|      Eva T. Kleiber|\n",
      "|   124405|           Lori Lara|\n",
      "|   132408|       Leonard Silva|\n",
      "|   135723|        Amy Cardenas|\n",
      "|   136202|    Michelle Urrutia|\n",
      "|   136979|      Leticia Garcia|\n",
      "|   137943|    Pamela K. Baccus|\n",
      "|   138605|        Marisa Ozuna|\n",
      "|   138650|      Kimberly Green|\n",
      "|   138650|Kimberly Green-Woods|\n",
      "|   138793| Guadalupe Rodriguez|\n",
      "|   138810|       Tawona Martin|\n",
      "|   139342|     Jessica Mendoza|\n",
      "|   139344|        Isis Mendoza|\n",
      "+---------+--------------------+\n",
      "only showing top 20 rows\n",
      "\n",
      "+--------------------+--------------------+----------------------+-------------------+\n",
      "|       dept_division|           dept_name|standardized_dept_name|dept_subject_to_SLA|\n",
      "+--------------------+--------------------+----------------------+-------------------+\n",
      "|     311 Call Center|    Customer Service|      Customer Service|                YES|\n",
      "|               Brush|Solid Waste Manag...|           Solid Waste|                YES|\n",
      "|     Clean and Green|Parks and Recreation|    Parks & Recreation|                YES|\n",
      "|Clean and Green N...|Parks and Recreation|    Parks & Recreation|                YES|\n",
      "|    Code Enforcement|Code Enforcement ...|  DSD/Code Enforcement|                YES|\n",
      "|Code Enforcement ...|Code Enforcement ...|  DSD/Code Enforcement|                YES|\n",
      "|Code Enforcement ...|                null|  DSD/Code Enforcement|                YES|\n",
      "|   Dangerous Premise|Code Enforcement ...|  DSD/Code Enforcement|                YES|\n",
      "|Dangerous Premise...|Code Enforcement ...|  DSD/Code Enforcement|                YES|\n",
      "|Director's Office...|Trans & Cap Impro...|  Trans & Cap Impro...|                YES|\n",
      "|          District 1|        City Council|          City Council|                 NO|\n",
      "|         District 10|        City Council|          City Council|                 NO|\n",
      "|          District 2|        City Council|          City Council|                 NO|\n",
      "|          District 3|        City Council|          City Council|                 NO|\n",
      "|          District 6|        City Council|          City Council|                 NO|\n",
      "|          District 7|        City Council|          City Council|                 NO|\n",
      "|          District 8|        City Council|          City Council|                 NO|\n",
      "|          District 9|        City Council|          City Council|                 NO|\n",
      "|Engineering Division|Development Services|  DSD/Code Enforcement|                YES|\n",
      "|    Facility License|        Metro Health|          Metro Health|                YES|\n",
      "+--------------------+--------------------+----------------------+-------------------+\n",
      "only showing top 20 rows\n",
      "\n",
      "+----------+----------------+----------------+------------+---------+-------------------+-----------+----------------+--------------------+------------------+-----------+---------+--------------------+----------------+\n",
      "|   case_id|case_opened_date|case_closed_date|SLA_due_date|case_late|      num_days_late|case_closed|   dept_division|service_request_type|          SLA_days|case_status|source_id|     request_address|council_district|\n",
      "+----------+----------------+----------------+------------+---------+-------------------+-----------+----------------+--------------------+------------------+-----------+---------+--------------------+----------------+\n",
      "|1014127332|     1/1/18 0:42|    1/1/18 12:29|9/26/20 0:42|       NO| -998.5087616000001|        YES|Field Operations|        Stray Animal|             999.0|     Closed| svcCRMLS|2315  EL PASO ST,...|               5|\n",
      "|1014127333|     1/1/18 0:46|     1/3/18 8:11| 1/5/18 8:30|       NO|-2.0126041669999997|        YES|     Storm Water|Removal Of Obstru...|       4.322222222|     Closed| svcCRMSS|2215  GOLIAD RD, ...|               3|\n",
      "|1014127334|     1/1/18 0:48|     1/2/18 7:57| 1/5/18 8:30|       NO|       -3.022337963|        YES|     Storm Water|Removal Of Obstru...|       4.320729167|     Closed| svcCRMSS|102  PALFREY ST W...|               3|\n",
      "|1014127335|     1/1/18 1:29|     1/2/18 8:13|1/17/18 8:30|       NO|       -15.01148148|        YES|Code Enforcement|Front Or Side Yar...|       16.29188657|     Closed| svcCRMSS|114  LA GARDE ST,...|               3|\n",
      "|1014127336|     1/1/18 1:34|    1/1/18 13:29| 1/1/18 4:34|      YES|0.37216435200000003|        YES|Field Operations|Animal Cruelty(Cr...|             0.125|     Closed| svcCRMSS|734  CLEARVIEW DR...|               7|\n",
      "|1014127337|     1/1/18 6:28|    1/1/18 14:38|1/31/18 8:30|       NO|       -29.74398148|        YES|         Signals|Traffic Signal Op...|       30.08446759|     Closed| svcCRMSS|BANDERA RD and BR...|               7|\n",
      "|1014127338|     1/1/18 6:57|    1/2/18 15:32|1/17/18 8:30|       NO|       -14.70673611|        YES|Code Enforcement|Front Or Side Yar...|       16.06429398|     Closed| svcCRMSS|10133  FIGARO CAN...|               4|\n",
      "|1014127339|     1/1/18 6:58|    1/2/18 15:32|1/17/18 8:30|       NO|       -14.70662037|        YES|Code Enforcement|Front Or Side Yar...|16.063796300000003|     Closed| svcCRMSS|10133  FIGARO CAN...|               4|\n",
      "|1014127340|     1/1/18 6:58|    1/2/18 15:32|1/17/18 8:30|       NO|       -14.70662037|        YES|Code Enforcement|Right Of Way/Side...|       16.06333333|     Closed| svcCRMSS|10133  FIGARO CAN...|               4|\n",
      "|1014127341|     1/1/18 6:59|    1/2/18 15:32|1/17/18 8:30|       NO|       -14.70649306|        YES|Code Enforcement|Front Or Side Yar...|        16.0628588|     Closed| svcCRMSS|10133  FIGARO CAN...|               4|\n",
      "|1014127342|     1/1/18 7:00|    1/2/18 15:32|1/17/18 8:30|       NO|       -14.70649306|        YES|Code Enforcement|Front Or Side Yar...|       16.06237269|     Closed| svcCRMSS|10133  FIGARO CAN...|               4|\n",
      "|1014127343|     1/1/18 7:02|    1/2/18 15:32|1/17/18 8:30|       NO|       -14.70636574|        YES|Code Enforcement|Right Of Way/Side...|       16.06104167|     Closed| svcCRMSS|10133  FIGARO CAN...|               4|\n",
      "|1014127344|     1/1/18 7:02|    1/2/18 15:33|1/17/18 8:30|       NO|          -14.70625|        YES|Code Enforcement|Front Or Side Yar...|       16.06059028|     Closed| svcCRMSS|10129  BOXING PAS...|               4|\n",
      "|1014127345|     1/1/18 7:03|    1/2/18 15:32|1/17/18 8:30|       NO|       -14.70636574|        YES|Code Enforcement|Front Or Side Yar...|       16.06011574|     Closed| svcCRMSS|10129  BOXING PAS...|               4|\n",
      "|1014127346|     1/1/18 7:04|    1/2/18 15:33|1/17/18 8:30|       NO|       -14.70623843|        YES|Code Enforcement|Right Of Way/Side...|       16.05953704|     Closed| svcCRMSS|10129  BOXING PAS...|               4|\n",
      "|1014127347|     1/1/18 7:04|    1/2/18 15:33|1/17/18 8:30|       NO|-14.705891199999998|        YES|Code Enforcement|Front Or Side Yar...|       16.05907407|     Closed| svcCRMSS|834  BARREL POINT...|               4|\n",
      "|1014127348|     1/1/18 7:05|    1/2/18 15:33|1/17/18 8:30|       NO|       -14.70600694|        YES|Code Enforcement|Front Or Side Yar...|       16.05864583|     Closed| svcCRMSS|834  BARREL POINT...|               4|\n",
      "|1014127349|     1/1/18 7:06|    1/2/18 15:33|1/17/18 8:30|       NO|       -14.70576389|        YES|Code Enforcement|Right Of Way/Side...|       16.05819444|     Closed| svcCRMSS|834  BARREL POINT...|               4|\n",
      "|1014127350|     1/1/18 7:06|    1/2/18 15:33|1/17/18 8:30|       NO|       -14.70576389|        YES|Code Enforcement|Front Or Side Yar...|       16.05775463|     Closed| svcCRMSS|834  BARREL POINT...|               4|\n",
      "|1014127351|     1/1/18 7:07|    1/2/18 15:33|1/17/18 8:30|       NO|       -14.70564815|        YES|Code Enforcement|Front Or Side Yar...|       16.05733796|     Closed| svcCRMSS|834  BARREL POINT...|               4|\n",
      "+----------+----------------+----------------+------------+---------+-------------------+-----------+----------------+--------------------+------------------+-----------+---------+--------------------+----------------+\n",
      "only showing top 20 rows\n",
      "\n"
     ]
    }
   ],
   "source": [
    "source.show()\n",
    "dept.show()\n",
    "case.show()"
   ]
  },
  {
   "cell_type": "code",
   "execution_count": 8,
   "metadata": {},
   "outputs": [],
   "source": [
    "df1 = case.join(dept, case.dept_division == dept.dept_division, \"full_outer\")"
   ]
  },
  {
   "cell_type": "code",
   "execution_count": 6,
   "metadata": {},
   "outputs": [],
   "source": [
    "joined = df1.join(source, df1.source_id == source.source_id, \"full_outer\")"
   ]
  },
  {
   "cell_type": "code",
   "execution_count": 9,
   "metadata": {},
   "outputs": [
    {
     "name": "stdout",
     "output_type": "stream",
     "text": [
      "+----------+----------------+----------------+--------------+---------+-------------+-----------+-------------+--------------------+--------+-----------+---------+--------------------+----------------+-------------+--------------------+----------------------+-------------------+---------+----------------+\n",
      "|   case_id|case_opened_date|case_closed_date|  SLA_due_date|case_late|num_days_late|case_closed|dept_division|service_request_type|SLA_days|case_status|source_id|     request_address|council_district|dept_division|           dept_name|standardized_dept_name|dept_subject_to_SLA|source_id| source_username|\n",
      "+----------+----------------+----------------+--------------+---------+-------------+-----------+-------------+--------------------+--------+-----------+---------+--------------------+----------------+-------------+--------------------+----------------------+-------------------+---------+----------------+\n",
      "|1013554415|    5/9/17 13:55|   5/10/17 10:58| 5/11/17 13:55|       NO|  -1.12275463|        YES|Miscellaneous|   Dead Animal - Cat|     2.0|     Closed|   136202|1039  UTOPIA LANE...|               3|Miscellaneous|Solid Waste Manag...|           Solid Waste|                YES|   136202|Michelle Urrutia|\n",
      "|1014423136|   4/13/18 15:43|   4/30/18 13:51| 4/18/18 15:43|      YES|  11.92177083|        YES|  Solid Waste|Solid Waste - Mis...|     5.0|     Closed|   136202|506  WALDER TRAIL...|               9|  Solid Waste|Solid Waste Manag...|           Solid Waste|                YES|   136202|Michelle Urrutia|\n",
      "|1014442689|    4/20/18 8:48|   4/30/18 14:03|  4/25/18 8:48|      YES|  5.219166667|        YES|  Solid Waste|Solid Waste - Mis...|     5.0|     Closed|   136202|7609  ORLAND PARK...|               1|  Solid Waste|Solid Waste Manag...|           Solid Waste|                YES|   136202|Michelle Urrutia|\n",
      "|1014659092|     7/4/18 8:43|     7/4/18 9:27|   7/9/18 8:43|       NO| -4.968969907|        YES|  Solid Waste|Solid Waste - Mis...|     5.0|     Closed|   136202|327  NORTHAVEN DR...|               7|  Solid Waste|Solid Waste Manag...|           Solid Waste|                YES|   136202|Michelle Urrutia|\n",
      "|1014705020|    7/20/18 9:03|   7/20/18 10:49|  7/25/18 9:03|       NO| -4.926840278|        YES|  Solid Waste|Solid Waste - Mis...|     5.0|     Closed|   136202|13310  THORNRIDGE...|               9|  Solid Waste|Solid Waste Manag...|           Solid Waste|                YES|   136202|Michelle Urrutia|\n",
      "|1014751853|    8/6/18 11:40|            null| 8/11/18 11:40|       NO| -2.486168981|         NO|  Solid Waste|Solid Waste - Mis...|     5.0|       Open|   136202|7140  OLDHAM DR, ...|               0|  Solid Waste|Solid Waste Manag...|           Solid Waste|                YES|   136202|Michelle Urrutia|\n",
      "|1013365010|   2/24/17 14:52|    3/2/17 16:52|  3/1/17 14:52|      YES|  1.082939815|        YES|  Solid Waste|Solid Waste - Mis...|     5.0|     Closed|   136202|1314  THORAIN BLV...|               1|  Solid Waste|Solid Waste Manag...|           Solid Waste|                YES|   136202|Michelle Urrutia|\n",
      "|1013370216|   2/27/17 13:40|    4/5/17 16:09|  3/4/17 13:40|      YES|  32.10305556|        YES|  Solid Waste|Solid Waste - Mis...|     5.0|     Closed|   136202|16810  MAPLE GLAD...|              10|  Solid Waste|Solid Waste Manag...|           Solid Waste|                YES|   136202|Michelle Urrutia|\n",
      "|1013388125|    3/6/17 11:45|    3/6/17 11:53| 3/11/17 11:45|       NO| -4.994594907|        YES|  Solid Waste|Solid Waste - Mis...|     5.0|     Closed|   136202|13202  LARKFIELD ...|              10|  Solid Waste|Solid Waste Manag...|           Solid Waste|                YES|   136202|Michelle Urrutia|\n",
      "|1013388141|    3/6/17 11:48|    3/6/17 11:57| 3/11/17 11:48|       NO| -4.993321759|        YES|  Solid Waste|Solid Waste - Mis...|     5.0|     Closed|   136202|14807  BLUEMIST P...|              10|  Solid Waste|Solid Waste Manag...|           Solid Waste|                YES|   136202|Michelle Urrutia|\n",
      "|1013420097|   3/17/17 13:58|     4/4/17 9:21| 3/22/17 13:58|      YES|  12.80784722|        YES|  Solid Waste|Solid Waste - Mis...|     5.0|     Closed|   136202|4007  ST CHARLES ...|               8|  Solid Waste|Solid Waste Manag...|           Solid Waste|                YES|   136202|Michelle Urrutia|\n",
      "|1013542549|    5/4/17 14:35|    5/5/17 15:42|  5/9/17 14:35|       NO| -3.953356481|        YES|  Solid Waste|Solid Waste - Mis...|     5.0|     Closed|   136202|331  LEMUR DR, Sa...|               1|  Solid Waste|Solid Waste Manag...|           Solid Waste|                YES|   136202|Michelle Urrutia|\n",
      "|1013562064|    5/12/17 8:44|    5/15/17 7:03|  5/17/17 8:44|       NO| -2.069548611|        YES|  Solid Waste|Solid Waste - Mis...|     5.0|     Closed|   136202|327  RANMAR AVE, ...|               5|  Solid Waste|Solid Waste Manag...|           Solid Waste|                YES|   136202|Michelle Urrutia|\n",
      "|1013601428|    5/29/17 8:22|   5/29/17 10:00|   6/3/17 8:22|       NO| -4.931446759|        YES|  Solid Waste|Solid Waste - Mis...|     5.0|     Closed|   136202|1230  RANGE FINDE...|               6|  Solid Waste|Solid Waste Manag...|           Solid Waste|                YES|   136202|Michelle Urrutia|\n",
      "|1013615931|    6/2/17 16:47|    6/2/17 16:55|  6/7/17 16:47|       NO| -4.994652778|        YES|  Solid Waste|Solid Waste - Mis...|     5.0|     Closed|   136202|1219  SANTA BARBA...|               1|  Solid Waste|Solid Waste Manag...|           Solid Waste|                YES|   136202|Michelle Urrutia|\n",
      "|1013691927|    7/3/17 15:26|     7/4/17 7:30|  7/8/17 15:26|       NO| -4.330277778|        YES|  Solid Waste|Solid Waste - Mis...|     5.0|     Closed|   136202|1506  FULTON AVE,...|               1|  Solid Waste|Solid Waste Manag...|           Solid Waste|                YES|   136202|Michelle Urrutia|\n",
      "|1013883822|    9/18/17 8:47|   9/19/17 16:21|  9/23/17 8:47|       NO| -3.684837963|        YES|  Solid Waste|Solid Waste - Mis...|     5.0|     Closed|   136202|4931  IRMA AVE, S...|               6|  Solid Waste|Solid Waste Manag...|           Solid Waste|                YES|   136202|Michelle Urrutia|\n",
      "|1013939270|  10/10/17 10:53|  10/10/17 14:26|10/15/17 10:53|       NO| -4.851689815|        YES|  Solid Waste|Solid Waste - Mis...|     5.0|     Closed|   136202|1423  PERENNIAL, ...|               9|  Solid Waste|Solid Waste Manag...|           Solid Waste|                YES|   136202|Michelle Urrutia|\n",
      "|1013989638|  10/30/17 13:16|   11/1/17 11:43| 11/4/17 13:16|       NO| -3.064976852|        YES|  Solid Waste|Solid Waste - Mis...|     5.0|     Closed|   136202|603  GUENTHER ST ...|               1|  Solid Waste|Solid Waste Manag...|           Solid Waste|                YES|   136202|Michelle Urrutia|\n",
      "|1014021149|   11/13/17 9:52|  11/14/17 15:56| 11/18/17 9:52|       NO| -3.746666667|        YES|  Solid Waste|Solid Waste - Mis...|     5.0|     Closed|   136202|7111  WOODGATE DR...|               6|  Solid Waste|Solid Waste Manag...|           Solid Waste|                YES|   136202|Michelle Urrutia|\n",
      "+----------+----------------+----------------+--------------+---------+-------------+-----------+-------------+--------------------+--------+-----------+---------+--------------------+----------------+-------------+--------------------+----------------------+-------------------+---------+----------------+\n",
      "only showing top 20 rows\n",
      "\n"
     ]
    }
   ],
   "source": [
    "joined.show()"
   ]
  },
  {
   "cell_type": "code",
   "execution_count": null,
   "metadata": {},
   "outputs": [],
   "source": []
  }
 ],
 "metadata": {
  "kernelspec": {
   "display_name": "Python 3",
   "language": "python",
   "name": "python3"
  },
  "language_info": {
   "codemirror_mode": {
    "name": "ipython",
    "version": 3
   },
   "file_extension": ".py",
   "mimetype": "text/x-python",
   "name": "python",
   "nbconvert_exporter": "python",
   "pygments_lexer": "ipython3",
   "version": "3.7.1"
  }
 },
 "nbformat": 4,
 "nbformat_minor": 2
}
