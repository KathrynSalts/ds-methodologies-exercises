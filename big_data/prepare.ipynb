{
 "cells": [
  {
   "cell_type": "markdown",
   "metadata": {},
   "source": [
    "## Part 1"
   ]
  },
  {
   "cell_type": "markdown",
   "metadata": {},
   "source": [
    "    1. Read the case.csv file from the 311 call data into a Spark DataFrame.\n",
    "    2. How old is the latest (in terms of days past SLA) currently open issue? How long has the oldest (in terms of days since opened) currently opened issue been open?\n",
    "    3. How many Stray Animal cases are there?\n",
    "    4. How many service requests that are assigned to the Field Operations department (dept_division) are not classified as \"Officer Standby\" request type (service_request_type)?\n",
    "    5. Create a new DataFrame without any information related to dates or location.\n",
    "    6. Read dept.csv into a Spark DataFrame. Inspect the dept_name column. Replace the missing values with \"other\"."
   ]
  },
  {
   "cell_type": "code",
   "execution_count": 1,
   "metadata": {},
   "outputs": [],
   "source": [
    "import pyspark\n",
    "import pandas as pd\n",
    "from pyspark.sql import SparkSession\n",
    "from pyspark.sql.functions import col, expr"
   ]
  },
  {
   "cell_type": "code",
   "execution_count": 2,
   "metadata": {},
   "outputs": [],
   "source": [
    "spark = SparkSession.builder.master(\"local\").appName(\"read\").\\\n",
    "    enableHiveSupport().\\\n",
    "    getOrCreate()"
   ]
  },
  {
   "cell_type": "code",
   "execution_count": 3,
   "metadata": {},
   "outputs": [],
   "source": [
    "df = spark.read.csv('./case.csv', header=True)"
   ]
  },
  {
   "cell_type": "code",
   "execution_count": 4,
   "metadata": {},
   "outputs": [
    {
     "data": {
      "text/plain": [
       "pyspark.sql.dataframe.DataFrame"
      ]
     },
     "execution_count": 4,
     "metadata": {},
     "output_type": "execute_result"
    }
   ],
   "source": [
    "type(df)"
   ]
  },
  {
   "cell_type": "code",
   "execution_count": 5,
   "metadata": {},
   "outputs": [
    {
     "data": {
      "text/plain": [
       "[Row(case_id='1014127332', case_opened_date='1/1/18 0:42', case_closed_date='1/1/18 12:29', SLA_due_date='9/26/20 0:42', case_late='NO', num_days_late='-998.5087616000001', case_closed='YES', dept_division='Field Operations', service_request_type='Stray Animal', SLA_days='999.0', case_status='Closed', source_id='svcCRMLS', request_address='2315  EL PASO ST, San Antonio, 78207', council_district='5'),\n",
       " Row(case_id='1014127333', case_opened_date='1/1/18 0:46', case_closed_date='1/3/18 8:11', SLA_due_date='1/5/18 8:30', case_late='NO', num_days_late='-2.0126041669999997', case_closed='YES', dept_division='Storm Water', service_request_type='Removal Of Obstruction', SLA_days='4.322222222', case_status='Closed', source_id='svcCRMSS', request_address='2215  GOLIAD RD, San Antonio, 78223', council_district='3'),\n",
       " Row(case_id='1014127334', case_opened_date='1/1/18 0:48', case_closed_date='1/2/18 7:57', SLA_due_date='1/5/18 8:30', case_late='NO', num_days_late='-3.022337963', case_closed='YES', dept_division='Storm Water', service_request_type='Removal Of Obstruction', SLA_days='4.320729167', case_status='Closed', source_id='svcCRMSS', request_address='102  PALFREY ST W, San Antonio, 78223', council_district='3'),\n",
       " Row(case_id='1014127335', case_opened_date='1/1/18 1:29', case_closed_date='1/2/18 8:13', SLA_due_date='1/17/18 8:30', case_late='NO', num_days_late='-15.01148148', case_closed='YES', dept_division='Code Enforcement', service_request_type='Front Or Side Yard Parking', SLA_days='16.29188657', case_status='Closed', source_id='svcCRMSS', request_address='114  LA GARDE ST, San Antonio, 78223', council_district='3'),\n",
       " Row(case_id='1014127336', case_opened_date='1/1/18 1:34', case_closed_date='1/1/18 13:29', SLA_due_date='1/1/18 4:34', case_late='YES', num_days_late='0.37216435200000003', case_closed='YES', dept_division='Field Operations', service_request_type='Animal Cruelty(Critical)', SLA_days='0.125', case_status='Closed', source_id='svcCRMSS', request_address='734  CLEARVIEW DR, San Antonio, 78228', council_district='7')]"
      ]
     },
     "execution_count": 5,
     "metadata": {},
     "output_type": "execute_result"
    }
   ],
   "source": [
    "df.head(5)"
   ]
  },
  {
   "cell_type": "code",
   "execution_count": 6,
   "metadata": {},
   "outputs": [
    {
     "name": "stdout",
     "output_type": "stream",
     "text": [
      "+----------+----------------+----------------+--------------+---------+-------------------+-----------+--------------------+--------------------+------------------+-----------+------------+--------------------+----------------+\n",
      "|   case_id|case_opened_date|case_closed_date|  SLA_due_date|case_late|      num_days_late|case_closed|       dept_division|service_request_type|          SLA_days|case_status|   source_id|     request_address|council_district|\n",
      "+----------+----------------+----------------+--------------+---------+-------------------+-----------+--------------------+--------------------+------------------+-----------+------------+--------------------+----------------+\n",
      "|1013863552|    9/9/17 11:43|            null| 11/14/17 8:30|      YES|        47.64583333|         NO|    Code Enforcement|    Permits Building|       65.86542824|       Open|CRM_Listener|905  PRADO ST, Sa...|               5|\n",
      "|1013860368|     9/8/17 9:47|            null|  1/26/18 9:47|       NO|       -25.40822917|         NO|   Dangerous Premise|DSDB Ordered/Hold...|             140.0|       Open|CRM_Listener|219  PALM DR, San...|               7|\n",
      "|1013860291|     9/8/17 9:33|            null|11/14/18 11:08|       NO|       -317.4638889|         NO|Engineering Division|Street Light Exis...|432.06541669999996|       Open|     FC24472|LOCKNERE and WEST...|               1|\n",
      "|1013859969|     9/8/17 8:22|            null|  9/22/17 8:30|      YES| 100.64583329999999|         NO|    Code Enforcement|        Bandit Signs|       14.00510417|       Open|     ns16326|16615  HUEBNER RD...|               9|\n",
      "|1013862242|    9/8/17 15:28|            null|  9/8/18 15:28|       NO|-250.64461809999997|         NO|    Shops (Internal)|Major Park Improv...|             365.0|       Open|    svcCRMSS|11030  RUIDOSA ST...|               3|\n",
      "|1013862167|    9/8/17 15:12|            null| 1/26/18 15:12|       NO|       -25.63399306|         NO|    Code Enforcement|Minimum Housing-T...|             140.0|       Open|CRM_Listener|15223  OAK SPRING...|               9|\n",
      "|1013861681|    9/8/17 13:39|            null|11/13/17 13:39|      YES|        48.43096065|         NO|    Code Enforcement|     Permits, Fences|              66.0|       Open|CRM_Listener|351  KILLARNEY DR...|               3|\n",
      "|1013861140|    9/8/17 11:56|            null| 9/22/17 11:56|      YES|         100.502662|         NO|    Code Enforcement|   No Address Posted|              14.0|       Open|CRM_Listener|30  WAYSIDE, San ...|               1|\n",
      "|1013860583|    9/8/17 10:27|            null| 9/22/17 10:27|      YES|        100.5641898|         NO|    Code Enforcement|        Bandit Signs|              14.0|       Open|     me05816|119  ANDRICKS, Sa...|               3|\n",
      "|1013857239|     9/7/17 9:36|            null|  9/21/17 9:36|      YES| 101.59954859999999|         NO|    Code Enforcement|        Bandit Signs|              14.0|       Open|     rs16746|HARDY OAK BLVD an...|               9|\n",
      "|1013856961|     9/7/17 8:52|            null|  9/21/17 8:52|      YES|        101.6304282|         NO|    Shops (Internal)|          Electrical|              14.0|       Open|    svcCRMSS|EL PASO ST and EL...|               5|\n",
      "|1013859650|    9/7/17 18:45|            null|  9/22/17 8:30|      YES| 100.64583329999999|         NO|    Code Enforcement|        Bandit Signs|       14.57274306|       Open|      124405|100  MILITARY DR ...|               3|\n",
      "|1013857518|    9/7/17 10:27|            null| 9/14/17 10:27|      YES| 108.56418980000001|         NO|     311 Call Center|           Complaint|               7.0|       Open|     NO10960|4700  OLD PEARSAL...|               4|\n",
      "|1013857419|    9/7/17 10:08|            null| 9/21/17 10:08|      YES|        101.5776736|         NO|    Code Enforcement|   No Address Posted|              14.0|       Open|     MW16328|1106  BERLIN AVE,...|               5|\n",
      "|1013855831|    9/6/17 15:17|            null|          null|       NO|               null|         NO|          District 1|Request for Resea...|              null|       Open|     FC24472|MONTVIEW and ORLA...|               1|\n",
      "|1013855685|    9/6/17 14:43|            null| 9/20/17 14:43|      YES|        102.3863542|         NO|    Code Enforcement|        Bandit Signs|              14.0|       Open|     gp20685|MERRIMAC ST and S...|               3|\n",
      "|1013855431|    9/6/17 13:54|            null| 11/8/17 13:54|      YES|        53.42039352|         NO|    Code Enforcement|    Permits Building|              63.0|       Open|    svcCRMSS|414  PINE ST S, S...|               2|\n",
      "|1013854803|    9/6/17 11:52|            null| 9/14/17 11:52|      YES|            108.505|         NO|Code Enforcement ...|Boarding Home Ins...|               8.0|       Open|CRM_Listener|15223  OAK SPRING...|               9|\n",
      "|1013854643|    9/6/17 11:18|            null| 9/13/17 11:18|      YES| 109.52864579999999|         NO|     311 Call Center|           Complaint|               7.0|       Open|     ss21394|200  LEMUR DR, Sa...|               1|\n",
      "|1013854347|    9/6/17 10:28|            null| 9/20/17 10:28|      YES| 102.56362270000001|         NO|    Code Enforcement|   No Address Posted|              14.0|       Open|     ss09159|1843  KINGS HWY W...|               7|\n",
      "+----------+----------------+----------------+--------------+---------+-------------------+-----------+--------------------+--------------------+------------------+-----------+------------+--------------------+----------------+\n",
      "only showing top 20 rows\n",
      "\n"
     ]
    }
   ],
   "source": [
    "df.orderBy(df.case_opened_date.desc()).where(df.case_closed == 'NO').show()"
   ]
  },
  {
   "cell_type": "markdown",
   "metadata": {},
   "source": [
    "How many Stray Animal cases are there?"
   ]
  },
  {
   "cell_type": "code",
   "execution_count": 7,
   "metadata": {},
   "outputs": [
    {
     "data": {
      "text/plain": [
       "26760"
      ]
     },
     "execution_count": 7,
     "metadata": {},
     "output_type": "execute_result"
    }
   ],
   "source": [
    "df.select('service_request_type').where(df.service_request_type == 'Stray Animal').count()"
   ]
  },
  {
   "cell_type": "markdown",
   "metadata": {},
   "source": [
    "How many service requests that are assigned to the Field Operations department (dept_division) are not classified as \"Officer Standby\" request type (service_request_type)?"
   ]
  },
  {
   "cell_type": "code",
   "execution_count": 8,
   "metadata": {},
   "outputs": [
    {
     "data": {
      "text/plain": [
       "113902"
      ]
     },
     "execution_count": 8,
     "metadata": {},
     "output_type": "execute_result"
    }
   ],
   "source": [
    "(df\n",
    " .select('dept_division')\n",
    " .where(df.dept_division == 'Field Operations')\n",
    " .where(df.service_request_type != 'Officer Standby')\n",
    " .count())"
   ]
  },
  {
   "cell_type": "markdown",
   "metadata": {},
   "source": [
    "Create a new DataFrame without any information related to dates or location."
   ]
  },
  {
   "cell_type": "code",
   "execution_count": 9,
   "metadata": {},
   "outputs": [],
   "source": [
    "df_no_dates = df.drop('case_opened_date', 'case_closed_date', 'SLA_due_date', 'request_address', 'council_district')"
   ]
  },
  {
   "cell_type": "code",
   "execution_count": 10,
   "metadata": {},
   "outputs": [
    {
     "name": "stdout",
     "output_type": "stream",
     "text": [
      "+----------+---------+-------------------+-----------+----------------+--------------------+-----------+-----------+---------+\n",
      "|   case_id|case_late|      num_days_late|case_closed|   dept_division|service_request_type|   SLA_days|case_status|source_id|\n",
      "+----------+---------+-------------------+-----------+----------------+--------------------+-----------+-----------+---------+\n",
      "|1014127332|       NO| -998.5087616000001|        YES|Field Operations|        Stray Animal|      999.0|     Closed| svcCRMLS|\n",
      "|1014127333|       NO|-2.0126041669999997|        YES|     Storm Water|Removal Of Obstru...|4.322222222|     Closed| svcCRMSS|\n",
      "|1014127334|       NO|       -3.022337963|        YES|     Storm Water|Removal Of Obstru...|4.320729167|     Closed| svcCRMSS|\n",
      "|1014127335|       NO|       -15.01148148|        YES|Code Enforcement|Front Or Side Yar...|16.29188657|     Closed| svcCRMSS|\n",
      "|1014127336|      YES|0.37216435200000003|        YES|Field Operations|Animal Cruelty(Cr...|      0.125|     Closed| svcCRMSS|\n",
      "+----------+---------+-------------------+-----------+----------------+--------------------+-----------+-----------+---------+\n",
      "only showing top 5 rows\n",
      "\n"
     ]
    }
   ],
   "source": [
    "df_no_dates.show(5)"
   ]
  },
  {
   "cell_type": "markdown",
   "metadata": {},
   "source": [
    "Read dept.csv into a Spark DataFrame. Inspect the dept_name column. Replace the missing values with \"other\"."
   ]
  },
  {
   "cell_type": "code",
   "execution_count": 11,
   "metadata": {},
   "outputs": [],
   "source": [
    "df = spark.read.csv('./dept.csv', header=True)"
   ]
  },
  {
   "cell_type": "code",
   "execution_count": 12,
   "metadata": {},
   "outputs": [
    {
     "name": "stdout",
     "output_type": "stream",
     "text": [
      "+--------------------+--------------------+----------------------+-------------------+\n",
      "|       dept_division|           dept_name|standardized_dept_name|dept_subject_to_SLA|\n",
      "+--------------------+--------------------+----------------------+-------------------+\n",
      "|     311 Call Center|    Customer Service|      Customer Service|                YES|\n",
      "|               Brush|Solid Waste Manag...|           Solid Waste|                YES|\n",
      "|     Clean and Green|Parks and Recreation|    Parks & Recreation|                YES|\n",
      "|Clean and Green N...|Parks and Recreation|    Parks & Recreation|                YES|\n",
      "|    Code Enforcement|Code Enforcement ...|  DSD/Code Enforcement|                YES|\n",
      "|Code Enforcement ...|Code Enforcement ...|  DSD/Code Enforcement|                YES|\n",
      "|Code Enforcement ...|                null|  DSD/Code Enforcement|                YES|\n",
      "|   Dangerous Premise|Code Enforcement ...|  DSD/Code Enforcement|                YES|\n",
      "|Dangerous Premise...|Code Enforcement ...|  DSD/Code Enforcement|                YES|\n",
      "|Director's Office...|Trans & Cap Impro...|  Trans & Cap Impro...|                YES|\n",
      "|          District 1|        City Council|          City Council|                 NO|\n",
      "|         District 10|        City Council|          City Council|                 NO|\n",
      "|          District 2|        City Council|          City Council|                 NO|\n",
      "|          District 3|        City Council|          City Council|                 NO|\n",
      "|          District 6|        City Council|          City Council|                 NO|\n",
      "|          District 7|        City Council|          City Council|                 NO|\n",
      "|          District 8|        City Council|          City Council|                 NO|\n",
      "|          District 9|        City Council|          City Council|                 NO|\n",
      "|Engineering Division|Development Services|  DSD/Code Enforcement|                YES|\n",
      "|    Facility License|        Metro Health|          Metro Health|                YES|\n",
      "+--------------------+--------------------+----------------------+-------------------+\n",
      "only showing top 20 rows\n",
      "\n"
     ]
    }
   ],
   "source": [
    "df.show()"
   ]
  },
  {
   "cell_type": "code",
   "execution_count": 13,
   "metadata": {},
   "outputs": [
    {
     "name": "stdout",
     "output_type": "stream",
     "text": [
      "+--------------------+--------------------+----------------------+-------------------+\n",
      "|       dept_division|           dept_name|standardized_dept_name|dept_subject_to_SLA|\n",
      "+--------------------+--------------------+----------------------+-------------------+\n",
      "|     311 Call Center|    Customer Service|      Customer Service|                YES|\n",
      "|               Brush|Solid Waste Manag...|           Solid Waste|                YES|\n",
      "|     Clean and Green|Parks and Recreation|    Parks & Recreation|                YES|\n",
      "|Clean and Green N...|Parks and Recreation|    Parks & Recreation|                YES|\n",
      "|    Code Enforcement|Code Enforcement ...|  DSD/Code Enforcement|                YES|\n",
      "|Code Enforcement ...|Code Enforcement ...|  DSD/Code Enforcement|                YES|\n",
      "|Code Enforcement ...|               Other|  DSD/Code Enforcement|                YES|\n",
      "|   Dangerous Premise|Code Enforcement ...|  DSD/Code Enforcement|                YES|\n",
      "|Dangerous Premise...|Code Enforcement ...|  DSD/Code Enforcement|                YES|\n",
      "|Director's Office...|Trans & Cap Impro...|  Trans & Cap Impro...|                YES|\n",
      "|          District 1|        City Council|          City Council|                 NO|\n",
      "|         District 10|        City Council|          City Council|                 NO|\n",
      "|          District 2|        City Council|          City Council|                 NO|\n",
      "|          District 3|        City Council|          City Council|                 NO|\n",
      "|          District 6|        City Council|          City Council|                 NO|\n",
      "|          District 7|        City Council|          City Council|                 NO|\n",
      "|          District 8|        City Council|          City Council|                 NO|\n",
      "|          District 9|        City Council|          City Council|                 NO|\n",
      "|Engineering Division|Development Services|  DSD/Code Enforcement|                YES|\n",
      "|    Facility License|        Metro Health|          Metro Health|                YES|\n",
      "+--------------------+--------------------+----------------------+-------------------+\n",
      "only showing top 20 rows\n",
      "\n"
     ]
    }
   ],
   "source": [
    "df = df.na.fill('Other', ['dept_name']).show()"
   ]
  },
  {
   "cell_type": "markdown",
   "metadata": {},
   "source": [
    "## Part 2"
   ]
  },
  {
   "cell_type": "markdown",
   "metadata": {},
   "source": [
    "    1. Convert the council_district column to a string column.\n",
    "    2. Extract the year from the case_closed_date column.\n",
    "    3. Convert num_days_late from days to hours in new columns num_hours_late.\n",
    "    4. Convert the case_late column to a boolean column.\n",
    "    5. Convert the SLA_days columns to a double column.\n",
    "    6. Pull it all together"
   ]
  },
  {
   "cell_type": "code",
   "execution_count": 31,
   "metadata": {},
   "outputs": [],
   "source": [
    "df = spark.read.csv('./case.csv', header=True)"
   ]
  },
  {
   "cell_type": "markdown",
   "metadata": {},
   "source": [
    "Convert the council_district column to a string column."
   ]
  },
  {
   "cell_type": "code",
   "execution_count": 33,
   "metadata": {},
   "outputs": [
    {
     "data": {
      "text/plain": [
       "Column<b'CAST(council_district AS STRING)'>"
      ]
     },
     "execution_count": 33,
     "metadata": {},
     "output_type": "execute_result"
    }
   ],
   "source": [
    "df.council_district.cast('string')"
   ]
  },
  {
   "cell_type": "code",
   "execution_count": 34,
   "metadata": {},
   "outputs": [
    {
     "data": {
      "text/plain": [
       "[('case_id', 'string'),\n",
       " ('case_opened_date', 'string'),\n",
       " ('case_closed_date', 'string'),\n",
       " ('SLA_due_date', 'string'),\n",
       " ('case_late', 'string'),\n",
       " ('num_days_late', 'string'),\n",
       " ('case_closed', 'string'),\n",
       " ('dept_division', 'string'),\n",
       " ('service_request_type', 'string'),\n",
       " ('SLA_days', 'string'),\n",
       " ('case_status', 'string'),\n",
       " ('source_id', 'string'),\n",
       " ('request_address', 'string'),\n",
       " ('council_district', 'string')]"
      ]
     },
     "execution_count": 34,
     "metadata": {},
     "output_type": "execute_result"
    }
   ],
   "source": [
    "df.dtypes"
   ]
  },
  {
   "cell_type": "code",
   "execution_count": 35,
   "metadata": {},
   "outputs": [
    {
     "name": "stdout",
     "output_type": "stream",
     "text": [
      "+----------+----------------+----------------+------------+---------+-------------------+-----------+----------------+--------------------+------------------+-----------+---------+--------------------+----------------+\n",
      "|   case_id|case_opened_date|case_closed_date|SLA_due_date|case_late|      num_days_late|case_closed|   dept_division|service_request_type|          SLA_days|case_status|source_id|     request_address|council_district|\n",
      "+----------+----------------+----------------+------------+---------+-------------------+-----------+----------------+--------------------+------------------+-----------+---------+--------------------+----------------+\n",
      "|1014127332|     1/1/18 0:42|    1/1/18 12:29|9/26/20 0:42|       NO| -998.5087616000001|        YES|Field Operations|        Stray Animal|             999.0|     Closed| svcCRMLS|2315  EL PASO ST,...|               5|\n",
      "|1014127333|     1/1/18 0:46|     1/3/18 8:11| 1/5/18 8:30|       NO|-2.0126041669999997|        YES|     Storm Water|Removal Of Obstru...|       4.322222222|     Closed| svcCRMSS|2215  GOLIAD RD, ...|               3|\n",
      "|1014127334|     1/1/18 0:48|     1/2/18 7:57| 1/5/18 8:30|       NO|       -3.022337963|        YES|     Storm Water|Removal Of Obstru...|       4.320729167|     Closed| svcCRMSS|102  PALFREY ST W...|               3|\n",
      "|1014127335|     1/1/18 1:29|     1/2/18 8:13|1/17/18 8:30|       NO|       -15.01148148|        YES|Code Enforcement|Front Or Side Yar...|       16.29188657|     Closed| svcCRMSS|114  LA GARDE ST,...|               3|\n",
      "|1014127336|     1/1/18 1:34|    1/1/18 13:29| 1/1/18 4:34|      YES|0.37216435200000003|        YES|Field Operations|Animal Cruelty(Cr...|             0.125|     Closed| svcCRMSS|734  CLEARVIEW DR...|               7|\n",
      "|1014127337|     1/1/18 6:28|    1/1/18 14:38|1/31/18 8:30|       NO|       -29.74398148|        YES|         Signals|Traffic Signal Op...|       30.08446759|     Closed| svcCRMSS|BANDERA RD and BR...|               7|\n",
      "|1014127338|     1/1/18 6:57|    1/2/18 15:32|1/17/18 8:30|       NO|       -14.70673611|        YES|Code Enforcement|Front Or Side Yar...|       16.06429398|     Closed| svcCRMSS|10133  FIGARO CAN...|               4|\n",
      "|1014127339|     1/1/18 6:58|    1/2/18 15:32|1/17/18 8:30|       NO|       -14.70662037|        YES|Code Enforcement|Front Or Side Yar...|16.063796300000003|     Closed| svcCRMSS|10133  FIGARO CAN...|               4|\n",
      "|1014127340|     1/1/18 6:58|    1/2/18 15:32|1/17/18 8:30|       NO|       -14.70662037|        YES|Code Enforcement|Right Of Way/Side...|       16.06333333|     Closed| svcCRMSS|10133  FIGARO CAN...|               4|\n",
      "|1014127341|     1/1/18 6:59|    1/2/18 15:32|1/17/18 8:30|       NO|       -14.70649306|        YES|Code Enforcement|Front Or Side Yar...|        16.0628588|     Closed| svcCRMSS|10133  FIGARO CAN...|               4|\n",
      "|1014127342|     1/1/18 7:00|    1/2/18 15:32|1/17/18 8:30|       NO|       -14.70649306|        YES|Code Enforcement|Front Or Side Yar...|       16.06237269|     Closed| svcCRMSS|10133  FIGARO CAN...|               4|\n",
      "|1014127343|     1/1/18 7:02|    1/2/18 15:32|1/17/18 8:30|       NO|       -14.70636574|        YES|Code Enforcement|Right Of Way/Side...|       16.06104167|     Closed| svcCRMSS|10133  FIGARO CAN...|               4|\n",
      "|1014127344|     1/1/18 7:02|    1/2/18 15:33|1/17/18 8:30|       NO|          -14.70625|        YES|Code Enforcement|Front Or Side Yar...|       16.06059028|     Closed| svcCRMSS|10129  BOXING PAS...|               4|\n",
      "|1014127345|     1/1/18 7:03|    1/2/18 15:32|1/17/18 8:30|       NO|       -14.70636574|        YES|Code Enforcement|Front Or Side Yar...|       16.06011574|     Closed| svcCRMSS|10129  BOXING PAS...|               4|\n",
      "|1014127346|     1/1/18 7:04|    1/2/18 15:33|1/17/18 8:30|       NO|       -14.70623843|        YES|Code Enforcement|Right Of Way/Side...|       16.05953704|     Closed| svcCRMSS|10129  BOXING PAS...|               4|\n",
      "|1014127347|     1/1/18 7:04|    1/2/18 15:33|1/17/18 8:30|       NO|-14.705891199999998|        YES|Code Enforcement|Front Or Side Yar...|       16.05907407|     Closed| svcCRMSS|834  BARREL POINT...|               4|\n",
      "|1014127348|     1/1/18 7:05|    1/2/18 15:33|1/17/18 8:30|       NO|       -14.70600694|        YES|Code Enforcement|Front Or Side Yar...|       16.05864583|     Closed| svcCRMSS|834  BARREL POINT...|               4|\n",
      "|1014127349|     1/1/18 7:06|    1/2/18 15:33|1/17/18 8:30|       NO|       -14.70576389|        YES|Code Enforcement|Right Of Way/Side...|       16.05819444|     Closed| svcCRMSS|834  BARREL POINT...|               4|\n",
      "|1014127350|     1/1/18 7:06|    1/2/18 15:33|1/17/18 8:30|       NO|       -14.70576389|        YES|Code Enforcement|Front Or Side Yar...|       16.05775463|     Closed| svcCRMSS|834  BARREL POINT...|               4|\n",
      "|1014127351|     1/1/18 7:07|    1/2/18 15:33|1/17/18 8:30|       NO|       -14.70564815|        YES|Code Enforcement|Front Or Side Yar...|       16.05733796|     Closed| svcCRMSS|834  BARREL POINT...|               4|\n",
      "+----------+----------------+----------------+------------+---------+-------------------+-----------+----------------+--------------------+------------------+-----------+---------+--------------------+----------------+\n",
      "only showing top 20 rows\n",
      "\n"
     ]
    }
   ],
   "source": [
    "df.show()"
   ]
  },
  {
   "cell_type": "code",
   "execution_count": 37,
   "metadata": {},
   "outputs": [],
   "source": [
    "from pyspark.sql.functions import *\n",
    "import pyspark.sql.functions as F"
   ]
  },
  {
   "cell_type": "markdown",
   "metadata": {},
   "source": [
    "Extract the year from the case_closed_date column."
   ]
  },
  {
   "cell_type": "code",
   "execution_count": 65,
   "metadata": {},
   "outputs": [],
   "source": [
    "df_time = df.select(to_timestamp(df.case_closed_date, 'M/d/y H:mm').cast('string').alias('time'))"
   ]
  },
  {
   "cell_type": "code",
   "execution_count": 67,
   "metadata": {},
   "outputs": [
    {
     "name": "stdout",
     "output_type": "stream",
     "text": [
      "+-------------------+---------------------+\n",
      "|               time|substring(time, 0, 4)|\n",
      "+-------------------+---------------------+\n",
      "|2018-01-01 12:29:00|                 2018|\n",
      "|2018-01-03 08:11:00|                 2018|\n",
      "|2018-01-02 07:57:00|                 2018|\n",
      "|2018-01-02 08:13:00|                 2018|\n",
      "|2018-01-01 13:29:00|                 2018|\n",
      "|2018-01-01 14:38:00|                 2018|\n",
      "|2018-01-02 15:32:00|                 2018|\n",
      "|2018-01-02 15:32:00|                 2018|\n",
      "|2018-01-02 15:32:00|                 2018|\n",
      "|2018-01-02 15:32:00|                 2018|\n",
      "|2018-01-02 15:32:00|                 2018|\n",
      "|2018-01-02 15:32:00|                 2018|\n",
      "|2018-01-02 15:33:00|                 2018|\n",
      "|2018-01-02 15:32:00|                 2018|\n",
      "|2018-01-02 15:33:00|                 2018|\n",
      "|2018-01-02 15:33:00|                 2018|\n",
      "|2018-01-02 15:33:00|                 2018|\n",
      "|2018-01-02 15:33:00|                 2018|\n",
      "|2018-01-02 15:33:00|                 2018|\n",
      "|2018-01-02 15:33:00|                 2018|\n",
      "+-------------------+---------------------+\n",
      "only showing top 20 rows\n",
      "\n"
     ]
    }
   ],
   "source": [
    "df_time.select(df_time.time, substring(df_time.time, 0,4)).show()"
   ]
  },
  {
   "cell_type": "markdown",
   "metadata": {},
   "source": [
    "Convert num_days_late from days to hours in new columns num_hours_late."
   ]
  },
  {
   "cell_type": "code",
   "execution_count": 70,
   "metadata": {},
   "outputs": [
    {
     "name": "stdout",
     "output_type": "stream",
     "text": [
      "+----------+----------------+----------------+------------+---------+-------------------+-----------+----------------+--------------------+------------------+-----------+---------+--------------------+----------------+-------------------+\n",
      "|   case_id|case_opened_date|case_closed_date|SLA_due_date|case_late|      num_days_late|case_closed|   dept_division|service_request_type|          SLA_days|case_status|source_id|     request_address|council_district|     num_hours_late|\n",
      "+----------+----------------+----------------+------------+---------+-------------------+-----------+----------------+--------------------+------------------+-----------+---------+--------------------+----------------+-------------------+\n",
      "|1014127332|     1/1/18 0:42|    1/1/18 12:29|9/26/20 0:42|       NO| -998.5087616000001|        YES|Field Operations|        Stray Animal|             999.0|     Closed| svcCRMLS|2315  EL PASO ST,...|               5|     -23964.2102784|\n",
      "|1014127333|     1/1/18 0:46|     1/3/18 8:11| 1/5/18 8:30|       NO|-2.0126041669999997|        YES|     Storm Water|Removal Of Obstru...|       4.322222222|     Closed| svcCRMSS|2215  GOLIAD RD, ...|               3|-48.302500007999996|\n",
      "|1014127334|     1/1/18 0:48|     1/2/18 7:57| 1/5/18 8:30|       NO|       -3.022337963|        YES|     Storm Water|Removal Of Obstru...|       4.320729167|     Closed| svcCRMSS|102  PALFREY ST W...|               3|      -72.536111112|\n",
      "|1014127335|     1/1/18 1:29|     1/2/18 8:13|1/17/18 8:30|       NO|       -15.01148148|        YES|Code Enforcement|Front Or Side Yar...|       16.29188657|     Closed| svcCRMSS|114  LA GARDE ST,...|               3|      -360.27555552|\n",
      "|1014127336|     1/1/18 1:34|    1/1/18 13:29| 1/1/18 4:34|      YES|0.37216435200000003|        YES|Field Operations|Animal Cruelty(Cr...|             0.125|     Closed| svcCRMSS|734  CLEARVIEW DR...|               7|  8.931944448000001|\n",
      "|1014127337|     1/1/18 6:28|    1/1/18 14:38|1/31/18 8:30|       NO|       -29.74398148|        YES|         Signals|Traffic Signal Op...|       30.08446759|     Closed| svcCRMSS|BANDERA RD and BR...|               7| -713.8555555199999|\n",
      "|1014127338|     1/1/18 6:57|    1/2/18 15:32|1/17/18 8:30|       NO|       -14.70673611|        YES|Code Enforcement|Front Or Side Yar...|       16.06429398|     Closed| svcCRMSS|10133  FIGARO CAN...|               4|      -352.96166664|\n",
      "|1014127339|     1/1/18 6:58|    1/2/18 15:32|1/17/18 8:30|       NO|       -14.70662037|        YES|Code Enforcement|Front Or Side Yar...|16.063796300000003|     Closed| svcCRMSS|10133  FIGARO CAN...|               4|      -352.95888888|\n",
      "|1014127340|     1/1/18 6:58|    1/2/18 15:32|1/17/18 8:30|       NO|       -14.70662037|        YES|Code Enforcement|Right Of Way/Side...|       16.06333333|     Closed| svcCRMSS|10133  FIGARO CAN...|               4|      -352.95888888|\n",
      "|1014127341|     1/1/18 6:59|    1/2/18 15:32|1/17/18 8:30|       NO|       -14.70649306|        YES|Code Enforcement|Front Or Side Yar...|        16.0628588|     Closed| svcCRMSS|10133  FIGARO CAN...|               4|      -352.95583344|\n",
      "|1014127342|     1/1/18 7:00|    1/2/18 15:32|1/17/18 8:30|       NO|       -14.70649306|        YES|Code Enforcement|Front Or Side Yar...|       16.06237269|     Closed| svcCRMSS|10133  FIGARO CAN...|               4|      -352.95583344|\n",
      "|1014127343|     1/1/18 7:02|    1/2/18 15:32|1/17/18 8:30|       NO|       -14.70636574|        YES|Code Enforcement|Right Of Way/Side...|       16.06104167|     Closed| svcCRMSS|10133  FIGARO CAN...|               4|      -352.95277776|\n",
      "|1014127344|     1/1/18 7:02|    1/2/18 15:33|1/17/18 8:30|       NO|          -14.70625|        YES|Code Enforcement|Front Or Side Yar...|       16.06059028|     Closed| svcCRMSS|10129  BOXING PAS...|               4|-352.95000000000005|\n",
      "|1014127345|     1/1/18 7:03|    1/2/18 15:32|1/17/18 8:30|       NO|       -14.70636574|        YES|Code Enforcement|Front Or Side Yar...|       16.06011574|     Closed| svcCRMSS|10129  BOXING PAS...|               4|      -352.95277776|\n",
      "|1014127346|     1/1/18 7:04|    1/2/18 15:33|1/17/18 8:30|       NO|       -14.70623843|        YES|Code Enforcement|Right Of Way/Side...|       16.05953704|     Closed| svcCRMSS|10129  BOXING PAS...|               4|-352.94972232000003|\n",
      "|1014127347|     1/1/18 7:04|    1/2/18 15:33|1/17/18 8:30|       NO|-14.705891199999998|        YES|Code Enforcement|Front Or Side Yar...|       16.05907407|     Closed| svcCRMSS|834  BARREL POINT...|               4|-352.94138879999997|\n",
      "|1014127348|     1/1/18 7:05|    1/2/18 15:33|1/17/18 8:30|       NO|       -14.70600694|        YES|Code Enforcement|Front Or Side Yar...|       16.05864583|     Closed| svcCRMSS|834  BARREL POINT...|               4|      -352.94416656|\n",
      "|1014127349|     1/1/18 7:06|    1/2/18 15:33|1/17/18 8:30|       NO|       -14.70576389|        YES|Code Enforcement|Right Of Way/Side...|       16.05819444|     Closed| svcCRMSS|834  BARREL POINT...|               4|      -352.93833336|\n",
      "|1014127350|     1/1/18 7:06|    1/2/18 15:33|1/17/18 8:30|       NO|       -14.70576389|        YES|Code Enforcement|Front Or Side Yar...|       16.05775463|     Closed| svcCRMSS|834  BARREL POINT...|               4|      -352.93833336|\n",
      "|1014127351|     1/1/18 7:07|    1/2/18 15:33|1/17/18 8:30|       NO|       -14.70564815|        YES|Code Enforcement|Front Or Side Yar...|       16.05733796|     Closed| svcCRMSS|834  BARREL POINT...|               4|       -352.9355556|\n",
      "+----------+----------------+----------------+------------+---------+-------------------+-----------+----------------+--------------------+------------------+-----------+---------+--------------------+----------------+-------------------+\n",
      "only showing top 20 rows\n",
      "\n"
     ]
    }
   ],
   "source": [
    "df.withColumn('num_hours_late', df.num_days_late*24).show()"
   ]
  },
  {
   "cell_type": "markdown",
   "metadata": {},
   "source": [
    "Convert the case_late column to a boolean column."
   ]
  },
  {
   "cell_type": "code",
   "execution_count": 79,
   "metadata": {},
   "outputs": [
    {
     "name": "stdout",
     "output_type": "stream",
     "text": [
      "+----------+---------+\n",
      "|   case_id|case_late|\n",
      "+----------+---------+\n",
      "|1014127332|    false|\n",
      "|1014127333|    false|\n",
      "|1014127334|    false|\n",
      "|1014127335|    false|\n",
      "|1014127336|     true|\n",
      "|1014127337|    false|\n",
      "|1014127338|    false|\n",
      "|1014127339|    false|\n",
      "|1014127340|    false|\n",
      "|1014127341|    false|\n",
      "|1014127342|    false|\n",
      "|1014127343|    false|\n",
      "|1014127344|    false|\n",
      "|1014127345|    false|\n",
      "|1014127346|    false|\n",
      "|1014127347|    false|\n",
      "|1014127348|    false|\n",
      "|1014127349|    false|\n",
      "|1014127350|    false|\n",
      "|1014127351|    false|\n",
      "+----------+---------+\n",
      "only showing top 20 rows\n",
      "\n"
     ]
    }
   ],
   "source": [
    "df.select('case_id', 'case_late').withColumn('case_late', df.case_late.cast('boolean')).show()"
   ]
  },
  {
   "cell_type": "markdown",
   "metadata": {},
   "source": [
    "Convert the SLA_days columns to a double column."
   ]
  },
  {
   "cell_type": "code",
   "execution_count": 80,
   "metadata": {},
   "outputs": [
    {
     "name": "stdout",
     "output_type": "stream",
     "text": [
      "+------------------+\n",
      "|          SLA_days|\n",
      "+------------------+\n",
      "|             999.0|\n",
      "|       4.322222222|\n",
      "|       4.320729167|\n",
      "|       16.29188657|\n",
      "|             0.125|\n",
      "|       30.08446759|\n",
      "|       16.06429398|\n",
      "|16.063796300000003|\n",
      "|       16.06333333|\n",
      "|        16.0628588|\n",
      "|       16.06237269|\n",
      "|       16.06104167|\n",
      "|       16.06059028|\n",
      "|       16.06011574|\n",
      "|       16.05953704|\n",
      "|       16.05907407|\n",
      "|       16.05864583|\n",
      "|       16.05819444|\n",
      "|       16.05775463|\n",
      "|       16.05733796|\n",
      "+------------------+\n",
      "only showing top 20 rows\n",
      "\n"
     ]
    }
   ],
   "source": [
    "df.select('SLA_days').show()"
   ]
  },
  {
   "cell_type": "code",
   "execution_count": 82,
   "metadata": {},
   "outputs": [],
   "source": [
    "SLA_double = df.select('SLA_days').withColumn('SLA_days', df.SLA_days.cast('double'))"
   ]
  },
  {
   "cell_type": "code",
   "execution_count": 84,
   "metadata": {},
   "outputs": [
    {
     "data": {
      "text/plain": [
       "[('SLA_days', 'double')]"
      ]
     },
     "execution_count": 84,
     "metadata": {},
     "output_type": "execute_result"
    }
   ],
   "source": [
    "SLA_double.dtypes"
   ]
  },
  {
   "cell_type": "markdown",
   "metadata": {},
   "source": [
    "Pull it all together"
   ]
  },
  {
   "cell_type": "code",
   "execution_count": 85,
   "metadata": {},
   "outputs": [
    {
     "name": "stdout",
     "output_type": "stream",
     "text": [
      "+----------+----------------+----------------+------------+---------+-------------------+-----------+----------------+--------------------+------------------+-----------+---------+--------------------+----------------+-------------------+\n",
      "|   case_id|case_opened_date|case_closed_date|SLA_due_date|case_late|      num_days_late|case_closed|   dept_division|service_request_type|          SLA_days|case_status|source_id|     request_address|council_district|     num_hours_late|\n",
      "+----------+----------------+----------------+------------+---------+-------------------+-----------+----------------+--------------------+------------------+-----------+---------+--------------------+----------------+-------------------+\n",
      "|1014127332|     1/1/18 0:42|    1/1/18 12:29|9/26/20 0:42|    false| -998.5087616000001|        YES|Field Operations|        Stray Animal|             999.0|     Closed| svcCRMLS|2315  EL PASO ST,...|               5|     -23964.2102784|\n",
      "|1014127333|     1/1/18 0:46|     1/3/18 8:11| 1/5/18 8:30|    false|-2.0126041669999997|        YES|     Storm Water|Removal Of Obstru...|       4.322222222|     Closed| svcCRMSS|2215  GOLIAD RD, ...|               3|-48.302500007999996|\n",
      "|1014127334|     1/1/18 0:48|     1/2/18 7:57| 1/5/18 8:30|    false|       -3.022337963|        YES|     Storm Water|Removal Of Obstru...|       4.320729167|     Closed| svcCRMSS|102  PALFREY ST W...|               3|      -72.536111112|\n",
      "|1014127335|     1/1/18 1:29|     1/2/18 8:13|1/17/18 8:30|    false|       -15.01148148|        YES|Code Enforcement|Front Or Side Yar...|       16.29188657|     Closed| svcCRMSS|114  LA GARDE ST,...|               3|      -360.27555552|\n",
      "|1014127336|     1/1/18 1:34|    1/1/18 13:29| 1/1/18 4:34|     true|0.37216435200000003|        YES|Field Operations|Animal Cruelty(Cr...|             0.125|     Closed| svcCRMSS|734  CLEARVIEW DR...|               7|  8.931944448000001|\n",
      "|1014127337|     1/1/18 6:28|    1/1/18 14:38|1/31/18 8:30|    false|       -29.74398148|        YES|         Signals|Traffic Signal Op...|       30.08446759|     Closed| svcCRMSS|BANDERA RD and BR...|               7| -713.8555555199999|\n",
      "|1014127338|     1/1/18 6:57|    1/2/18 15:32|1/17/18 8:30|    false|       -14.70673611|        YES|Code Enforcement|Front Or Side Yar...|       16.06429398|     Closed| svcCRMSS|10133  FIGARO CAN...|               4|      -352.96166664|\n",
      "|1014127339|     1/1/18 6:58|    1/2/18 15:32|1/17/18 8:30|    false|       -14.70662037|        YES|Code Enforcement|Front Or Side Yar...|16.063796300000003|     Closed| svcCRMSS|10133  FIGARO CAN...|               4|      -352.95888888|\n",
      "|1014127340|     1/1/18 6:58|    1/2/18 15:32|1/17/18 8:30|    false|       -14.70662037|        YES|Code Enforcement|Right Of Way/Side...|       16.06333333|     Closed| svcCRMSS|10133  FIGARO CAN...|               4|      -352.95888888|\n",
      "|1014127341|     1/1/18 6:59|    1/2/18 15:32|1/17/18 8:30|    false|       -14.70649306|        YES|Code Enforcement|Front Or Side Yar...|        16.0628588|     Closed| svcCRMSS|10133  FIGARO CAN...|               4|      -352.95583344|\n",
      "|1014127342|     1/1/18 7:00|    1/2/18 15:32|1/17/18 8:30|    false|       -14.70649306|        YES|Code Enforcement|Front Or Side Yar...|       16.06237269|     Closed| svcCRMSS|10133  FIGARO CAN...|               4|      -352.95583344|\n",
      "|1014127343|     1/1/18 7:02|    1/2/18 15:32|1/17/18 8:30|    false|       -14.70636574|        YES|Code Enforcement|Right Of Way/Side...|       16.06104167|     Closed| svcCRMSS|10133  FIGARO CAN...|               4|      -352.95277776|\n",
      "|1014127344|     1/1/18 7:02|    1/2/18 15:33|1/17/18 8:30|    false|          -14.70625|        YES|Code Enforcement|Front Or Side Yar...|       16.06059028|     Closed| svcCRMSS|10129  BOXING PAS...|               4|-352.95000000000005|\n",
      "|1014127345|     1/1/18 7:03|    1/2/18 15:32|1/17/18 8:30|    false|       -14.70636574|        YES|Code Enforcement|Front Or Side Yar...|       16.06011574|     Closed| svcCRMSS|10129  BOXING PAS...|               4|      -352.95277776|\n",
      "|1014127346|     1/1/18 7:04|    1/2/18 15:33|1/17/18 8:30|    false|       -14.70623843|        YES|Code Enforcement|Right Of Way/Side...|       16.05953704|     Closed| svcCRMSS|10129  BOXING PAS...|               4|-352.94972232000003|\n",
      "|1014127347|     1/1/18 7:04|    1/2/18 15:33|1/17/18 8:30|    false|-14.705891199999998|        YES|Code Enforcement|Front Or Side Yar...|       16.05907407|     Closed| svcCRMSS|834  BARREL POINT...|               4|-352.94138879999997|\n",
      "|1014127348|     1/1/18 7:05|    1/2/18 15:33|1/17/18 8:30|    false|       -14.70600694|        YES|Code Enforcement|Front Or Side Yar...|       16.05864583|     Closed| svcCRMSS|834  BARREL POINT...|               4|      -352.94416656|\n",
      "|1014127349|     1/1/18 7:06|    1/2/18 15:33|1/17/18 8:30|    false|       -14.70576389|        YES|Code Enforcement|Right Of Way/Side...|       16.05819444|     Closed| svcCRMSS|834  BARREL POINT...|               4|      -352.93833336|\n",
      "|1014127350|     1/1/18 7:06|    1/2/18 15:33|1/17/18 8:30|    false|       -14.70576389|        YES|Code Enforcement|Front Or Side Yar...|       16.05775463|     Closed| svcCRMSS|834  BARREL POINT...|               4|      -352.93833336|\n",
      "|1014127351|     1/1/18 7:07|    1/2/18 15:33|1/17/18 8:30|    false|       -14.70564815|        YES|Code Enforcement|Front Or Side Yar...|       16.05733796|     Closed| svcCRMSS|834  BARREL POINT...|               4|       -352.9355556|\n",
      "+----------+----------------+----------------+------------+---------+-------------------+-----------+----------------+--------------------+------------------+-----------+---------+--------------------+----------------+-------------------+\n",
      "only showing top 20 rows\n",
      "\n"
     ]
    }
   ],
   "source": [
    "(df\n",
    " .withColumn('num_hours_late', df.num_days_late*24)\n",
    " .withColumn('case_late', df.case_late.cast('boolean'))\n",
    " .withColumn('SLA_days', df.SLA_days.cast('double'))\n",
    " .show())"
   ]
  },
  {
   "cell_type": "markdown",
   "metadata": {},
   "source": [
    "## Part 3"
   ]
  },
  {
   "cell_type": "code",
   "execution_count": null,
   "metadata": {},
   "outputs": [],
   "source": []
  }
 ],
 "metadata": {
  "kernelspec": {
   "display_name": "Python 3",
   "language": "python",
   "name": "python3"
  },
  "language_info": {
   "codemirror_mode": {
    "name": "ipython",
    "version": 3
   },
   "file_extension": ".py",
   "mimetype": "text/x-python",
   "name": "python",
   "nbconvert_exporter": "python",
   "pygments_lexer": "ipython3",
   "version": "3.7.1"
  }
 },
 "nbformat": 4,
 "nbformat_minor": 2
}
