{
 "cells": [
  {
   "cell_type": "markdown",
   "metadata": {},
   "source": [
    "    Create a SparkSession that connects to Spark in local mode. Configure the SparkSession to use two cores.\n",
    "    Using the example from the lesson, create a spark data frame that contains your favorite programming languages. The name of the column should be language.\n",
    "    Print the schema of the dataframe\n",
    "    View the dataframe\n",
    "    Count the number of records using .count"
   ]
  },
  {
   "cell_type": "code",
   "execution_count": 1,
   "metadata": {},
   "outputs": [],
   "source": [
    "from pyspark.sql import SparkSession\n",
    "\n",
    "spark = SparkSession.builder.master(\"local[2]\").appName(\"mylocalconnection\").getOrCreate()"
   ]
  },
  {
   "cell_type": "code",
   "execution_count": 2,
   "metadata": {},
   "outputs": [],
   "source": [
    "language = spark.createDataFrame([(\"Python\", ), (\"Java\", ), (\"C++\", ), (\"HTML\", ), (\"Javascript\", )], schema=['language'])\n"
   ]
  },
  {
   "cell_type": "code",
   "execution_count": 3,
   "metadata": {},
   "outputs": [
    {
     "data": {
      "text/plain": [
       "DataFrame[language: string]"
      ]
     },
     "execution_count": 3,
     "metadata": {},
     "output_type": "execute_result"
    }
   ],
   "source": [
    "language"
   ]
  },
  {
   "cell_type": "code",
   "execution_count": 4,
   "metadata": {},
   "outputs": [
    {
     "name": "stdout",
     "output_type": "stream",
     "text": [
      "root\n",
      " |-- language: string (nullable = true)\n",
      "\n"
     ]
    }
   ],
   "source": [
    "language.printSchema()"
   ]
  },
  {
   "cell_type": "code",
   "execution_count": 5,
   "metadata": {},
   "outputs": [
    {
     "name": "stdout",
     "output_type": "stream",
     "text": [
      "+----------+\n",
      "|  language|\n",
      "+----------+\n",
      "|    Python|\n",
      "|      Java|\n",
      "|       C++|\n",
      "|      HTML|\n",
      "|Javascript|\n",
      "+----------+\n",
      "\n"
     ]
    }
   ],
   "source": [
    "language.show()"
   ]
  },
  {
   "cell_type": "code",
   "execution_count": 6,
   "metadata": {},
   "outputs": [
    {
     "data": {
      "text/plain": [
       "5"
      ]
     },
     "execution_count": 6,
     "metadata": {},
     "output_type": "execute_result"
    }
   ],
   "source": [
    "language.count()"
   ]
  },
  {
   "cell_type": "code",
   "execution_count": 7,
   "metadata": {},
   "outputs": [
    {
     "data": {
      "text/html": [
       "\n",
       "            <div>\n",
       "                <p><b>SparkSession - in-memory</b></p>\n",
       "                \n",
       "        <div>\n",
       "            <p><b>SparkContext</b></p>\n",
       "\n",
       "            <p><a href=\"http://10.10.10.237:4040\">Spark UI</a></p>\n",
       "\n",
       "            <dl>\n",
       "              <dt>Version</dt>\n",
       "                <dd><code>v2.4.1</code></dd>\n",
       "              <dt>Master</dt>\n",
       "                <dd><code>local[2]</code></dd>\n",
       "              <dt>AppName</dt>\n",
       "                <dd><code>mylocalconnection</code></dd>\n",
       "            </dl>\n",
       "        </div>\n",
       "        \n",
       "            </div>\n",
       "        "
      ],
      "text/plain": [
       "<pyspark.sql.session.SparkSession at 0x11fc67b70>"
      ]
     },
     "execution_count": 7,
     "metadata": {},
     "output_type": "execute_result"
    }
   ],
   "source": [
    "spark"
   ]
  },
  {
   "cell_type": "code",
   "execution_count": 8,
   "metadata": {},
   "outputs": [],
   "source": [
    "import pandas as pd\n",
    "import numpy as np\n",
    "\n",
    "pandas_dataframe = pd.DataFrame(dict(n=np.arange(100), group=np.random.choice(list('abc'), 100)))"
   ]
  },
  {
   "cell_type": "code",
   "execution_count": 9,
   "metadata": {},
   "outputs": [],
   "source": [
    "df = spark.createDataFrame(pandas_dataframe)"
   ]
  },
  {
   "cell_type": "code",
   "execution_count": 10,
   "metadata": {},
   "outputs": [
    {
     "name": "stdout",
     "output_type": "stream",
     "text": [
      "+---+-----+\n",
      "|  n|group|\n",
      "+---+-----+\n",
      "|  0|    b|\n",
      "|  1|    c|\n",
      "|  2|    c|\n",
      "|  3|    b|\n",
      "|  4|    a|\n",
      "|  5|    b|\n",
      "|  6|    a|\n",
      "|  7|    b|\n",
      "|  8|    a|\n",
      "|  9|    a|\n",
      "| 10|    a|\n",
      "| 11|    c|\n",
      "| 12|    c|\n",
      "| 13|    b|\n",
      "| 14|    c|\n",
      "| 15|    c|\n",
      "| 16|    b|\n",
      "| 17|    b|\n",
      "| 18|    a|\n",
      "| 19|    a|\n",
      "+---+-----+\n",
      "only showing top 20 rows\n",
      "\n"
     ]
    }
   ],
   "source": [
    "df.show()"
   ]
  },
  {
   "cell_type": "code",
   "execution_count": 11,
   "metadata": {},
   "outputs": [],
   "source": [
    "#create temp sql-like table\n",
    "df.createOrReplaceTempView('numbers')"
   ]
  },
  {
   "cell_type": "code",
   "execution_count": 12,
   "metadata": {},
   "outputs": [
    {
     "name": "stdout",
     "output_type": "stream",
     "text": [
      "+---+-----+\n",
      "|  n|group|\n",
      "+---+-----+\n",
      "|  0|    b|\n",
      "|  1|    c|\n",
      "|  2|    c|\n",
      "|  3|    b|\n",
      "|  4|    a|\n",
      "|  5|    b|\n",
      "|  6|    a|\n",
      "|  7|    b|\n",
      "|  8|    a|\n",
      "|  9|    a|\n",
      "| 10|    a|\n",
      "| 11|    c|\n",
      "| 12|    c|\n",
      "| 13|    b|\n",
      "| 14|    c|\n",
      "| 15|    c|\n",
      "| 16|    b|\n",
      "| 17|    b|\n",
      "| 18|    a|\n",
      "| 19|    a|\n",
      "+---+-----+\n",
      "only showing top 20 rows\n",
      "\n"
     ]
    }
   ],
   "source": [
    "#use sql queries on temp table\n",
    "spark.sql('''\n",
    "SELECT * FROM numbers\n",
    "''').show()"
   ]
  },
  {
   "cell_type": "code",
   "execution_count": 13,
   "metadata": {},
   "outputs": [],
   "source": [
    "another_pandas_df = spark.sql('''\n",
    "SELECT avg(n) as mean\n",
    "FROM numbers\n",
    "GROUP BY group\n",
    "''').toPandas()"
   ]
  },
  {
   "cell_type": "code",
   "execution_count": 14,
   "metadata": {},
   "outputs": [
    {
     "data": {
      "text/html": [
       "<div>\n",
       "<style scoped>\n",
       "    .dataframe tbody tr th:only-of-type {\n",
       "        vertical-align: middle;\n",
       "    }\n",
       "\n",
       "    .dataframe tbody tr th {\n",
       "        vertical-align: top;\n",
       "    }\n",
       "\n",
       "    .dataframe thead th {\n",
       "        text-align: right;\n",
       "    }\n",
       "</style>\n",
       "<table border=\"1\" class=\"dataframe\">\n",
       "  <thead>\n",
       "    <tr style=\"text-align: right;\">\n",
       "      <th></th>\n",
       "      <th>mean</th>\n",
       "    </tr>\n",
       "  </thead>\n",
       "  <tbody>\n",
       "    <tr>\n",
       "      <th>0</th>\n",
       "      <td>43.481481</td>\n",
       "    </tr>\n",
       "    <tr>\n",
       "      <th>1</th>\n",
       "      <td>49.290323</td>\n",
       "    </tr>\n",
       "    <tr>\n",
       "      <th>2</th>\n",
       "      <td>53.523810</td>\n",
       "    </tr>\n",
       "  </tbody>\n",
       "</table>\n",
       "</div>"
      ],
      "text/plain": [
       "        mean\n",
       "0  43.481481\n",
       "1  49.290323\n",
       "2  53.523810"
      ]
     },
     "execution_count": 14,
     "metadata": {},
     "output_type": "execute_result"
    }
   ],
   "source": [
    "another_pandas_df"
   ]
  },
  {
   "cell_type": "code",
   "execution_count": 15,
   "metadata": {},
   "outputs": [
    {
     "name": "stdout",
     "output_type": "stream",
     "text": [
      "+-----+------------------+\n",
      "|group|            avg(n)|\n",
      "+-----+------------------+\n",
      "|    c| 43.48148148148148|\n",
      "|    b| 49.29032258064516|\n",
      "|    a|53.523809523809526|\n",
      "+-----+------------------+\n",
      "\n"
     ]
    }
   ],
   "source": [
    "from pyspark.sql.functions import expr, avg\n",
    "\n",
    "df.groupBy('group').agg(expr('avg(n)')).show()"
   ]
  },
  {
   "cell_type": "code",
   "execution_count": 16,
   "metadata": {},
   "outputs": [
    {
     "name": "stdout",
     "output_type": "stream",
     "text": [
      "+-----+------------------+\n",
      "|group|            avg(n)|\n",
      "+-----+------------------+\n",
      "|    c| 43.48148148148148|\n",
      "|    b| 49.29032258064516|\n",
      "|    a|53.523809523809526|\n",
      "+-----+------------------+\n",
      "\n"
     ]
    }
   ],
   "source": [
    "df.groupBy(df.group).agg(avg(df.n)).show()"
   ]
  },
  {
   "cell_type": "code",
   "execution_count": 17,
   "metadata": {},
   "outputs": [],
   "source": [
    "df2 = df.select('n', expr('n + 1 as incremented'))"
   ]
  },
  {
   "cell_type": "code",
   "execution_count": 18,
   "metadata": {},
   "outputs": [
    {
     "name": "stdout",
     "output_type": "stream",
     "text": [
      "== Physical Plan ==\n",
      "*(2) HashAggregate(keys=[], functions=[sum(x#76)])\n",
      "+- Exchange SinglePartition\n",
      "   +- *(1) HashAggregate(keys=[], functions=[partial_sum(x#76)])\n",
      "      +- *(1) Project [(cast((n#12L + 1) as double) / 2.0) AS x#76]\n",
      "         +- Scan ExistingRDD[n#12L,group#13]\n"
     ]
    }
   ],
   "source": [
    "df2.select(expr('incremented / 2 as x')).agg(expr('sum(x)')).explain()"
   ]
  },
  {
   "cell_type": "code",
   "execution_count": 19,
   "metadata": {},
   "outputs": [
    {
     "name": "stdout",
     "output_type": "stream",
     "text": [
      "+---+-----------+\n",
      "|  n|incremented|\n",
      "+---+-----------+\n",
      "|  0|          1|\n",
      "|  1|          2|\n",
      "|  2|          3|\n",
      "|  3|          4|\n",
      "|  4|          5|\n",
      "|  5|          6|\n",
      "|  6|          7|\n",
      "|  7|          8|\n",
      "|  8|          9|\n",
      "|  9|         10|\n",
      "| 10|         11|\n",
      "| 11|         12|\n",
      "| 12|         13|\n",
      "| 13|         14|\n",
      "| 14|         15|\n",
      "| 15|         16|\n",
      "| 16|         17|\n",
      "| 17|         18|\n",
      "| 18|         19|\n",
      "| 19|         20|\n",
      "+---+-----------+\n",
      "only showing top 20 rows\n",
      "\n"
     ]
    }
   ],
   "source": [
    "#alternative way\n",
    "df.select(df.n, (df.n + 1).alias('incremented')).show()"
   ]
  },
  {
   "cell_type": "code",
   "execution_count": 22,
   "metadata": {},
   "outputs": [
    {
     "name": "stdout",
     "output_type": "stream",
     "text": [
      "+---+-----+\n",
      "|  n|group|\n",
      "+---+-----+\n",
      "|  0|    b|\n",
      "|  1|    c|\n",
      "|  2|    c|\n",
      "|  3|    b|\n",
      "|  4|    a|\n",
      "|  5|    b|\n",
      "|  6|    a|\n",
      "|  7|    b|\n",
      "|  8|    a|\n",
      "|  9|    a|\n",
      "| 10|    a|\n",
      "| 11|    c|\n",
      "| 12|    c|\n",
      "| 13|    b|\n",
      "| 14|    c|\n",
      "| 15|    c|\n",
      "| 16|    b|\n",
      "| 17|    b|\n",
      "| 18|    a|\n",
      "| 19|    a|\n",
      "+---+-----+\n",
      "only showing top 20 rows\n",
      "\n"
     ]
    }
   ],
   "source": [
    "#selecting columns by string\n",
    "df.select('n', 'group').show()"
   ]
  },
  {
   "cell_type": "code",
   "execution_count": 25,
   "metadata": {},
   "outputs": [
    {
     "name": "stdout",
     "output_type": "stream",
     "text": [
      "+-----+---+\n",
      "|group|  n|\n",
      "+-----+---+\n",
      "|    b|  0|\n",
      "|    c|  1|\n",
      "|    c|  2|\n",
      "|    b|  3|\n",
      "|    a|  4|\n",
      "|    b|  5|\n",
      "|    a|  6|\n",
      "|    b|  7|\n",
      "|    a|  8|\n",
      "|    a|  9|\n",
      "|    a| 10|\n",
      "|    c| 11|\n",
      "|    c| 12|\n",
      "|    b| 13|\n",
      "|    c| 14|\n",
      "|    c| 15|\n",
      "|    b| 16|\n",
      "|    b| 17|\n",
      "|    a| 18|\n",
      "|    a| 19|\n",
      "+-----+---+\n",
      "only showing top 20 rows\n",
      "\n"
     ]
    }
   ],
   "source": [
    "#alternate way\n",
    "#df.group is a column object and more can be done with this\n",
    "df.select(df.group, df.n).show()"
   ]
  },
  {
   "cell_type": "code",
   "execution_count": 26,
   "metadata": {},
   "outputs": [
    {
     "name": "stdout",
     "output_type": "stream",
     "text": [
      "+-------+\n",
      "|(n + 1)|\n",
      "+-------+\n",
      "|      1|\n",
      "|      2|\n",
      "|      3|\n",
      "|      4|\n",
      "|      5|\n",
      "|      6|\n",
      "|      7|\n",
      "|      8|\n",
      "|      9|\n",
      "|     10|\n",
      "|     11|\n",
      "|     12|\n",
      "|     13|\n",
      "|     14|\n",
      "|     15|\n",
      "|     16|\n",
      "|     17|\n",
      "|     18|\n",
      "|     19|\n",
      "|     20|\n",
      "+-------+\n",
      "only showing top 20 rows\n",
      "\n"
     ]
    }
   ],
   "source": [
    "#column representing a transformation\n",
    "df.select(df.n+1).show()"
   ]
  },
  {
   "cell_type": "code",
   "execution_count": 27,
   "metadata": {},
   "outputs": [],
   "source": [
    "from pyspark.sql.functions import col, column, expr\n",
    "#col and column to the exact same thing"
   ]
  },
  {
   "cell_type": "code",
   "execution_count": 28,
   "metadata": {},
   "outputs": [
    {
     "name": "stdout",
     "output_type": "stream",
     "text": [
      "+--------------+\n",
      "|((n + 16) * 3)|\n",
      "+--------------+\n",
      "|            48|\n",
      "|            51|\n",
      "|            54|\n",
      "|            57|\n",
      "|            60|\n",
      "|            63|\n",
      "|            66|\n",
      "|            69|\n",
      "|            72|\n",
      "|            75|\n",
      "|            78|\n",
      "|            81|\n",
      "|            84|\n",
      "|            87|\n",
      "|            90|\n",
      "|            93|\n",
      "|            96|\n",
      "|            99|\n",
      "|           102|\n",
      "|           105|\n",
      "+--------------+\n",
      "only showing top 20 rows\n",
      "\n"
     ]
    }
   ],
   "source": [
    "#col function\n",
    "my_column = (col('n') + 16)*3\n",
    "\n",
    "df.select(my_column).show()"
   ]
  },
  {
   "cell_type": "code",
   "execution_count": 29,
   "metadata": {},
   "outputs": [
    {
     "name": "stdout",
     "output_type": "stream",
     "text": [
      "+--------+\n",
      "|quantity|\n",
      "+--------+\n",
      "|      48|\n",
      "|      51|\n",
      "|      54|\n",
      "|      57|\n",
      "|      60|\n",
      "|      63|\n",
      "|      66|\n",
      "|      69|\n",
      "|      72|\n",
      "|      75|\n",
      "|      78|\n",
      "|      81|\n",
      "|      84|\n",
      "|      87|\n",
      "|      90|\n",
      "|      93|\n",
      "|      96|\n",
      "|      99|\n",
      "|     102|\n",
      "|     105|\n",
      "+--------+\n",
      "only showing top 20 rows\n",
      "\n"
     ]
    }
   ],
   "source": [
    "#naming the created column\n",
    "df.select(my_column.alias('quantity')).show()"
   ]
  },
  {
   "cell_type": "code",
   "execution_count": 30,
   "metadata": {},
   "outputs": [
    {
     "name": "stdout",
     "output_type": "stream",
     "text": [
      "+--------+\n",
      "|quantity|\n",
      "+--------+\n",
      "|      48|\n",
      "|      51|\n",
      "|      54|\n",
      "|      57|\n",
      "|      60|\n",
      "|      63|\n",
      "|      66|\n",
      "|      69|\n",
      "|      72|\n",
      "|      75|\n",
      "|      78|\n",
      "|      81|\n",
      "|      84|\n",
      "|      87|\n",
      "|      90|\n",
      "|      93|\n",
      "|      96|\n",
      "|      99|\n",
      "|     102|\n",
      "|     105|\n",
      "+--------+\n",
      "only showing top 20 rows\n",
      "\n"
     ]
    }
   ],
   "source": [
    "#alternate way; can't reference cols that haven't been created this way\n",
    "df.select(((df.n + 16) * 3).alias('quantity')).show()"
   ]
  },
  {
   "cell_type": "code",
   "execution_count": 32,
   "metadata": {},
   "outputs": [
    {
     "name": "stdout",
     "output_type": "stream",
     "text": [
      "+--------+\n",
      "|quantity|\n",
      "+--------+\n",
      "|      48|\n",
      "|      51|\n",
      "|      54|\n",
      "|      57|\n",
      "|      60|\n",
      "|      63|\n",
      "|      66|\n",
      "|      69|\n",
      "|      72|\n",
      "|      75|\n",
      "|      78|\n",
      "|      81|\n",
      "|      84|\n",
      "|      87|\n",
      "|      90|\n",
      "|      93|\n",
      "|      96|\n",
      "|      99|\n",
      "|     102|\n",
      "|     105|\n",
      "+--------+\n",
      "only showing top 20 rows\n",
      "\n"
     ]
    }
   ],
   "source": [
    "#third method; similar to sql queries\n",
    "df.select(expr('(n+16)*3 AS quantity')).show()"
   ]
  },
  {
   "cell_type": "code",
   "execution_count": 33,
   "metadata": {},
   "outputs": [
    {
     "data": {
      "text/plain": [
       "DataFrame[n: string]"
      ]
     },
     "execution_count": 33,
     "metadata": {},
     "output_type": "execute_result"
    }
   ],
   "source": [
    "#change type of column with cast function\n",
    "df.select(df.n.cast('string'))"
   ]
  },
  {
   "cell_type": "code",
   "execution_count": 34,
   "metadata": {},
   "outputs": [
    {
     "name": "stdout",
     "output_type": "stream",
     "text": [
      "+------+\n",
      "|sum(n)|\n",
      "+------+\n",
      "|  4950|\n",
      "+------+\n",
      "\n"
     ]
    }
   ],
   "source": [
    "#aggregate function\n",
    "df.select(expr('sum(n)')).show()"
   ]
  },
  {
   "cell_type": "code",
   "execution_count": 36,
   "metadata": {},
   "outputs": [
    {
     "name": "stdout",
     "output_type": "stream",
     "text": [
      "+------+\n",
      "|sum(n)|\n",
      "+------+\n",
      "|  4950|\n",
      "+------+\n",
      "\n"
     ]
    }
   ],
   "source": [
    "#using built in function to aggregate\n",
    "\n",
    "from pyspark.sql.functions import sum\n",
    "\n",
    "df.select(sum(df.n)).show()"
   ]
  },
  {
   "cell_type": "code",
   "execution_count": 39,
   "metadata": {},
   "outputs": [
    {
     "name": "stdout",
     "output_type": "stream",
     "text": [
      "+-------+----+---+\n",
      "|the_sum|mean|min|\n",
      "+-------+----+---+\n",
      "|   4950|49.5|  0|\n",
      "+-------+----+---+\n",
      "\n"
     ]
    }
   ],
   "source": [
    "#agg fns can be combined\n",
    "df.select(sum(df.n).alias('the_sum'), expr('avg(n) as mean'), expr('min(n) as min')).show()"
   ]
  },
  {
   "cell_type": "code",
   "execution_count": null,
   "metadata": {},
   "outputs": [],
   "source": []
  }
 ],
 "metadata": {
  "kernelspec": {
   "display_name": "Python 3",
   "language": "python",
   "name": "python3"
  },
  "language_info": {
   "codemirror_mode": {
    "name": "ipython",
    "version": 3
   },
   "file_extension": ".py",
   "mimetype": "text/x-python",
   "name": "python",
   "nbconvert_exporter": "python",
   "pygments_lexer": "ipython3",
   "version": "3.7.1"
  }
 },
 "nbformat": 4,
 "nbformat_minor": 2
}
